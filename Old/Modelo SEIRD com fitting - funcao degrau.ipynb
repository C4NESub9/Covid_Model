{
 "cells": [
  {
   "cell_type": "markdown",
   "metadata": {
    "colab_type": "text",
    "id": "JDbZy9ovyHm4"
   },
   "source": [
    "# SEIRD Data Fitting Model from Henri Froesi for Brazilian States Covid19 - Evolution and Prediction"
   ]
  },
  {
   "cell_type": "markdown",
   "metadata": {},
   "source": [
    "## References: \n",
    "\n",
    "### [1] Modelling Beyond the Basic SIR Model - Henri Froesi - Towards Data Science\n",
    "#### https://towardsdatascience.com/infectious-disease-modelling-beyond-the-basic-sir-model-216369c584c4\n",
    "\n",
    "### [2] Infectious Disease Modelling. Fitting Your Model to Corona Virus Data - Henri Froesi-Towards Data Science\n",
    "#### https://towardsdatascience.com/infectious-disease-modelling-fit-your-model-to-coronavirus-data-2568e672dbc7"
   ]
  },
  {
   "cell_type": "markdown",
   "metadata": {},
   "source": [
    "### Adapted by Ivan Carlos P. da Cruz (GitHub @icpcruz)\n",
    "### Revision and contributions by Eduardo Correa Araújo"
   ]
  },
  {
   "cell_type": "markdown",
   "metadata": {},
   "source": [
    "# Model summary ref. [1]"
   ]
  },
  {
   "cell_type": "markdown",
   "metadata": {},
   "source": [
    "<img src=\"SEIRD%20model%20-%20general.png\" style=\"width:600px\" />"
   ]
  },
  {
   "cell_type": "markdown",
   "metadata": {
    "colab_type": "text",
    "id": "zWWq3zgge-R3"
   },
   "source": [
    "# Imports"
   ]
  },
  {
   "cell_type": "code",
   "execution_count": 1,
   "metadata": {
    "_cell_guid": "79c7e3d0-c299-4dcb-8224-4455121ee9b0",
    "_uuid": "d629ff2d2480ee46fbb7e2d37f6b5fab8052498a",
    "colab": {
     "base_uri": "https://localhost:8080/",
     "height": 607
    },
    "colab_type": "code",
    "id": "NHHL1iKyYN5-",
    "outputId": "c3af6e28-02ba-4ebf-d5dd-be29f9a68368"
   },
   "outputs": [],
   "source": [
    "import numpy as np\n",
    "import pandas as pd\n",
    "pd.options.mode.chained_assignment = None  # default='warn'\n",
    "\n",
    "import matplotlib.pyplot as plt\n",
    "import matplotlib.dates as mdates\n",
    "%matplotlib inline \n",
    "\n",
    "from scipy.integrate import odeint\n",
    "\n",
    "# !pip install lmfit - DONE !\n",
    "import lmfit\n",
    "from lmfit import Model # classe lmfit para a criação do modelo de fitting\n",
    "\n",
    "import numdifftools # permite que lmfit calcule a matriz de correlações\n",
    "\n",
    "import datetime\n",
    "\n",
    "import warnings\n",
    "warnings.filterwarnings('ignore')"
   ]
  },
  {
   "cell_type": "markdown",
   "metadata": {},
   "source": [
    "#### para centralizar os gráficos na página "
   ]
  },
  {
   "cell_type": "code",
   "execution_count": 2,
   "metadata": {},
   "outputs": [
    {
     "data": {
      "text/html": [
       "\n",
       "<style>\n",
       ".output_png {\n",
       "    display: table-cell;\n",
       "    text-align: center;\n",
       "    vertical-align: middle;\n",
       "}\n",
       "</style>\n"
      ],
      "text/plain": [
       "<IPython.core.display.HTML object>"
      ]
     },
     "execution_count": 2,
     "metadata": {},
     "output_type": "execute_result"
    }
   ],
   "source": [
    "from IPython.core.display import HTML\n",
    "HTML(\"\"\"\n",
    "<style>\n",
    ".output_png {\n",
    "    display: table-cell;\n",
    "    text-align: center;\n",
    "    vertical-align: middle;\n",
    "}\n",
    "</style>\n",
    "\"\"\")"
   ]
  },
  {
   "cell_type": "markdown",
   "metadata": {},
   "source": [
    "## Importação de dados de óbitos diários por estado brasileiro (NE)"
   ]
  },
  {
   "cell_type": "markdown",
   "metadata": {},
   "source": [
    "### Diretório sincronizado com o GitHub dos dados (arquivos csv):"
   ]
  },
  {
   "cell_type": "code",
   "execution_count": 3,
   "metadata": {},
   "outputs": [],
   "source": [
    "path = \"C:/Users/Ivan/Documents/GitHub/googleData/data/\""
   ]
  },
  {
   "cell_type": "markdown",
   "metadata": {},
   "source": [
    "### Dicionário de nomes dos arquivos de óbitos diários por estado do NE"
   ]
  },
  {
   "cell_type": "code",
   "execution_count": 4,
   "metadata": {},
   "outputs": [],
   "source": [
    "pref = \"ON\"\n",
    "suf  = \"_An.csv\"\n",
    "Data_files_names = {\n",
    "    \"Alagoas\"    : pref+\"AiL\"+suf ,\n",
    "    \"Bahia\"      : pref+\"BiA\"+suf ,\n",
    "    \"Ceará\"      : pref+\"CiE\"+suf ,\n",
    "    \"Maranhão\"   : pref+\"MiA\"+suf ,\n",
    "    \"Paraíba\"    : pref+\"PiB\"+suf ,\n",
    "    \"Pernambuco\" : pref+\"PiE\"+suf ,\n",
    "    \"Piauí\"      : pref+\"PiI\"+suf ,\n",
    "    \"RioGrdoN\"   : pref+\"RiN\"+suf ,\n",
    "    \"Sergipe\"    : pref+\"SiE\"+suf\n",
    "}"
   ]
  },
  {
   "cell_type": "markdown",
   "metadata": {},
   "source": [
    "### Leitura dos arquivos (atualizados diariamente)"
   ]
  },
  {
   "cell_type": "code",
   "execution_count": 5,
   "metadata": {
    "scrolled": true
   },
   "outputs": [],
   "source": [
    "data_ON_AL = pd.read_csv(path+Data_files_names[\"Alagoas\"], sep =\",\")\n",
    "data_ON_BA = pd.read_csv(path+Data_files_names[\"Bahia\"], sep =\",\")\n",
    "data_ON_CE = pd.read_csv(path+Data_files_names[\"Ceará\"], sep =\",\")\n",
    "data_ON_MA = pd.read_csv(path+Data_files_names[\"Maranhão\"], sep =\",\")\n",
    "data_ON_PB = pd.read_csv(path+Data_files_names[\"Paraíba\"], sep =\",\")\n",
    "data_ON_PE = pd.read_csv(path+Data_files_names[\"Pernambuco\"], sep =\",\")\n",
    "data_ON_PI = pd.read_csv(path+Data_files_names[\"Piauí\"], sep =\",\")\n",
    "data_ON_RN = pd.read_csv(path+Data_files_names[\"RioGrdoN\"], sep =\",\")\n",
    "data_ON_SE = pd.read_csv(path+Data_files_names[\"Sergipe\"], sep =\",\")"
   ]
  },
  {
   "cell_type": "markdown",
   "metadata": {},
   "source": [
    "### \"Parsing\" das datas"
   ]
  },
  {
   "cell_type": "code",
   "execution_count": 6,
   "metadata": {},
   "outputs": [],
   "source": [
    "format_str = \"%Y-%m-%d\"\n",
    "data_ON_AL['Data'] = data_ON_AL['Data'].apply(lambda x:datetime.datetime.strptime(x,format_str))\n",
    "data_ON_BA['Data'] = data_ON_BA['Data'].apply(lambda x:datetime.datetime.strptime(x,format_str))\n",
    "data_ON_CE['Data'] = data_ON_CE['Data'].apply(lambda x:datetime.datetime.strptime(x,format_str))\n",
    "data_ON_MA['Data'] = data_ON_MA['Data'].apply(lambda x:datetime.datetime.strptime(x,format_str))\n",
    "data_ON_PB['Data'] = data_ON_PB['Data'].apply(lambda x:datetime.datetime.strptime(x,format_str))\n",
    "data_ON_PE['Data'] = data_ON_PE['Data'].apply(lambda x:datetime.datetime.strptime(x,format_str))\n",
    "data_ON_PI['Data'] = data_ON_PI['Data'].apply(lambda x:datetime.datetime.strptime(x,format_str))\n",
    "data_ON_RN['Data'] = data_ON_RN['Data'].apply(lambda x:datetime.datetime.strptime(x,format_str))\n",
    "data_ON_SE['Data'] = data_ON_SE['Data'].apply(lambda x:datetime.datetime.strptime(x,format_str))"
   ]
  },
  {
   "cell_type": "code",
   "execution_count": 7,
   "metadata": {},
   "outputs": [
    {
     "name": "stdout",
     "output_type": "stream",
     "text": [
      "<class 'pandas.core.frame.DataFrame'>\n",
      "RangeIndex: 85 entries, 0 to 84\n",
      "Data columns (total 2 columns):\n",
      "Data        85 non-null datetime64[ns]\n",
      "ONCiE_An    85 non-null float64\n",
      "dtypes: datetime64[ns](1), float64(1)\n",
      "memory usage: 1.4 KB\n"
     ]
    }
   ],
   "source": [
    "data_ON_CE.info()"
   ]
  },
  {
   "cell_type": "code",
   "execution_count": 8,
   "metadata": {},
   "outputs": [
    {
     "data": {
      "text/html": [
       "<div>\n",
       "<style scoped>\n",
       "    .dataframe tbody tr th:only-of-type {\n",
       "        vertical-align: middle;\n",
       "    }\n",
       "\n",
       "    .dataframe tbody tr th {\n",
       "        vertical-align: top;\n",
       "    }\n",
       "\n",
       "    .dataframe thead th {\n",
       "        text-align: right;\n",
       "    }\n",
       "</style>\n",
       "<table border=\"1\" class=\"dataframe\">\n",
       "  <thead>\n",
       "    <tr style=\"text-align: right;\">\n",
       "      <th></th>\n",
       "      <th>Data</th>\n",
       "      <th>ONCiE_An</th>\n",
       "    </tr>\n",
       "  </thead>\n",
       "  <tbody>\n",
       "    <tr>\n",
       "      <th>80</th>\n",
       "      <td>2020-06-05</td>\n",
       "      <td>77.0</td>\n",
       "    </tr>\n",
       "    <tr>\n",
       "      <th>81</th>\n",
       "      <td>2020-06-06</td>\n",
       "      <td>75.0</td>\n",
       "    </tr>\n",
       "    <tr>\n",
       "      <th>82</th>\n",
       "      <td>2020-06-07</td>\n",
       "      <td>17.0</td>\n",
       "    </tr>\n",
       "    <tr>\n",
       "      <th>83</th>\n",
       "      <td>2020-06-08</td>\n",
       "      <td>138.0</td>\n",
       "    </tr>\n",
       "    <tr>\n",
       "      <th>84</th>\n",
       "      <td>2020-06-09</td>\n",
       "      <td>189.0</td>\n",
       "    </tr>\n",
       "  </tbody>\n",
       "</table>\n",
       "</div>"
      ],
      "text/plain": [
       "         Data  ONCiE_An\n",
       "80 2020-06-05      77.0\n",
       "81 2020-06-06      75.0\n",
       "82 2020-06-07      17.0\n",
       "83 2020-06-08     138.0\n",
       "84 2020-06-09     189.0"
      ]
     },
     "execution_count": 8,
     "metadata": {},
     "output_type": "execute_result"
    }
   ],
   "source": [
    "data_ON_CE.tail()"
   ]
  },
  {
   "cell_type": "code",
   "execution_count": 9,
   "metadata": {},
   "outputs": [
    {
     "data": {
      "text/html": [
       "<div>\n",
       "<style scoped>\n",
       "    .dataframe tbody tr th:only-of-type {\n",
       "        vertical-align: middle;\n",
       "    }\n",
       "\n",
       "    .dataframe tbody tr th {\n",
       "        vertical-align: top;\n",
       "    }\n",
       "\n",
       "    .dataframe thead th {\n",
       "        text-align: right;\n",
       "    }\n",
       "</style>\n",
       "<table border=\"1\" class=\"dataframe\">\n",
       "  <thead>\n",
       "    <tr style=\"text-align: right;\">\n",
       "      <th></th>\n",
       "      <th>ONCiE_An</th>\n",
       "    </tr>\n",
       "  </thead>\n",
       "  <tbody>\n",
       "    <tr>\n",
       "      <th>count</th>\n",
       "      <td>85.000000</td>\n",
       "    </tr>\n",
       "    <tr>\n",
       "      <th>mean</th>\n",
       "      <td>50.694118</td>\n",
       "    </tr>\n",
       "    <tr>\n",
       "      <th>std</th>\n",
       "      <td>60.005560</td>\n",
       "    </tr>\n",
       "    <tr>\n",
       "      <th>min</th>\n",
       "      <td>0.000000</td>\n",
       "    </tr>\n",
       "    <tr>\n",
       "      <th>25%</th>\n",
       "      <td>4.000000</td>\n",
       "    </tr>\n",
       "    <tr>\n",
       "      <th>50%</th>\n",
       "      <td>25.000000</td>\n",
       "    </tr>\n",
       "    <tr>\n",
       "      <th>75%</th>\n",
       "      <td>75.000000</td>\n",
       "    </tr>\n",
       "    <tr>\n",
       "      <th>max</th>\n",
       "      <td>261.000000</td>\n",
       "    </tr>\n",
       "  </tbody>\n",
       "</table>\n",
       "</div>"
      ],
      "text/plain": [
       "         ONCiE_An\n",
       "count   85.000000\n",
       "mean    50.694118\n",
       "std     60.005560\n",
       "min      0.000000\n",
       "25%      4.000000\n",
       "50%     25.000000\n",
       "75%     75.000000\n",
       "max    261.000000"
      ]
     },
     "execution_count": 9,
     "metadata": {},
     "output_type": "execute_result"
    }
   ],
   "source": [
    "data_ON_CE.describe()"
   ]
  },
  {
   "cell_type": "markdown",
   "metadata": {},
   "source": [
    "### Definindo as colunas 'Data' como índices"
   ]
  },
  {
   "cell_type": "code",
   "execution_count": 10,
   "metadata": {},
   "outputs": [
    {
     "name": "stdout",
     "output_type": "stream",
     "text": [
      "<class 'pandas.core.frame.DataFrame'>\n",
      "RangeIndex: 85 entries, 0 to 84\n",
      "Data columns (total 2 columns):\n",
      "Data        85 non-null datetime64[ns]\n",
      "ONCiE_An    85 non-null float64\n",
      "dtypes: datetime64[ns](1), float64(1)\n",
      "memory usage: 1.4 KB\n"
     ]
    }
   ],
   "source": [
    "data_ON_AL.set_index('Data')\n",
    "data_ON_BA.set_index('Data')\n",
    "data_ON_CE.set_index('Data')\n",
    "data_ON_MA.set_index('Data')\n",
    "data_ON_PB.set_index('Data')\n",
    "data_ON_PE.set_index('Data')\n",
    "data_ON_PI.set_index('Data')\n",
    "data_ON_RN.set_index('Data')\n",
    "data_ON_SE.set_index('Data')\n",
    "data_ON_CE.info()"
   ]
  },
  {
   "cell_type": "markdown",
   "metadata": {},
   "source": [
    "## Parâmetros Epidemiológicos Assumidos para a Covid-19 (como universais) p/o SEIRD"
   ]
  },
  {
   "cell_type": "code",
   "execution_count": 11,
   "metadata": {},
   "outputs": [
    {
     "name": "stdout",
     "output_type": "stream",
     "text": [
      "\n",
      " *** PARÂMETROS EPIDEMIOLÓGICOS ADOTADOS NO MODELO SEIRD: \n",
      "\n",
      "    Freq de letalidade   (alpha) = 0.005\n",
      "    Freq de incubação    (delta) = 0.200\n",
      "    Freq de infetividade (gamma) = 0.111\n",
      "    Freq para óbito      (rho)   = 0.059\n"
     ]
    }
   ],
   "source": [
    "#\n",
    "# VALORES MÉDIOS ASSUMIDOS (ref. https://theconversation.com/how-long-are-you-infectious-when-you-have-coronavirus-135295):\n",
    "#\n",
    "num_of_incubation     = 5      # número de dias de incubação da doença (1/delta). \n",
    "num_of_infecting_days = 9      # número de dias que um infectado (ativo) infecta outros (= D = 1/gama)\n",
    "num_to_dead           = 17     # número de dias para evoluir de infectado para óbito (1/rho)\n",
    "subnotif_index        = 12     # número de vezes que os casos reais de infectados é maior que os notificados\n",
    "apparent_letality     = 0.065  # taxa aparente de letalidade (% dos notificados que vão a óbito)\n",
    "#\n",
    "Epi_days              = 200    # duração arbitrada da pandemia\n",
    "#\n",
    "# FREQUÊNCIAS (POR DIA) CORRESPONDENTES\n",
    "#\n",
    "alpha = apparent_letality/subnotif_index\n",
    "delta = 1/num_of_incubation\n",
    "gamma = 1/num_of_infecting_days  \n",
    "rho   = 1/num_to_dead\n",
    "#\n",
    "print('\\n','*** PARÂMETROS EPIDEMIOLÓGICOS ADOTADOS NO MODELO SEIRD:','\\n')\n",
    "print('    Freq de letalidade   (alpha) = {:.3f}'.format(alpha))\n",
    "print('    Freq de incubação    (delta) = {:.3f}'.format(delta))\n",
    "print('    Freq de infetividade (gamma) = {:.3f}'.format(gamma))\n",
    "print('    Freq para óbito      (rho)   = {:.3f}'.format(rho))"
   ]
  },
  {
   "cell_type": "markdown",
   "metadata": {},
   "source": [
    "### Dados da população por estado"
   ]
  },
  {
   "cell_type": "code",
   "execution_count": 12,
   "metadata": {},
   "outputs": [],
   "source": [
    "N_BR ={\"Brasil\": 210147125, \n",
    "             \"Nordeste\": \n",
    "                 {'MA':7075181, \n",
    "                  'PI':3273227, \n",
    "                  'CE':9132078, \n",
    "                  'RN':3506853, \n",
    "                  'PB':4018127, \n",
    "                  'PE':9557071, \n",
    "                  'AL':3337357, \n",
    "                  'SE':2298696, \n",
    "                  'BA':14873064}, \n",
    "             \"Norte\": \n",
    "                 {'RO':1777225, \n",
    "                  'AC':881935, \n",
    "                  'AM':4144597, \n",
    "                  'RR': 605761, \n",
    "                  'PA':8602865, \n",
    "                  'AP':845731, \n",
    "                  'TO':1572866}, \n",
    "             \"Sudeste\": \n",
    "                 {'MG':21168791,\n",
    "                  'ES':4018650, \n",
    "                  'RJ':17264943, \n",
    "                  'SP':45919049}, \n",
    "             \"Sul\": \n",
    "                 {'PR':11433957, \n",
    "                  'SC':7164788, \n",
    "                  'RS':11377239}, \n",
    "             \"Centro-Oeste\": \n",
    "                 {'MS':2778986, \n",
    "                  'MT':3484466, \n",
    "                  'GO':7018354, \n",
    "                  'DF':3015268} }"
   ]
  },
  {
   "cell_type": "markdown",
   "metadata": {
    "colab_type": "text",
    "id": "UCHaMqyEfBxX"
   },
   "source": [
    "# Modelo com R_0 (e \"beta\") dependentes do tempo"
   ]
  },
  {
   "cell_type": "markdown",
   "metadata": {},
   "source": [
    "### Função sistema de EDOs do modelo SEIRD que é recursivamente chamada pelo solver das ODEs"
   ]
  },
  {
   "cell_type": "code",
   "execution_count": 13,
   "metadata": {},
   "outputs": [],
   "source": [
    "def deriv(y, t, N, beta, gamma, delta, alpha, rho):\n",
    "    #\n",
    "    S, E, I, R, D = y\n",
    "    #\n",
    "    dSdt = -beta(t) * S * I / N\n",
    "    dEdt = beta(t) * S * I / N - delta * E\n",
    "    dIdt = delta * E - (1 - alpha) * gamma * I - alpha * rho * I\n",
    "    dRdt = (1 - alpha) * gamma * I\n",
    "    dDdt = alpha * rho * I\n",
    "    #\n",
    "    return dSdt, dEdt, dIdt, dRdt, dDdt"
   ]
  },
  {
   "cell_type": "markdown",
   "metadata": {},
   "source": [
    "### R_0(t) como uma função degrau de 2 alturas (c/5 parâms a serem ajustados pelo algorítimo de fitting/otimização)"
   ]
  },
  {
   "cell_type": "code",
   "execution_count": 14,
   "metadata": {},
   "outputs": [],
   "source": [
    "def dois_saltos_R_0(t, R_0_start, x0, R_0_mid, x1, R_0_end):\n",
    "    if (R_0_start>R_0_mid>R_0_end) and (x0<x1):\n",
    "        if t < x0:\n",
    "            f = R_0_start\n",
    "        elif x0 <=t < x1:\n",
    "            f = R_0_mid\n",
    "        else:\n",
    "            f = R_0_end\n",
    "    else:\n",
    "        f = np.average(np.absolute(np.array([R_0_start, R_0_mid, R_0_end])))\n",
    "    return f "
   ]
  },
  {
   "cell_type": "markdown",
   "metadata": {},
   "source": [
    "### Gráfico da função degrau para R_0_(t) (OBS: não há interpolação linear entre os patamares)"
   ]
  },
  {
   "cell_type": "code",
   "execution_count": 15,
   "metadata": {},
   "outputs": [
    {
     "data": {
      "image/png": "[encoded data removed]",
      "text/plain": [
       "<Figure size 720x288 with 1 Axes>"
      ]
     },
     "metadata": {
      "needs_background": "light"
     },
     "output_type": "display_data"
    }
   ],
   "source": [
    "xt=np.arange(10)\n",
    "yt=np.zeros(10)\n",
    "i = 0\n",
    "for item in xt:\n",
    "    yt[i] = dois_saltos_R_0(xt[i], 8, 4, 6, 8, 4)\n",
    "    i += 1\n",
    "\n",
    "plt.figure(figsize = [10, 4])\n",
    "plt.xlim(0,10)\n",
    "plt.plot(xt, yt, label = 'Função degrau de 2 passos e 5 params.', color='r')\n",
    "plt.legend()\n",
    "plt.show()"
   ]
  },
  {
   "cell_type": "markdown",
   "metadata": {},
   "source": [
    "#### Os parâmetros que serão ajustados no processo de otimização (fitting), são:"
   ]
  },
  {
   "cell_type": "markdown",
   "metadata": {},
   "source": [
    "#### Valores inicias arbitrados dos parâmetros para o processo de otimização dados como tuplas (esperado, mínimo, máximo)"
   ]
  },
  {
   "cell_type": "code",
   "execution_count": 16,
   "metadata": {},
   "outputs": [],
   "source": [
    "params_init_min_max = {\"R_0_start\": (3.5, 2.0, 6.0),\n",
    "                       \"x0\":        (10.0, 2.0, 100.0),\n",
    "                       \"R_0_mid\":   (1.5, 0.5 , 3),\n",
    "                       \"x1\":        (110, 100.1, 250), \n",
    "                       \"R_0_end\":   (0.6, 0.1, 1.5)}"
   ]
  },
  {
   "cell_type": "markdown",
   "metadata": {
    "colab_type": "text",
    "id": "J_5dKWOEgTzM"
   },
   "source": [
    "# Ajuste das curvas R_0(t) e SEIRD a partir dos dados de mortalidade diária"
   ]
  },
  {
   "cell_type": "markdown",
   "metadata": {},
   "source": [
    "### Definição da função solver do sistema de EDOs do modelo SEIRD que é recursivamente chamada pelo algoritmo de otimização (fitting aos dados) "
   ]
  },
  {
   "cell_type": "code",
   "execution_count": 17,
   "metadata": {},
   "outputs": [],
   "source": [
    "def SolverEDOs(days, N, R_0_start, x0, R_0_mid, x1, R_0_end):\n",
    "    #\n",
    "    # definição da função beta(t) = R_0(t)*gama\n",
    "    #\n",
    "    def beta(t):\n",
    "        return dois_saltos_R_0(t, R_0_start, x0, R_0_mid, x1, R_0_end) * gamma\n",
    "    #\n",
    "    # Valores iniciais das variáveid do SEIRD: N-1 (população), 1 exposto, 0 infectado, recuperados ou mortos\n",
    "    #\n",
    "    y0 = N-1.0, 1.0, 0.0, 0.0, 0.0\n",
    "    #\n",
    "    # geração da grid temporal a partir da quantidade de dias informados\n",
    "    #\n",
    "    t = np.arange(days)\n",
    "    #print(t)\n",
    "    #\n",
    "    # Integração do sistema de EDOs - o sistema é passado pela função 'deriv' na chamada do solver\n",
    "    #\n",
    "    ret = odeint(deriv, y0, t, args=(N, beta, gamma, delta, alpha, rho))\n",
    "    #\n",
    "    # Salvando os resultados nas variáveis do sistema\n",
    "    #\n",
    "    S, E, I, R, D = ret.T\n",
    "    #\n",
    "    # Cálculo de R_0(t)\n",
    "    #\n",
    "    R_0_over_time = [beta(i)/gamma for i in range(len(t))]\n",
    "    #\n",
    "    return t, S, E, I, R, D, R_0_over_time"
   ]
  },
  {
   "cell_type": "markdown",
   "metadata": {},
   "source": [
    "### Estado teste: Maranhão"
   ]
  },
  {
   "cell_type": "code",
   "execution_count": 18,
   "metadata": {},
   "outputs": [],
   "source": [
    "N = N_BR['Nordeste']['MA']                 # <-- população do estado\n",
    "y_data = data_ON_MA['ONMiA_An'].to_numpy() # <-- de pandas series para numpy array - ndarray \n",
    "x_data = np.arange(len(y_data))            # <-- do dia 1 ao final da série (Python inicia em 'zero', daí o +1)\n",
    "days   = len(x_data)                       # <-- duração, até \"hoje\", da pandemia no estado, para o fitting dos parâmetros"
   ]
  },
  {
   "cell_type": "markdown",
   "metadata": {},
   "source": [
    "### Definição da função de fitting que chama o solver das EDOs"
   ]
  },
  {
   "cell_type": "code",
   "execution_count": 19,
   "metadata": {
    "colab": {},
    "colab_type": "code",
    "id": "Wr4UIS6q4M8z"
   },
   "outputs": [],
   "source": [
    "def fitter(x, R_0_start, x0, R_0_mid, x1, R_0_end):\n",
    "    ret = SolverEDOs(days, N, R_0_start, x0, R_0_mid, x1, R_0_end) # <-- chama solver das EDOs (q chama odeint para integrar)\n",
    "    deaths_fitted = ret[5]                                            # <-- óbitos: 6o elem. da tupla (t, S, E, I, R, D, R_0)\n",
    "    return deaths_fitted[x]                                           # <-- retorna vetor com as fatalidades no tempo "
   ]
  },
  {
   "cell_type": "markdown",
   "metadata": {},
   "source": [
    "### Criando o modelo de fitting com o pacote 'lmfit' "
   ]
  },
  {
   "cell_type": "code",
   "execution_count": 20,
   "metadata": {
    "colab": {},
    "colab_type": "code",
    "id": "NglgxTIeg16G"
   },
   "outputs": [],
   "source": [
    "# Cria o modelo de fitting passando a função fitter como parâmetro para lmfit \n",
    "#\n",
    "mod = lmfit.Model(fitter)\n",
    "#\n",
    "# Criação do vetor de parâmetros para o fitting, incluindo 3 estimativas iniciais (inicial, min, max) p/cada parâmetro\n",
    "#\n",
    "for kwarg, (init, mini, maxi) in params_init_min_max.items(): # <-- usa as estimativas fornecidas acima\n",
    "    mod.set_param_hint(str(kwarg), value=init, min=mini, max=maxi, vary=True)\n",
    "#\n",
    "# Criação do vetor de parâmetros para o otimizador\n",
    "#\n",
    "params = mod.make_params()"
   ]
  },
  {
   "cell_type": "code",
   "execution_count": 21,
   "metadata": {},
   "outputs": [
    {
     "data": {
      "text/html": [
       "<table><tr><th> name </th><th> value </th><th> initial value </th><th> min </th><th> max </th><th> vary </th></tr><tr><td> R_0_start </td><td>  3.50000000 </td><td> None </td><td>  2.00000000 </td><td>  6.00000000 </td><td> True </td></tr><tr><td> x0 </td><td>  10.0000000 </td><td> None </td><td>  2.00000000 </td><td>  100.000000 </td><td> True </td></tr><tr><td> R_0_mid </td><td>  1.50000000 </td><td> None </td><td>  0.50000000 </td><td>  3.00000000 </td><td> True </td></tr><tr><td> x1 </td><td>  110.000000 </td><td> None </td><td>  100.100000 </td><td>  250.000000 </td><td> True </td></tr><tr><td> R_0_end </td><td>  0.60000000 </td><td> None </td><td>  0.10000000 </td><td>  1.50000000 </td><td> True </td></tr></table>"
      ],
      "text/plain": [
       "Parameters([('R_0_start',\n",
       "             <Parameter 'R_0_start', value=3.5, bounds=[2.0:6.0]>),\n",
       "            ('x0', <Parameter 'x0', value=10.0, bounds=[2.0:100.0]>),\n",
       "            ('R_0_mid', <Parameter 'R_0_mid', value=1.5, bounds=[0.5:3]>),\n",
       "            ('x1', <Parameter 'x1', value=110, bounds=[100.1:250]>),\n",
       "            ('R_0_end', <Parameter 'R_0_end', value=0.6, bounds=[0.1:1.5]>)])"
      ]
     },
     "execution_count": 21,
     "metadata": {},
     "output_type": "execute_result"
    }
   ],
   "source": [
    "params"
   ]
  },
  {
   "cell_type": "markdown",
   "metadata": {},
   "source": [
    "### Realizando o fitting com os dados de óbitos diários (não suavizados)"
   ]
  },
  {
   "cell_type": "code",
   "execution_count": 22,
   "metadata": {
    "colab": {},
    "colab_type": "code",
    "id": "aV7wA-UXhaXo"
   },
   "outputs": [],
   "source": [
    "result = mod.fit(y_data, params, method=\"least_squares\", x=x_data)"
   ]
  },
  {
   "cell_type": "code",
   "execution_count": 23,
   "metadata": {
    "colab": {
     "base_uri": "https://localhost:8080/",
     "height": 308
    },
    "colab_type": "code",
    "id": "4V-U0BvkrLpl",
    "outputId": "688e951a-baae-4693-d8dc-4ce4581d0c03"
   },
   "outputs": [
    {
     "data": {
      "image/png": "[encoded data removed]",
      "text/plain": [
       "<Figure size 432x288 with 1 Axes>"
      ]
     },
     "metadata": {
      "needs_background": "light"
     },
     "output_type": "display_data"
    }
   ],
   "source": [
    "result.plot_fit(datafmt=\"-\");"
   ]
  },
  {
   "cell_type": "code",
   "execution_count": 24,
   "metadata": {},
   "outputs": [
    {
     "data": {
      "text/html": [
       "<h2> Model</h2> Model(fitter) <h2>Fit Statistics</h2><table><tr><td>fitting method</td><td>least_squares</td><td></td></tr><tr><td># function evals</td><td>6</td><td></td></tr><tr><td># data points</td><td>81</td><td></td></tr><tr><td># variables</td><td>5</td><td></td></tr><tr><td>chi-square</td><td> 17546.3799</td><td></td></tr><tr><td>reduced chi-square</td><td> 230.873420</td><td></td></tr><tr><td>Akaike info crit.</td><td> 445.630456</td><td></td></tr><tr><td>Bayesian info crit.</td><td> 457.602702</td><td></td></tr></table><h2>Variables</h2><table><tr><th> name </th><th> value </th><th> initial value </th><th> min </th><th> max </th><th> vary </th></tr><tr><td> R_0_start </td><td>  3.90426960 </td><td> 3.5 </td><td>  2.00000000 </td><td>  6.00000000 </td><td> True </td></tr><tr><td> x0 </td><td>  95.2067214 </td><td> 10.0 </td><td>  2.00000000 </td><td>  100.000000 </td><td> True </td></tr><tr><td> R_0_mid </td><td>  1.54105437 </td><td> 1.5 </td><td>  0.50000000 </td><td>  3.00000000 </td><td> True </td></tr><tr><td> x1 </td><td>  110.000000 </td><td> 110 </td><td>  100.100000 </td><td>  250.000000 </td><td> True </td></tr><tr><td> R_0_end </td><td>  0.60000000 </td><td> 0.6 </td><td>  0.10000000 </td><td>  1.50000000 </td><td> True </td></tr></table>"
      ],
      "text/plain": [
       "<lmfit.model.ModelResult at 0x1d8befcd780>"
      ]
     },
     "execution_count": 24,
     "metadata": {},
     "output_type": "execute_result"
    }
   ],
   "source": [
    "result"
   ]
  },
  {
   "cell_type": "markdown",
   "metadata": {},
   "source": [
    "## Realizando o fitting com os dados de óbitos diários suavizados (por média móvel)"
   ]
  },
  {
   "cell_type": "code",
   "execution_count": 25,
   "metadata": {
    "scrolled": true
   },
   "outputs": [],
   "source": [
    "window_size = 10 #  <-- tamanho da janela móvel para a suavização\n",
    "\n",
    "# First, we need to convert y_data Numpy ndarray to a Pandas Series\n",
    "\n",
    "y_series = pd.Series(y_data)\n",
    "\n",
    "# Tail-rolling average transform\n",
    "\n",
    "y_rolling_S = y_series.rolling(window=window_size).mean().dropna()\n",
    "\n",
    "# Now getting back to a ndarray\n",
    "\n",
    "y_rolling = y_rolling_S.to_numpy()\n",
    "x_rolling = x_data[window_size-1:] # <-- remove os 'n-1' pontos do início da série por conta da média móvel sobre 'n' pontos\n"
   ]
  },
  {
   "cell_type": "code",
   "execution_count": 26,
   "metadata": {},
   "outputs": [],
   "source": [
    "result_roll = mod.fit(y_rolling, params, method=\"least_squares\", x=x_rolling)"
   ]
  },
  {
   "cell_type": "code",
   "execution_count": 27,
   "metadata": {
    "scrolled": true
   },
   "outputs": [
    {
     "data": {
      "image/png": "[encoded data removed]",
      "text/plain": [
       "<Figure size 432x288 with 1 Axes>"
      ]
     },
     "metadata": {
      "needs_background": "light"
     },
     "output_type": "display_data"
    }
   ],
   "source": [
    "result_roll.plot_fit(datafmt=\"-\");"
   ]
  },
  {
   "cell_type": "code",
   "execution_count": 34,
   "metadata": {},
   "outputs": [
    {
     "data": {
      "text/html": [
       "<h2> Model</h2> Model(fitter) <h2>Fit Statistics</h2><table><tr><td>fitting method</td><td>least_squares</td><td></td></tr><tr><td># function evals</td><td>7</td><td></td></tr><tr><td># data points</td><td>72</td><td></td></tr><tr><td># variables</td><td>5</td><td></td></tr><tr><td>chi-square</td><td> 13580.0523</td><td></td></tr><tr><td>reduced chi-square</td><td> 202.687347</td><td></td></tr><tr><td>Akaike info crit.</td><td> 387.257761</td><td></td></tr><tr><td>Bayesian info crit.</td><td> 398.641092</td><td></td></tr></table><h2>Variables</h2><table><tr><th> name </th><th> value </th><th> initial value </th><th> min </th><th> max </th><th> vary </th></tr><tr><td> R_0_start </td><td>  3.81311450 </td><td> 3.5 </td><td>  2.00000000 </td><td>  6.00000000 </td><td> True </td></tr><tr><td> x0 </td><td>  95.2066904 </td><td> 10.0 </td><td>  2.00000000 </td><td>  100.000000 </td><td> True </td></tr><tr><td> R_0_mid </td><td>  1.53318643 </td><td> 1.5 </td><td>  0.50000000 </td><td>  3.00000000 </td><td> True </td></tr><tr><td> x1 </td><td>  110.000000 </td><td> 110 </td><td>  100.100000 </td><td>  250.000000 </td><td> True </td></tr><tr><td> R_0_end </td><td>  0.60000000 </td><td> 0.6 </td><td>  0.10000000 </td><td>  1.50000000 </td><td> True </td></tr></table>"
      ],
      "text/plain": [
       "<lmfit.model.ModelResult at 0x1d8c1471668>"
      ]
     },
     "execution_count": 34,
     "metadata": {},
     "output_type": "execute_result"
    }
   ],
   "source": [
    "result_roll"
   ]
  },
  {
   "cell_type": "markdown",
   "metadata": {},
   "source": [
    "### Parâmetros otimizados do modelo com dados diários (suavizados)"
   ]
  },
  {
   "cell_type": "markdown",
   "metadata": {},
   "source": [
    "#### Vetor de parâmetros para usar na geração dos gráficos e data_frame dos forecasts"
   ]
  },
  {
   "cell_type": "code",
   "execution_count": 37,
   "metadata": {},
   "outputs": [],
   "source": [
    "paramsfit = result_roll.best_values\n",
    "#\n",
    "parametros = []\n",
    "parametros.append(paramsfit['R_0_start'])\n",
    "parametros.append(paramsfit['x0'])\n",
    "parametros.append(paramsfit['R_0_mid'])\n",
    "parametros.append(paramsfit['x1'])\n",
    "parametros.append(paramsfit['R_0_end'])"
   ]
  },
  {
   "cell_type": "markdown",
   "metadata": {},
   "source": [
    "#### Parâmetros da função R_0(t) (função degrau - 2 saltos) "
   ]
  },
  {
   "cell_type": "code",
   "execution_count": 38,
   "metadata": {},
   "outputs": [
    {
     "name": "stdout",
     "output_type": "stream",
     "text": [
      "\n",
      " *** PARÂMETROS OTIMIZADOS DA FUNC 2-DEGRAUS DE R_0 PELO FITTING COM OS DADOS DE ÓBITOS: \n",
      "\n",
      "    R_0_start = 3.81\n",
      "    x_0       = 95.21\n",
      "    R_0_mid   = 1.53\n",
      "    x_1       = 110.00\n",
      "    R_0_end   = 0.60\n"
     ]
    }
   ],
   "source": [
    "print('\\n','*** PARÂMETROS OTIMIZADOS DA FUNC 2-DEGRAUS DE R_0 PELO FITTING COM OS DADOS DE ÓBITOS:','\\n')\n",
    "print('    R_0_start = {:.2f}'.format(paramsfit['R_0_start']))\n",
    "print('    x_0       = {:.2f}'.format(paramsfit['x0']))\n",
    "print('    R_0_mid   = {:.2f}'.format(paramsfit['R_0_mid']))\n",
    "print('    x_1       = {:.2f}'.format(paramsfit['x1']))\n",
    "print('    R_0_end   = {:.2f}'.format(paramsfit['R_0_end']))"
   ]
  },
  {
   "cell_type": "markdown",
   "metadata": {},
   "source": [
    "### Chamada do SOLVER com os parâmetros otimizados da função degrau para R_0(t) para obter as var SEIRD"
   ]
  },
  {
   "cell_type": "code",
   "execution_count": 35,
   "metadata": {},
   "outputs": [],
   "source": [
    "#\n",
    "# Definição do período da pandemia para efeito de traçar-se os gráficos de evolução r poder fazer forecast\n",
    "#\n",
    "Epi_days = 250 # <-- tempo estimado de duração da pandemia"
   ]
  },
  {
   "cell_type": "code",
   "execution_count": 39,
   "metadata": {},
   "outputs": [],
   "source": [
    "res_SEIRD_roll = SolverEDOs(Epi_days, N,*parametros)"
   ]
  },
  {
   "cell_type": "markdown",
   "metadata": {},
   "source": [
    "## Relatórios de acurácia e intervalo de confiança do fitting dos dados suavizados"
   ]
  },
  {
   "cell_type": "code",
   "execution_count": 43,
   "metadata": {},
   "outputs": [
    {
     "data": {
      "text/plain": [
       "[<matplotlib.lines.Line2D at 0x1d8c181d1d0>]"
      ]
     },
     "execution_count": 43,
     "metadata": {},
     "output_type": "execute_result"
    },
    {
     "data": {
      "image/png": "[encoded data removed]",
      "text/plain": [
       "<Figure size 864x288 with 1 Axes>"
      ]
     },
     "metadata": {
      "needs_background": "light"
     },
     "output_type": "display_data"
    }
   ],
   "source": [
    "plt.figure(figsize = [12, 4])\n",
    "#plt.xlim(30,60)\n",
    "plt.title('R_0')\n",
    "plt.plot(res_SEIRD_roll[0],res_SEIRD_roll[6], label = 'R_0')"
   ]
  },
  {
   "cell_type": "markdown",
   "metadata": {},
   "source": [
    "### Intervalos de confiança (processamento leva +6 mins.)"
   ]
  },
  {
   "cell_type": "code",
   "execution_count": null,
   "metadata": {},
   "outputs": [],
   "source": [
    "#start_time = time.time()\n",
    "#\n",
    "#Conf_Interval = result_roll.ci_report()\n",
    "#elapsed_time = time.time() - start_time\n",
    "#elapsed_time"
   ]
  },
  {
   "cell_type": "code",
   "execution_count": null,
   "metadata": {},
   "outputs": [],
   "source": [
    "#Conf_Interval"
   ]
  },
  {
   "cell_type": "markdown",
   "metadata": {},
   "source": [
    "### Plotagem dos resíduos"
   ]
  },
  {
   "cell_type": "code",
   "execution_count": 44,
   "metadata": {},
   "outputs": [
    {
     "data": {
      "text/plain": [
       "(<Figure size 432x432 with 2 Axes>, GridSpec(2, 1, height_ratios=[1, 4]))"
      ]
     },
     "execution_count": 44,
     "metadata": {},
     "output_type": "execute_result"
    },
    {
     "data": {
      "image/png": "[encoded data removed]",
      "text/plain": [
       "<Figure size 432x432 with 2 Axes>"
      ]
     },
     "metadata": {
      "needs_background": "light"
     },
     "output_type": "display_data"
    }
   ],
   "source": [
    "result_roll.plot() # _residuals"
   ]
  },
  {
   "cell_type": "markdown",
   "metadata": {},
   "source": [
    "### Avaliação das incertezas - 50% e 90% de intervalos de confiança"
   ]
  },
  {
   "cell_type": "code",
   "execution_count": 45,
   "metadata": {},
   "outputs": [
    {
     "data": {
      "image/png": "[encoded data removed]",
      "text/plain": [
       "<Figure size 1224x432 with 1 Axes>"
      ]
     },
     "metadata": {
      "needs_background": "light"
     },
     "output_type": "display_data"
    }
   ],
   "source": [
    "result_roll_50 = result_roll.eval_uncertainty(x=x_rolling, sigma = 0.50)\n",
    "\n",
    "result_roll_90 = result_roll.eval_uncertainty(x=x_rolling, sigma = 0.90)\n",
    "\n",
    "plt.figure(figsize = [17, 6])\n",
    "plt.xlim(30,80)\n",
    "plt.title('Faixa de Incertezas para o Modelo Suavizado')\n",
    "plt.plot(x_rolling, y_rolling, label='Curva dos dados suavizados')\n",
    "plt.plot(x_rolling, result_roll.best_fit, label= 'Curva do melhor ajuste')\n",
    "plt.fill_between(x_rolling, result_roll.best_fit-result_roll_90,\n",
    "                 result_roll.best_fit+result_roll_90, color='#A8A8A8',label = 'Faixa de confiança de 90%')\n",
    "plt.fill_between(x_rolling, result_roll.best_fit-result_roll_50,\n",
    "                 result_roll.best_fit+result_roll_50, color='#888888', label = 'Faixa de confiança de 50%')\n",
    "plt.legend(loc=2)\n",
    "plt.show()"
   ]
  },
  {
   "cell_type": "code",
   "execution_count": 47,
   "metadata": {},
   "outputs": [],
   "source": [
    "res_SEIRD_roll = SolverEDOs(Epi_days, N,*parametros)"
   ]
  },
  {
   "cell_type": "markdown",
   "metadata": {},
   "source": [
    "# Plotagem das curvas SEIRD para o modelo com dados suavizados"
   ]
  },
  {
   "cell_type": "markdown",
   "metadata": {},
   "source": [
    "### Curvas IED (S e R fora de escala nessa fase da pandemia)"
   ]
  },
  {
   "cell_type": "code",
   "execution_count": 49,
   "metadata": {},
   "outputs": [
    {
     "data": {
      "image/png": "[encoded data removed]",
      "text/plain": [
       "<Figure size 1224x432 with 1 Axes>"
      ]
     },
     "metadata": {
      "needs_background": "light"
     },
     "output_type": "display_data"
    }
   ],
   "source": [
    "plt.figure(figsize = [17, 6])\n",
    "plt.title('Curvas SEIRD: [EID]')\n",
    "plt.xlim(20,250)\n",
    "#plt.plot(res_SEIRD[0],res_SEIRD[1], label = 'Suscetíveis')\n",
    "plt.plot(res_SEIRD_roll[0],res_SEIRD_roll[2], label = 'Infectados')\n",
    "plt.plot(res_SEIRD_roll[0],res_SEIRD_roll[3], label = 'Expostos')\n",
    "#plt.plot(res_SEIRD_roll[0],res_SEIRD_roll[4], label = 'Recuperados')\n",
    "plt.plot(res_SEIRD_roll[0],res_SEIRD_roll[5], label = 'Óbitos')\n",
    "plt.legend()\n",
    "plt.show()"
   ]
  },
  {
   "cell_type": "code",
   "execution_count": 51,
   "metadata": {},
   "outputs": [
    {
     "data": {
      "image/png": "[encoded data removed]",
      "text/plain": [
       "<Figure size 1224x432 with 1 Axes>"
      ]
     },
     "metadata": {
      "needs_background": "light"
     },
     "output_type": "display_data"
    }
   ],
   "source": [
    "plt.figure(figsize = [17, 6])\n",
    "plt.title('Curvas SEIRD: [IR]')\n",
    "plt.xlim(20,250)\n",
    "#plt.plot(res_SEIRD_roll[0],res_SEIRD_roll[1], label = 'Suscetíveis')\n",
    "plt.plot(res_SEIRD_roll[0],res_SEIRD_roll[2], label = 'Infectados')\n",
    "#plt.plot(dados[0],dados[3], label = 'Expostos')\n",
    "plt.plot(res_SEIRD_roll[0],res_SEIRD_roll[4], label = 'Recuperados')\n",
    "plt.legend()\n",
    "plt.show()"
   ]
  },
  {
   "cell_type": "markdown",
   "metadata": {},
   "source": [
    "### Ajuste da curva estimada de óbitos aos dados suavizados (média móvel de 10 dias)"
   ]
  },
  {
   "cell_type": "code",
   "execution_count": 53,
   "metadata": {},
   "outputs": [
    {
     "data": {
      "image/png": "[encoded data removed]",
      "text/plain": [
       "<Figure size 1224x432 with 1 Axes>"
      ]
     },
     "metadata": {
      "needs_background": "light"
     },
     "output_type": "display_data"
    }
   ],
   "source": [
    "plt.figure(figsize = [17, 6])\n",
    "plt.xlim(10,250)\n",
    "#plt. ylim(0,40)\n",
    "plt.bar(x_data, y_data,                       label = 'Dados de obitos')\n",
    "plt.plot(res_SEIRD_roll[0],res_SEIRD_roll[5], label = 'Óbitos estimados suavizados', color='black')\n",
    "plt.bar(x_rolling, y_rolling,                 label = 'Óbitos suavizados por Média-Móvel', color='red')\n",
    "plt.legend()\n",
    "plt.show()"
   ]
  },
  {
   "cell_type": "markdown",
   "metadata": {},
   "source": [
    "### Zoom no trecho com dados"
   ]
  },
  {
   "cell_type": "code",
   "execution_count": 60,
   "metadata": {},
   "outputs": [
    {
     "data": {
      "image/png": "[encoded data removed]",
      "text/plain": [
       "<Figure size 1224x432 with 1 Axes>"
      ]
     },
     "metadata": {
      "needs_background": "light"
     },
     "output_type": "display_data"
    }
   ],
   "source": [
    "plt.figure(figsize = [17, 6])\n",
    "plt.xlim(10,90)\n",
    "plt. ylim(0,80)\n",
    "plt.bar(x_data, y_data,                       label = 'Dados de obitos')\n",
    "plt.plot(res_SEIRD_roll[0],res_SEIRD_roll[5], label = 'Óbitos estimados suavizados', color='black')\n",
    "plt.bar(x_rolling, y_rolling,                 label = 'Óbitos suavizados por Média-Móvel', color='red')\n",
    "plt.legend()\n",
    "plt.show()"
   ]
  },
  {
   "cell_type": "markdown",
   "metadata": {},
   "source": [
    "### Forecast para 14 dias (com os dados suavizados)"
   ]
  },
  {
   "cell_type": "code",
   "execution_count": 54,
   "metadata": {},
   "outputs": [],
   "source": [
    "period = 14 #<-- days forecast\n",
    "#\n",
    "last_day_in_data = x_rolling[len(x_rolling) - 1]\n",
    "last_day_forecast  = last_day_in_data + period"
   ]
  },
  {
   "cell_type": "code",
   "execution_count": 55,
   "metadata": {},
   "outputs": [],
   "source": [
    "Day = pd.Series(res_SEIRD_roll[0])\n",
    "S   = pd.Series(res_SEIRD_roll[1])\n",
    "E   = pd.Series(res_SEIRD_roll[2])\n",
    "I   = pd.Series(res_SEIRD_roll[3])\n",
    "R   = pd.Series(res_SEIRD_roll[4])\n",
    "D   = pd.Series(res_SEIRD_roll[5])"
   ]
  },
  {
   "cell_type": "code",
   "execution_count": 56,
   "metadata": {},
   "outputs": [
    {
     "data": {
      "text/html": [
       "<div>\n",
       "<style scoped>\n",
       "    .dataframe tbody tr th:only-of-type {\n",
       "        vertical-align: middle;\n",
       "    }\n",
       "\n",
       "    .dataframe tbody tr th {\n",
       "        vertical-align: top;\n",
       "    }\n",
       "\n",
       "    .dataframe thead th {\n",
       "        text-align: right;\n",
       "    }\n",
       "</style>\n",
       "<table border=\"1\" class=\"dataframe\">\n",
       "  <thead>\n",
       "    <tr style=\"text-align: right;\">\n",
       "      <th></th>\n",
       "      <th>Dia da Epidemia</th>\n",
       "      <th>Suscetíveis</th>\n",
       "      <th>Expostos</th>\n",
       "      <th>Infectados</th>\n",
       "      <th>Recuperados</th>\n",
       "      <th>Óbitos</th>\n",
       "    </tr>\n",
       "  </thead>\n",
       "  <tbody>\n",
       "    <tr>\n",
       "      <th>80</th>\n",
       "      <td>80</td>\n",
       "      <td>7,005,561</td>\n",
       "      <td>28,447</td>\n",
       "      <td>22,872</td>\n",
       "      <td>18,249</td>\n",
       "      <td>53</td>\n",
       "    </tr>\n",
       "    <tr>\n",
       "      <th>81</th>\n",
       "      <td>81</td>\n",
       "      <td>6,995,280</td>\n",
       "      <td>32,629</td>\n",
       "      <td>26,252</td>\n",
       "      <td>20,959</td>\n",
       "      <td>60</td>\n",
       "    </tr>\n",
       "    <tr>\n",
       "      <th>82</th>\n",
       "      <td>82</td>\n",
       "      <td>6,983,501</td>\n",
       "      <td>37,415</td>\n",
       "      <td>30,126</td>\n",
       "      <td>24,069</td>\n",
       "      <td>69</td>\n",
       "    </tr>\n",
       "    <tr>\n",
       "      <th>83</th>\n",
       "      <td>83</td>\n",
       "      <td>6,970,008</td>\n",
       "      <td>42,890</td>\n",
       "      <td>34,565</td>\n",
       "      <td>27,638</td>\n",
       "      <td>80</td>\n",
       "    </tr>\n",
       "    <tr>\n",
       "      <th>84</th>\n",
       "      <td>84</td>\n",
       "      <td>6,954,561</td>\n",
       "      <td>49,147</td>\n",
       "      <td>39,649</td>\n",
       "      <td>31,733</td>\n",
       "      <td>91</td>\n",
       "    </tr>\n",
       "    <tr>\n",
       "      <th>85</th>\n",
       "      <td>85</td>\n",
       "      <td>6,936,887</td>\n",
       "      <td>56,293</td>\n",
       "      <td>45,468</td>\n",
       "      <td>36,428</td>\n",
       "      <td>105</td>\n",
       "    </tr>\n",
       "    <tr>\n",
       "      <th>86</th>\n",
       "      <td>86</td>\n",
       "      <td>6,916,678</td>\n",
       "      <td>64,446</td>\n",
       "      <td>52,124</td>\n",
       "      <td>41,813</td>\n",
       "      <td>121</td>\n",
       "    </tr>\n",
       "    <tr>\n",
       "      <th>87</th>\n",
       "      <td>87</td>\n",
       "      <td>6,893,586</td>\n",
       "      <td>73,739</td>\n",
       "      <td>59,733</td>\n",
       "      <td>47,984</td>\n",
       "      <td>138</td>\n",
       "    </tr>\n",
       "    <tr>\n",
       "      <th>88</th>\n",
       "      <td>88</td>\n",
       "      <td>6,867,224</td>\n",
       "      <td>84,318</td>\n",
       "      <td>68,425</td>\n",
       "      <td>55,055</td>\n",
       "      <td>159</td>\n",
       "    </tr>\n",
       "    <tr>\n",
       "      <th>89</th>\n",
       "      <td>89</td>\n",
       "      <td>6,837,157</td>\n",
       "      <td>96,344</td>\n",
       "      <td>78,345</td>\n",
       "      <td>63,152</td>\n",
       "      <td>182</td>\n",
       "    </tr>\n",
       "    <tr>\n",
       "      <th>90</th>\n",
       "      <td>90</td>\n",
       "      <td>6,802,902</td>\n",
       "      <td>109,994</td>\n",
       "      <td>89,654</td>\n",
       "      <td>72,422</td>\n",
       "      <td>209</td>\n",
       "    </tr>\n",
       "    <tr>\n",
       "      <th>91</th>\n",
       "      <td>91</td>\n",
       "      <td>6,763,924</td>\n",
       "      <td>125,459</td>\n",
       "      <td>102,533</td>\n",
       "      <td>83,025</td>\n",
       "      <td>239</td>\n",
       "    </tr>\n",
       "    <tr>\n",
       "      <th>92</th>\n",
       "      <td>92</td>\n",
       "      <td>6,719,637</td>\n",
       "      <td>142,941</td>\n",
       "      <td>117,180</td>\n",
       "      <td>95,148</td>\n",
       "      <td>274</td>\n",
       "    </tr>\n",
       "    <tr>\n",
       "      <th>93</th>\n",
       "      <td>93</td>\n",
       "      <td>6,669,398</td>\n",
       "      <td>162,659</td>\n",
       "      <td>133,812</td>\n",
       "      <td>108,997</td>\n",
       "      <td>314</td>\n",
       "    </tr>\n",
       "  </tbody>\n",
       "</table>\n",
       "</div>"
      ],
      "text/plain": [
       "    Dia da Epidemia  Suscetíveis  Expostos  Infectados  Recuperados  Óbitos\n",
       "80               80    7,005,561    28,447      22,872       18,249      53\n",
       "81               81    6,995,280    32,629      26,252       20,959      60\n",
       "82               82    6,983,501    37,415      30,126       24,069      69\n",
       "83               83    6,970,008    42,890      34,565       27,638      80\n",
       "84               84    6,954,561    49,147      39,649       31,733      91\n",
       "85               85    6,936,887    56,293      45,468       36,428     105\n",
       "86               86    6,916,678    64,446      52,124       41,813     121\n",
       "87               87    6,893,586    73,739      59,733       47,984     138\n",
       "88               88    6,867,224    84,318      68,425       55,055     159\n",
       "89               89    6,837,157    96,344      78,345       63,152     182\n",
       "90               90    6,802,902   109,994      89,654       72,422     209\n",
       "91               91    6,763,924   125,459     102,533       83,025     239\n",
       "92               92    6,719,637   142,941     117,180       95,148     274\n",
       "93               93    6,669,398   162,659     133,812      108,997     314"
      ]
     },
     "execution_count": 56,
     "metadata": {},
     "output_type": "execute_result"
    }
   ],
   "source": [
    "df = pd.DataFrame()\n",
    "df['Dia da Epidemia'] = Day\n",
    "df['Suscetíveis']     = S\n",
    "df['Expostos']        = E\n",
    "df['Infectados']      = I\n",
    "df['Recuperados']     = R\n",
    "df['Óbitos']          = D\n",
    "#\n",
    "df.set_index(['Dia da Epidemia'])\n",
    "#\n",
    "pd.options.display.float_format = '{:,.0f}'.format\n",
    "df[last_day_in_data : last_day_forecast]"
   ]
  },
  {
   "cell_type": "code",
   "execution_count": 57,
   "metadata": {},
   "outputs": [
    {
     "data": {
      "text/html": [
       "<div>\n",
       "<style scoped>\n",
       "    .dataframe tbody tr th:only-of-type {\n",
       "        vertical-align: middle;\n",
       "    }\n",
       "\n",
       "    .dataframe tbody tr th {\n",
       "        vertical-align: top;\n",
       "    }\n",
       "\n",
       "    .dataframe thead th {\n",
       "        text-align: right;\n",
       "    }\n",
       "</style>\n",
       "<table border=\"1\" class=\"dataframe\">\n",
       "  <thead>\n",
       "    <tr style=\"text-align: right;\">\n",
       "      <th></th>\n",
       "      <th>Dia da Epidemia</th>\n",
       "      <th>Suscetíveis</th>\n",
       "      <th>Expostos</th>\n",
       "      <th>Infectados</th>\n",
       "      <th>Recuperados</th>\n",
       "      <th>Óbitos</th>\n",
       "    </tr>\n",
       "  </thead>\n",
       "  <tbody>\n",
       "    <tr>\n",
       "      <th>count</th>\n",
       "      <td>250</td>\n",
       "      <td>250</td>\n",
       "      <td>250</td>\n",
       "      <td>250</td>\n",
       "      <td>250</td>\n",
       "      <td>250</td>\n",
       "    </tr>\n",
       "    <tr>\n",
       "      <th>mean</th>\n",
       "      <td>124</td>\n",
       "      <td>6,136,225</td>\n",
       "      <td>33,018</td>\n",
       "      <td>59,534</td>\n",
       "      <td>843,971</td>\n",
       "      <td>2,433</td>\n",
       "    </tr>\n",
       "    <tr>\n",
       "      <th>std</th>\n",
       "      <td>72</td>\n",
       "      <td>738,215</td>\n",
       "      <td>57,919</td>\n",
       "      <td>94,600</td>\n",
       "      <td>733,140</td>\n",
       "      <td>2,114</td>\n",
       "    </tr>\n",
       "    <tr>\n",
       "      <th>min</th>\n",
       "      <td>0</td>\n",
       "      <td>5,424,507</td>\n",
       "      <td>1</td>\n",
       "      <td>0</td>\n",
       "      <td>0</td>\n",
       "      <td>0</td>\n",
       "    </tr>\n",
       "    <tr>\n",
       "      <th>25%</th>\n",
       "      <td>62</td>\n",
       "      <td>5,440,616</td>\n",
       "      <td>501</td>\n",
       "      <td>1,086</td>\n",
       "      <td>1,554</td>\n",
       "      <td>4</td>\n",
       "    </tr>\n",
       "    <tr>\n",
       "      <th>50%</th>\n",
       "      <td>124</td>\n",
       "      <td>5,702,170</td>\n",
       "      <td>4,103</td>\n",
       "      <td>8,881</td>\n",
       "      <td>1,059,252</td>\n",
       "      <td>3,054</td>\n",
       "    </tr>\n",
       "    <tr>\n",
       "      <th>75%</th>\n",
       "      <td>187</td>\n",
       "      <td>7,069,224</td>\n",
       "      <td>33,372</td>\n",
       "      <td>72,858</td>\n",
       "      <td>1,609,932</td>\n",
       "      <td>4,642</td>\n",
       "    </tr>\n",
       "    <tr>\n",
       "      <th>max</th>\n",
       "      <td>249</td>\n",
       "      <td>7,075,180</td>\n",
       "      <td>219,069</td>\n",
       "      <td>335,539</td>\n",
       "      <td>1,644,708</td>\n",
       "      <td>4,742</td>\n",
       "    </tr>\n",
       "  </tbody>\n",
       "</table>\n",
       "</div>"
      ],
      "text/plain": [
       "       Dia da Epidemia  Suscetíveis  Expostos  Infectados  Recuperados  Óbitos\n",
       "count              250          250       250         250          250     250\n",
       "mean               124    6,136,225    33,018      59,534      843,971   2,433\n",
       "std                 72      738,215    57,919      94,600      733,140   2,114\n",
       "min                  0    5,424,507         1           0            0       0\n",
       "25%                 62    5,440,616       501       1,086        1,554       4\n",
       "50%                124    5,702,170     4,103       8,881    1,059,252   3,054\n",
       "75%                187    7,069,224    33,372      72,858    1,609,932   4,642\n",
       "max                249    7,075,180   219,069     335,539    1,644,708   4,742"
      ]
     },
     "execution_count": 57,
     "metadata": {},
     "output_type": "execute_result"
    }
   ],
   "source": [
    "df.describe()"
   ]
  }
 ],
 "metadata": {
  "colab": {
   "collapsed_sections": [
    "UUG85HqL2QEt",
    "ZuuEGEUpiHEX"
   ],
   "name": "part_three.ipynb",
   "provenance": []
  },
  "kernelspec": {
   "display_name": "Python 3",
   "language": "python",
   "name": "python3"
  },
  "language_info": {
   "codemirror_mode": {
    "name": "ipython",
    "version": 3
   },
   "file_extension": ".py",
   "mimetype": "text/x-python",
   "name": "python",
   "nbconvert_exporter": "python",
   "pygments_lexer": "ipython3",
   "version": "3.7.3"
  }
 },
 "nbformat": 4,
 "nbformat_minor": 1
}
