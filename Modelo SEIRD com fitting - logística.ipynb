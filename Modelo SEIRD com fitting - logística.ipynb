{
 "cells": [
  {
   "cell_type": "markdown",
   "metadata": {
    "colab_type": "text",
    "id": "JDbZy9ovyHm4"
   },
   "source": [
    "# SEIRD Data Fitting Model from Henri Froesi for Brazilian States Covid19 - Evolution and Prediction"
   ]
  },
  {
   "cell_type": "markdown",
   "metadata": {},
   "source": [
    "## References: \n",
    "\n",
    "### [1] Modelling Beyond the Basic SIR Model - Henri Froesi - Towards Data Science\n",
    "#### https://towardsdatascience.com/infectious-disease-modelling-beyond-the-basic-sir-model-216369c584c4\n",
    "\n",
    "### [2] Infectious Disease Modelling. Fitting Your Model to Corona Virus Data - Henri Froesi-Towards Data Science\n",
    "#### https://towardsdatascience.com/infectious-disease-modelling-fit-your-model-to-coronavirus-data-2568e672dbc7"
   ]
  },
  {
   "cell_type": "markdown",
   "metadata": {},
   "source": [
    "### Adapted by Ivan Carlos P. da Cruz (GitHub @icpcruz)\n",
    "### Revision and contributions by Eduardo Correa Araújo"
   ]
  },
  {
   "cell_type": "markdown",
   "metadata": {},
   "source": [
    "# Model summary ref. [1]"
   ]
  },
  {
   "cell_type": "markdown",
   "metadata": {},
   "source": [
    "<img src=\"SEIRD%20model.png\" style=\"width:600px\" />"
   ]
  },
  {
   "cell_type": "markdown",
   "metadata": {
    "colab_type": "text",
    "id": "zWWq3zgge-R3"
   },
   "source": [
    "# Imports"
   ]
  },
  {
   "cell_type": "code",
   "execution_count": 1,
   "metadata": {
    "_cell_guid": "79c7e3d0-c299-4dcb-8224-4455121ee9b0",
    "_uuid": "d629ff2d2480ee46fbb7e2d37f6b5fab8052498a",
    "colab": {
     "base_uri": "https://localhost:8080/",
     "height": 607
    },
    "colab_type": "code",
    "id": "NHHL1iKyYN5-",
    "outputId": "c3af6e28-02ba-4ebf-d5dd-be29f9a68368"
   },
   "outputs": [],
   "source": [
    "import numpy as np\n",
    "import pandas as pd\n",
    "pd.options.mode.chained_assignment = None  # default='warn'\n",
    "\n",
    "import matplotlib.pyplot as plt\n",
    "import matplotlib.dates as mdates\n",
    "%matplotlib inline \n",
    "\n",
    "from scipy.integrate import odeint\n",
    "\n",
    "# !pip install lmfit - DONE !\n",
    "import lmfit\n",
    "from lmfit import Model # classe lmfit para a criação do modelo de fitting\n",
    "\n",
    "import numdifftools # permite que lmfit calcule a matriz de correlações\n",
    "\n",
    "import datetime\n",
    "\n",
    "import warnings\n",
    "warnings.filterwarnings('ignore')"
   ]
  },
  {
   "cell_type": "markdown",
   "metadata": {},
   "source": [
    "## Importação de dados de óbitos diários por estado brasileiro (NE)"
   ]
  },
  {
   "cell_type": "markdown",
   "metadata": {},
   "source": [
    "### Diretório sincronizado com o GitHub dos dados (arquivos csv):"
   ]
  },
  {
   "cell_type": "code",
   "execution_count": 2,
   "metadata": {},
   "outputs": [],
   "source": [
    "path = \"C:/Users/Ivan/Documents/GitHub/googleData/data/\""
   ]
  },
  {
   "cell_type": "markdown",
   "metadata": {},
   "source": [
    "### Dicionário de nomes dos arquivos de óbitos diários por estado do NE"
   ]
  },
  {
   "cell_type": "code",
   "execution_count": 3,
   "metadata": {},
   "outputs": [],
   "source": [
    "pref = \"ON\"\n",
    "suf  = \"_An.csv\"\n",
    "Data_files_names = {\n",
    "    \"Alagoas\"    : pref+\"AiL\"+suf ,\n",
    "    \"Bahia\"      : pref+\"BiA\"+suf ,\n",
    "    \"Ceará\"      : pref+\"CiE\"+suf ,\n",
    "    \"Maranhão\"   : pref+\"MiA\"+suf ,\n",
    "    \"Paraíba\"    : pref+\"PiB\"+suf ,\n",
    "    \"Pernambuco\" : pref+\"PiE\"+suf ,\n",
    "    \"Piauí\"      : pref+\"PiI\"+suf ,\n",
    "    \"RioGrdoN\"   : pref+\"RiN\"+suf ,\n",
    "    \"Sergipe\"    : pref+\"SiE\"+suf\n",
    "}"
   ]
  },
  {
   "cell_type": "markdown",
   "metadata": {},
   "source": [
    "### Leitura dos arquivos (atualizados diariamente)"
   ]
  },
  {
   "cell_type": "code",
   "execution_count": 4,
   "metadata": {
    "scrolled": true
   },
   "outputs": [],
   "source": [
    "data_ON_AL = pd.read_csv(path+Data_files_names[\"Alagoas\"], sep =\",\")\n",
    "data_ON_BA = pd.read_csv(path+Data_files_names[\"Bahia\"], sep =\",\")\n",
    "data_ON_CE = pd.read_csv(path+Data_files_names[\"Ceará\"], sep =\",\")\n",
    "data_ON_MA = pd.read_csv(path+Data_files_names[\"Maranhão\"], sep =\",\")\n",
    "data_ON_PB = pd.read_csv(path+Data_files_names[\"Paraíba\"], sep =\",\")\n",
    "data_ON_PE = pd.read_csv(path+Data_files_names[\"Pernambuco\"], sep =\",\")\n",
    "data_ON_PI = pd.read_csv(path+Data_files_names[\"Piauí\"], sep =\",\")\n",
    "data_ON_RN = pd.read_csv(path+Data_files_names[\"RioGrdoN\"], sep =\",\")\n",
    "data_ON_SE = pd.read_csv(path+Data_files_names[\"Sergipe\"], sep =\",\")"
   ]
  },
  {
   "cell_type": "markdown",
   "metadata": {},
   "source": [
    "### \"Parsing\" das datas"
   ]
  },
  {
   "cell_type": "code",
   "execution_count": 5,
   "metadata": {},
   "outputs": [],
   "source": [
    "format_str = \"%Y-%m-%d\"\n",
    "data_ON_AL['Data'] = data_ON_AL['Data'].apply(lambda x:datetime.datetime.strptime(x,format_str))\n",
    "data_ON_BA['Data'] = data_ON_BA['Data'].apply(lambda x:datetime.datetime.strptime(x,format_str))\n",
    "data_ON_CE['Data'] = data_ON_CE['Data'].apply(lambda x:datetime.datetime.strptime(x,format_str))\n",
    "data_ON_MA['Data'] = data_ON_MA['Data'].apply(lambda x:datetime.datetime.strptime(x,format_str))\n",
    "data_ON_PB['Data'] = data_ON_PB['Data'].apply(lambda x:datetime.datetime.strptime(x,format_str))\n",
    "data_ON_PE['Data'] = data_ON_PE['Data'].apply(lambda x:datetime.datetime.strptime(x,format_str))\n",
    "data_ON_PI['Data'] = data_ON_PI['Data'].apply(lambda x:datetime.datetime.strptime(x,format_str))\n",
    "data_ON_RN['Data'] = data_ON_RN['Data'].apply(lambda x:datetime.datetime.strptime(x,format_str))\n",
    "data_ON_SE['Data'] = data_ON_SE['Data'].apply(lambda x:datetime.datetime.strptime(x,format_str))"
   ]
  },
  {
   "cell_type": "code",
   "execution_count": 6,
   "metadata": {},
   "outputs": [
    {
     "name": "stdout",
     "output_type": "stream",
     "text": [
      "<class 'pandas.core.frame.DataFrame'>\n",
      "RangeIndex: 85 entries, 0 to 84\n",
      "Data columns (total 2 columns):\n",
      "Data        85 non-null datetime64[ns]\n",
      "ONCiE_An    85 non-null float64\n",
      "dtypes: datetime64[ns](1), float64(1)\n",
      "memory usage: 1.4 KB\n"
     ]
    }
   ],
   "source": [
    "data_ON_CE.info()"
   ]
  },
  {
   "cell_type": "code",
   "execution_count": 7,
   "metadata": {},
   "outputs": [
    {
     "data": {
      "text/html": [
       "<div>\n",
       "<style scoped>\n",
       "    .dataframe tbody tr th:only-of-type {\n",
       "        vertical-align: middle;\n",
       "    }\n",
       "\n",
       "    .dataframe tbody tr th {\n",
       "        vertical-align: top;\n",
       "    }\n",
       "\n",
       "    .dataframe thead th {\n",
       "        text-align: right;\n",
       "    }\n",
       "</style>\n",
       "<table border=\"1\" class=\"dataframe\">\n",
       "  <thead>\n",
       "    <tr style=\"text-align: right;\">\n",
       "      <th></th>\n",
       "      <th>Data</th>\n",
       "      <th>ONCiE_An</th>\n",
       "    </tr>\n",
       "  </thead>\n",
       "  <tbody>\n",
       "    <tr>\n",
       "      <th>80</th>\n",
       "      <td>2020-06-05</td>\n",
       "      <td>77.0</td>\n",
       "    </tr>\n",
       "    <tr>\n",
       "      <th>81</th>\n",
       "      <td>2020-06-06</td>\n",
       "      <td>75.0</td>\n",
       "    </tr>\n",
       "    <tr>\n",
       "      <th>82</th>\n",
       "      <td>2020-06-07</td>\n",
       "      <td>17.0</td>\n",
       "    </tr>\n",
       "    <tr>\n",
       "      <th>83</th>\n",
       "      <td>2020-06-08</td>\n",
       "      <td>138.0</td>\n",
       "    </tr>\n",
       "    <tr>\n",
       "      <th>84</th>\n",
       "      <td>2020-06-09</td>\n",
       "      <td>189.0</td>\n",
       "    </tr>\n",
       "  </tbody>\n",
       "</table>\n",
       "</div>"
      ],
      "text/plain": [
       "         Data  ONCiE_An\n",
       "80 2020-06-05      77.0\n",
       "81 2020-06-06      75.0\n",
       "82 2020-06-07      17.0\n",
       "83 2020-06-08     138.0\n",
       "84 2020-06-09     189.0"
      ]
     },
     "execution_count": 7,
     "metadata": {},
     "output_type": "execute_result"
    }
   ],
   "source": [
    "data_ON_CE.tail()"
   ]
  },
  {
   "cell_type": "code",
   "execution_count": 8,
   "metadata": {},
   "outputs": [
    {
     "data": {
      "text/html": [
       "<div>\n",
       "<style scoped>\n",
       "    .dataframe tbody tr th:only-of-type {\n",
       "        vertical-align: middle;\n",
       "    }\n",
       "\n",
       "    .dataframe tbody tr th {\n",
       "        vertical-align: top;\n",
       "    }\n",
       "\n",
       "    .dataframe thead th {\n",
       "        text-align: right;\n",
       "    }\n",
       "</style>\n",
       "<table border=\"1\" class=\"dataframe\">\n",
       "  <thead>\n",
       "    <tr style=\"text-align: right;\">\n",
       "      <th></th>\n",
       "      <th>ONCiE_An</th>\n",
       "    </tr>\n",
       "  </thead>\n",
       "  <tbody>\n",
       "    <tr>\n",
       "      <th>count</th>\n",
       "      <td>85.000000</td>\n",
       "    </tr>\n",
       "    <tr>\n",
       "      <th>mean</th>\n",
       "      <td>50.694118</td>\n",
       "    </tr>\n",
       "    <tr>\n",
       "      <th>std</th>\n",
       "      <td>60.005560</td>\n",
       "    </tr>\n",
       "    <tr>\n",
       "      <th>min</th>\n",
       "      <td>0.000000</td>\n",
       "    </tr>\n",
       "    <tr>\n",
       "      <th>25%</th>\n",
       "      <td>4.000000</td>\n",
       "    </tr>\n",
       "    <tr>\n",
       "      <th>50%</th>\n",
       "      <td>25.000000</td>\n",
       "    </tr>\n",
       "    <tr>\n",
       "      <th>75%</th>\n",
       "      <td>75.000000</td>\n",
       "    </tr>\n",
       "    <tr>\n",
       "      <th>max</th>\n",
       "      <td>261.000000</td>\n",
       "    </tr>\n",
       "  </tbody>\n",
       "</table>\n",
       "</div>"
      ],
      "text/plain": [
       "         ONCiE_An\n",
       "count   85.000000\n",
       "mean    50.694118\n",
       "std     60.005560\n",
       "min      0.000000\n",
       "25%      4.000000\n",
       "50%     25.000000\n",
       "75%     75.000000\n",
       "max    261.000000"
      ]
     },
     "execution_count": 8,
     "metadata": {},
     "output_type": "execute_result"
    }
   ],
   "source": [
    "data_ON_CE.describe()"
   ]
  },
  {
   "cell_type": "markdown",
   "metadata": {},
   "source": [
    "### Definindo as colunas 'Data' como índices"
   ]
  },
  {
   "cell_type": "code",
   "execution_count": 9,
   "metadata": {},
   "outputs": [
    {
     "name": "stdout",
     "output_type": "stream",
     "text": [
      "<class 'pandas.core.frame.DataFrame'>\n",
      "RangeIndex: 85 entries, 0 to 84\n",
      "Data columns (total 2 columns):\n",
      "Data        85 non-null datetime64[ns]\n",
      "ONCiE_An    85 non-null float64\n",
      "dtypes: datetime64[ns](1), float64(1)\n",
      "memory usage: 1.4 KB\n"
     ]
    }
   ],
   "source": [
    "data_ON_AL.set_index('Data')\n",
    "data_ON_BA.set_index('Data')\n",
    "data_ON_CE.set_index('Data')\n",
    "data_ON_MA.set_index('Data')\n",
    "data_ON_PB.set_index('Data')\n",
    "data_ON_PE.set_index('Data')\n",
    "data_ON_PI.set_index('Data')\n",
    "data_ON_RN.set_index('Data')\n",
    "data_ON_SE.set_index('Data')\n",
    "data_ON_CE.info()"
   ]
  },
  {
   "cell_type": "markdown",
   "metadata": {},
   "source": [
    "## Parâmetros Epidemiológicos Assumidos para a Covid-19 (como universais) p/o SEIRD"
   ]
  },
  {
   "cell_type": "code",
   "execution_count": 10,
   "metadata": {},
   "outputs": [
    {
     "name": "stdout",
     "output_type": "stream",
     "text": [
      "\n",
      " *** PARÂMETROS EPIDEMIOLÓGICOS ADOTADOS NO MODELO SEIRD: \n",
      "\n",
      "    Freq de letalidade   (alpha) = 0.005\n",
      "    Freq de incubação    (delta) = 0.200\n",
      "    Freq de infetividade (gamma) = 0.111\n",
      "    Freq para óbito      (rho)   = 0.059\n"
     ]
    }
   ],
   "source": [
    "#\n",
    "# VALORES MÉDIOS ASSUMIDOS (ref. https://theconversation.com/how-long-are-you-infectious-when-you-have-coronavirus-135295):\n",
    "#\n",
    "num_of_incubation     = 5      # número de dias de incubação da doença (1/delta). \n",
    "num_of_infecting_days = 9      # número de dias que um infectado (ativo) infecta outros (= D = 1/gama)\n",
    "num_to_dead           = 17     # número de dias para evoluir de infectado para óbito (1/rho)\n",
    "subnotif_index        = 12     # número de vezes que os casos reais de infectados é maior que os notificados\n",
    "apparent_letality     = 0.065  # taxa aparente de letalidade (% dos notificados que vão a óbito)\n",
    "#\n",
    "Epi_days              = 200    # duração arbitrada da pandemia\n",
    "#\n",
    "# FREQUÊNCIAS (POR DIA) CORRESPONDENTES\n",
    "#\n",
    "alpha = apparent_letality/subnotif_index\n",
    "delta = 1/num_of_incubation\n",
    "gamma = 1/num_of_infecting_days  \n",
    "rho   = 1/num_to_dead\n",
    "#\n",
    "print('\\n','*** PARÂMETROS EPIDEMIOLÓGICOS ADOTADOS NO MODELO SEIRD:','\\n')\n",
    "print('    Freq de letalidade   (alpha) = {:.3f}'.format(alpha))\n",
    "print('    Freq de incubação    (delta) = {:.3f}'.format(delta))\n",
    "print('    Freq de infetividade (gamma) = {:.3f}'.format(gamma))\n",
    "print('    Freq para óbito      (rho)   = {:.3f}'.format(rho))"
   ]
  },
  {
   "cell_type": "markdown",
   "metadata": {},
   "source": [
    "### Dados da população por estado"
   ]
  },
  {
   "cell_type": "code",
   "execution_count": 11,
   "metadata": {},
   "outputs": [],
   "source": [
    "N_BR ={\"Brasil\": 210147125, \n",
    "             \"Nordeste\": \n",
    "                 {'MA':7075181, \n",
    "                  'PI':3273227, \n",
    "                  'CE':9132078, \n",
    "                  'RN':3506853, \n",
    "                  'PB':4018127, \n",
    "                  'PE':9557071, \n",
    "                  'AL':3337357, \n",
    "                  'SE':2298696, \n",
    "                  'BA':14873064}, \n",
    "             \"Norte\": \n",
    "                 {'RO':1777225, \n",
    "                  'AC':881935, \n",
    "                  'AM':4144597, \n",
    "                  'RR': 605761, \n",
    "                  'PA':8602865, \n",
    "                  'AP':845731, \n",
    "                  'TO':1572866}, \n",
    "             \"Sudeste\": \n",
    "                 {'MG':21168791,\n",
    "                  'ES':4018650, \n",
    "                  'RJ':17264943, \n",
    "                  'SP':45919049}, \n",
    "             \"Sul\": \n",
    "                 {'PR':11433957, \n",
    "                  'SC':7164788, \n",
    "                  'RS':11377239}, \n",
    "             \"Centro-Oeste\": \n",
    "                 {'MS':2778986, \n",
    "                  'MT':3484466, \n",
    "                  'GO':7018354, \n",
    "                  'DF':3015268} }"
   ]
  },
  {
   "cell_type": "markdown",
   "metadata": {
    "colab_type": "text",
    "id": "UCHaMqyEfBxX"
   },
   "source": [
    "# Modelo com R_0 (e \"beta\") dependentes do tempo"
   ]
  },
  {
   "cell_type": "markdown",
   "metadata": {},
   "source": [
    "### Função sistema de EDOs do modelo SEIRD que é recursivamente chamada pelo solver das ODEs"
   ]
  },
  {
   "cell_type": "code",
   "execution_count": 12,
   "metadata": {},
   "outputs": [],
   "source": [
    "def deriv(y, t, N, beta, gamma, delta, alpha, rho):\n",
    "    #\n",
    "    S, E, I, R, D = y\n",
    "    #\n",
    "    dSdt = -beta(t) * S * I / N\n",
    "    dEdt = beta(t) * S * I / N - delta * E\n",
    "    dIdt = delta * E - (1 - alpha) * gamma * I - alpha * rho * I\n",
    "    dRdt = (1 - alpha) * gamma * I\n",
    "    dDdt = alpha * rho * I\n",
    "    #\n",
    "    return dSdt, dEdt, dIdt, dRdt, dDdt"
   ]
  },
  {
   "cell_type": "markdown",
   "metadata": {},
   "source": [
    "### R_0(t) como uma função logística (com 4 parâmetros a serem ajustados pelo algorítimo de fitting/otimização)"
   ]
  },
  {
   "cell_type": "code",
   "execution_count": 13,
   "metadata": {},
   "outputs": [],
   "source": [
    "def logistic_R_0(t, R_0_start, k, x0, R_0_end):\n",
    "    return (R_0_start-R_0_end) / (1 + np.exp(-k*(-t+x0))) + R_0_end"
   ]
  },
  {
   "cell_type": "markdown",
   "metadata": {},
   "source": [
    "#### Os parâmetros que serão ajustados no processo de otimização (fitting), são:"
   ]
  },
  {
   "cell_type": "markdown",
   "metadata": {},
   "source": [
    "* **R_0_start** : qual era o valor da taxa de infetividade (R_0) no início da pandemia\n",
    "* **R_0_end**  : qual será o valor da taxa de infetividade (R_0) ao fim da pandemia\n",
    "* **k**         : parâmetro que fornece a taxa de decaímento de R_0\n",
    "* **x0**        : posição \"mediana\" da curva logística => para lim( k -> infinito) => função degrau, x_0 é a posição do degrau"
   ]
  },
  {
   "cell_type": "markdown",
   "metadata": {},
   "source": [
    "<img src=\"CurvaLogistica.png\" style=\"width:800px\" />"
   ]
  },
  {
   "cell_type": "markdown",
   "metadata": {},
   "source": [
    "#### Valores inicias arbitrados dos parâmetros para o processo de otimização dados como tuplas (esperado, mínimo, máximo)"
   ]
  },
  {
   "cell_type": "code",
   "execution_count": 14,
   "metadata": {},
   "outputs": [],
   "source": [
    "params_init_min_max = {\"R_0_start\": (3.0, 2.0, 6.0),\n",
    "                       \"k\": (0.5, 0.01, 10.0), \n",
    "                       \"x0\": (30, 0, 250), \n",
    "                       \"R_0_end\": (0.9, 0.1, 3.5)}"
   ]
  },
  {
   "cell_type": "markdown",
   "metadata": {
    "colab_type": "text",
    "id": "J_5dKWOEgTzM"
   },
   "source": [
    "# Ajuste das curvas R_0(t) e SEIRD a partir dos dados de mortalidade diária"
   ]
  },
  {
   "cell_type": "markdown",
   "metadata": {},
   "source": [
    "### Definição da função solver do sistema de EDOs do modelo SEIRD que é recursivamente chamada pelo algoritmo de otimização (fitting aos dados) "
   ]
  },
  {
   "cell_type": "code",
   "execution_count": 15,
   "metadata": {},
   "outputs": [],
   "source": [
    "def SolverEDOs(days, N, R_0_start, k, x0, R_0_end):\n",
    "    #\n",
    "    # definição da função beta(t) = R_0(t)*gama\n",
    "    #\n",
    "    def beta(t):\n",
    "        return logistic_R_0(t, R_0_start, k, x0, R_0_end) * gamma\n",
    "    #\n",
    "    # Valores iniciais das variáveid do SEIRD: N-1 (população), 1 exposto, 0 infectado, recuperados ou mortos\n",
    "    #\n",
    "    y0 = N-1.0, 1.0, 0.0, 0.0, 0.0\n",
    "    #\n",
    "    # geração da grid temporal a partir da quantidade de dias informados\n",
    "    #\n",
    "    t = np.arange(days)\n",
    "    #print(t)\n",
    "    #\n",
    "    # Integração do sistema de EDOs - o sistema é passado pela função 'deriv' na chamada do solver\n",
    "    #\n",
    "    ret = odeint(deriv, y0, t, args=(N, beta, gamma, delta, alpha, rho))\n",
    "    #\n",
    "    # Salvando os resultados nas variáveis do sistema\n",
    "    #\n",
    "    S, E, I, R, D = ret.T\n",
    "    #\n",
    "    # Cálculo de R_0(t)\n",
    "    #\n",
    "    R_0_over_time = [beta(i)/gamma for i in range(len(t))]\n",
    "    #\n",
    "    return t, S, E, I, R, D, R_0_over_time"
   ]
  },
  {
   "cell_type": "markdown",
   "metadata": {},
   "source": [
    "### Estado teste: Maranhão"
   ]
  },
  {
   "cell_type": "code",
   "execution_count": 16,
   "metadata": {},
   "outputs": [],
   "source": [
    "N = N_BR['Nordeste']['MA']                 # <-- população do estado\n",
    "y_data = data_ON_MA['ONMiA_An'].to_numpy() # <-- de pandas series para numpy array - ndarray \n",
    "x_data = np.arange(len(y_data))            # <-- do dia 1 ao final da série (Python inicia em 'zero', daí o +1)\n",
    "days   = len(x_data)                       # <-- duração, até \"hoje\", da pandemia no estado, para o fitting dos parâmetros"
   ]
  },
  {
   "cell_type": "markdown",
   "metadata": {},
   "source": [
    "### Definição da função de fitting que chama o solver das EDOs"
   ]
  },
  {
   "cell_type": "code",
   "execution_count": 17,
   "metadata": {
    "colab": {},
    "colab_type": "code",
    "id": "Wr4UIS6q4M8z"
   },
   "outputs": [],
   "source": [
    "def fitter(x, R_0_start, k, x0, R_0_end):\n",
    "    ret = SolverEDOs(days, N, R_0_start, k, x0, R_0_end) # <-- chama a função solver das EDOs (que chama odeint para integrar)\n",
    "    deaths_fitted = ret[5]                               # <-- óbitos: 6o elem. da tupla (t, S, E, I, R, D, R_0)\n",
    "    return deaths_fitted[x]                              # <-- retorna vetor com as fatalidades no tempo "
   ]
  },
  {
   "cell_type": "markdown",
   "metadata": {},
   "source": [
    "### Criando o modelo de fitting com o pacote 'lmfit' "
   ]
  },
  {
   "cell_type": "code",
   "execution_count": 18,
   "metadata": {
    "colab": {},
    "colab_type": "code",
    "id": "NglgxTIeg16G"
   },
   "outputs": [],
   "source": [
    "# Cria o modelo de fitting passando a função fitter como parâmetro para lmfit \n",
    "#\n",
    "mod = lmfit.Model(fitter)\n",
    "#\n",
    "# Criação do vetor de parâmetros para o fitting, incluindo 3 estimativas iniciais (inicial, min, max) p/cada parâmetro\n",
    "#\n",
    "for kwarg, (init, mini, maxi) in params_init_min_max.items(): # <-- usa as estimativas fornecidas acima\n",
    "    mod.set_param_hint(str(kwarg), value=init, min=mini, max=maxi, vary=True)\n",
    "#\n",
    "# Criação do vetor de parâmetros para o otimizador\n",
    "#\n",
    "params = mod.make_params()"
   ]
  },
  {
   "cell_type": "markdown",
   "metadata": {},
   "source": [
    "### Realizando o fitting com os dados de óbitos diários"
   ]
  },
  {
   "cell_type": "code",
   "execution_count": 19,
   "metadata": {
    "colab": {},
    "colab_type": "code",
    "id": "aV7wA-UXhaXo"
   },
   "outputs": [],
   "source": [
    "result = mod.fit(y_data, params, method=\"least_squares\", x=x_data)"
   ]
  },
  {
   "cell_type": "code",
   "execution_count": 20,
   "metadata": {
    "colab": {
     "base_uri": "https://localhost:8080/",
     "height": 308
    },
    "colab_type": "code",
    "id": "4V-U0BvkrLpl",
    "outputId": "688e951a-baae-4693-d8dc-4ce4581d0c03"
   },
   "outputs": [
    {
     "data": {
      "image/png": "[encoded data removed]",
      "text/plain": [
       "<Figure size 432x288 with 1 Axes>"
      ]
     },
     "metadata": {
      "needs_background": "light"
     },
     "output_type": "display_data"
    }
   ],
   "source": [
    "result.plot_fit(datafmt=\"-\");"
   ]
  },
  {
   "cell_type": "markdown",
   "metadata": {},
   "source": [
    "### Parâmetros otimizados do modelo com dados diários"
   ]
  },
  {
   "cell_type": "code",
   "execution_count": 21,
   "metadata": {
    "colab": {
     "base_uri": "https://localhost:8080/",
     "height": 126
    },
    "colab_type": "code",
    "id": "N3coT0uXrjsa",
    "outputId": "3bb81996-0ceb-4c4f-b661-a878f5913509"
   },
   "outputs": [
    {
     "name": "stdout",
     "output_type": "stream",
     "text": [
      "\n",
      " *** PARÂMETROS OTIMIZADOS DA CURVA LOGÍSTICA DE R_0 PELO FITTING COM OS DADOS DE ÓBITOS: \n",
      "\n",
      "    R_0_start = 6.000\n",
      "    k         = 10.000\n",
      "    x_0       = 45\n",
      "    R_0_end   = 0.100\n"
     ]
    }
   ],
   "source": [
    "parametros = []\n",
    "paramsfit = result.best_values\n",
    "parametros.append(paramsfit['R_0_start'])\n",
    "parametros.append(paramsfit['k'])\n",
    "parametros.append(paramsfit['x0'])\n",
    "parametros.append(paramsfit['R_0_end'])\n",
    "\n",
    "#\n",
    "print('\\n','*** PARÂMETROS OTIMIZADOS DA CURVA LOGÍSTICA DE R_0 PELO FITTING COM OS DADOS DE ÓBITOS:','\\n')\n",
    "print('    R_0_start = {:.3f}'.format(paramsfit['R_0_start']))\n",
    "print('    k         = {:.3f}'.format(paramsfit['k']))\n",
    "print('    x_0       = {:.0f}'.format(paramsfit['x0']))\n",
    "print('    R_0_end   = {:.3f}'.format(paramsfit['R_0_end']))"
   ]
  },
  {
   "cell_type": "markdown",
   "metadata": {},
   "source": [
    "## Realizando o fitting com os dados de óbitos diários suavizados (por média móvel)"
   ]
  },
  {
   "cell_type": "code",
   "execution_count": 51,
   "metadata": {},
   "outputs": [
    {
     "data": {
      "image/png": "[encoded data removed]",
      "text/plain": [
       "<Figure size 1008x432 with 1 Axes>"
      ]
     },
     "metadata": {
      "needs_background": "light"
     },
     "output_type": "display_data"
    }
   ],
   "source": [
    "window_size = 10 #  <-- tamanho da janela móvel para a suavização\n",
    "\n",
    "# First, we need to convert y_data Numpy ndarray to a Pandas Series\n",
    "\n",
    "y_series = pd.Series(y_data)\n",
    "\n",
    "# Tail-rolling average transform\n",
    "\n",
    "y_rolling_S = y_series.rolling(window=window_size).mean().dropna()\n",
    "\n",
    "# Now getting back to a ndarray\n",
    "\n",
    "y_rolling = y_rolling_S.to_numpy()\n",
    "x_rolling = x_data[window_size-1:]\n",
    "\n",
    "# plot original and transformed dataset\n",
    "plt.figure(figsize = [14, 6])\n",
    "plt.xlim(10,85)\n",
    "plt.title('Comparação dos dados de óbitos originais com os suavizados')\n",
    "plt.bar(x_data, y_data, label = 'Dados Originais - Óbitos')\n",
    "plt.bar(x_rolling, y_rolling, label = 'Dados Suavizados -Óbitos', color='red')\n",
    "plt.legend()\n",
    "plt.show()"
   ]
  },
  {
   "cell_type": "code",
   "execution_count": 52,
   "metadata": {},
   "outputs": [],
   "source": [
    "result_roll = mod.fit(y_rolling, params, method=\"least_squares\", x=x_rolling)"
   ]
  },
  {
   "cell_type": "code",
   "execution_count": 54,
   "metadata": {},
   "outputs": [
    {
     "data": {
      "image/png": "[encoded data removed]",
      "text/plain": [
       "<Figure size 432x288 with 1 Axes>"
      ]
     },
     "metadata": {
      "needs_background": "light"
     },
     "output_type": "display_data"
    }
   ],
   "source": [
    "result_roll.plot_fit(datafmt=\"-\");"
   ]
  },
  {
   "cell_type": "markdown",
   "metadata": {},
   "source": [
    "### Parâmetros otimizados do modelo com dados diários"
   ]
  },
  {
   "cell_type": "code",
   "execution_count": 55,
   "metadata": {},
   "outputs": [
    {
     "name": "stdout",
     "output_type": "stream",
     "text": [
      "\n",
      " *** PARÂMETROS OTIMIZADOS DA CURVA LOGÍSTICA DE R_0 PELO FITTING COM OS DADOS SUAVIZADOS DOS ÓBITOS: \n",
      "\n",
      "    R_0_start = 6.000\n",
      "    k         = 10.000\n",
      "    x_0       = 45\n",
      "    R_0_end   = 0.100\n"
     ]
    }
   ],
   "source": [
    "params_roll = []\n",
    "paramsfit_roll = result_roll.best_values\n",
    "params_roll.append(paramsfit_roll['R_0_start'])\n",
    "params_roll.append(paramsfit_roll['k'])\n",
    "params_roll.append(paramsfit_roll['x0'])\n",
    "params_roll.append(paramsfit_roll['R_0_end'])\n",
    "\n",
    "#\n",
    "print('\\n','*** PARÂMETROS OTIMIZADOS DA CURVA LOGÍSTICA DE R_0 PELO FITTING COM OS DADOS SUAVIZADOS DOS ÓBITOS:','\\n')\n",
    "print('    R_0_start = {:.3f}'.format(paramsfit_roll['R_0_start']))\n",
    "print('    k         = {:.3f}'.format(paramsfit_roll['k']))\n",
    "print('    x_0       = {:.0f}'.format(paramsfit_roll['x0']))\n",
    "print('    R_0_end   = {:.3f}'.format(paramsfit_roll['R_0_end']))"
   ]
  },
  {
   "cell_type": "markdown",
   "metadata": {},
   "source": [
    "### Chamada do SOLVER com os parâmetros otimizados da curva logística para R_0(t) para obter as var SEIRD"
   ]
  },
  {
   "cell_type": "code",
   "execution_count": 22,
   "metadata": {},
   "outputs": [],
   "source": [
    "#\n",
    "# Chamada do SOLVER com os parâmetros otimizados da curva logística para R_0(t)\n",
    "#\n",
    "Epi_days = 250 # <-- tempo estimado de duração da pandemia\n",
    "#\n",
    "res_SEIRD = SolverEDOs(Epi_days, N,*parametros)"
   ]
  },
  {
   "cell_type": "code",
   "execution_count": 56,
   "metadata": {},
   "outputs": [],
   "source": [
    "res_SEIRD_roll = SolverEDOs(Epi_days, N,*params_roll)"
   ]
  },
  {
   "cell_type": "markdown",
   "metadata": {},
   "source": [
    "# Plotagem"
   ]
  },
  {
   "cell_type": "markdown",
   "metadata": {},
   "source": [
    "### Curvas IED (S e R fora de escala nessa fase da pandemia)"
   ]
  },
  {
   "cell_type": "code",
   "execution_count": 24,
   "metadata": {},
   "outputs": [
    {
     "data": {
      "image/png": "[encoded data removed]",
      "text/plain": [
       "<Figure size 1008x432 with 1 Axes>"
      ]
     },
     "metadata": {
      "needs_background": "light"
     },
     "output_type": "display_data"
    }
   ],
   "source": [
    "plt.figure(figsize = [14, 6])\n",
    "plt.title('Curvas SEIRD: [EID]')\n",
    "plt.xlim(20,120)\n",
    "#plt.plot(res_SEIRD[0],res_SEIRD[1], label = 'Suscetíveis')\n",
    "plt.plot(res_SEIRD[0],res_SEIRD[2], label = 'Infectados')\n",
    "plt.plot(res_SEIRD[0],res_SEIRD[3], label = 'Expostos')\n",
    "#plt.plot(res_SEIRD[0],res_SEIRD[4], label = 'Recuperados')\n",
    "plt.plot(res_SEIRD[0],res_SEIRD[5], label = 'Óbitos')\n",
    "plt.legend()\n",
    "plt.show()"
   ]
  },
  {
   "cell_type": "code",
   "execution_count": 25,
   "metadata": {},
   "outputs": [
    {
     "data": {
      "image/png": "[encoded data removed]",
      "text/plain": [
       "<Figure size 1008x432 with 1 Axes>"
      ]
     },
     "metadata": {
      "needs_background": "light"
     },
     "output_type": "display_data"
    }
   ],
   "source": [
    "plt.figure(figsize = [14, 6])\n",
    "plt.title('Curvas SEIRD: [IR]')\n",
    "plt.xlim(20,100)\n",
    "#plt.plot(res_SEIRD[0],res_SEIRD[1], label = 'Suscetíveis')\n",
    "plt.plot(res_SEIRD[0],res_SEIRD[2], label = 'Infectados')\n",
    "#plt.plot(dados[0],dados[3], label = 'Expostos')\n",
    "plt.plot(res_SEIRD[0],res_SEIRD[4], label = 'Recuperados')\n",
    "plt.legend()\n",
    "plt.show()"
   ]
  },
  {
   "cell_type": "markdown",
   "metadata": {},
   "source": [
    "### Ajuste da curva estimada de óbitos aos dados"
   ]
  },
  {
   "cell_type": "code",
   "execution_count": 60,
   "metadata": {},
   "outputs": [
    {
     "data": {
      "image/png": "[encoded data removed]",
      "text/plain": [
       "<Figure size 1008x432 with 1 Axes>"
      ]
     },
     "metadata": {
      "needs_background": "light"
     },
     "output_type": "display_data"
    }
   ],
   "source": [
    "plt.figure(figsize = [14, 6])\n",
    "plt.xlim(10,90)\n",
    "#plt. ylim(0,40)\n",
    "plt.plot(res_SEIRD[0],res_SEIRD[5],           label = 'Óbitos estimados', color='m')\n",
    "plt.bar(x_data, y_data,                       label = 'Dados de obitos')\n",
    "plt.plot(res_SEIRD_roll[0],res_SEIRD_roll[5], label = 'Óbitos estimados suavizados', color='black')\n",
    "plt.bar(x_rolling, y_rolling,                 label = 'Óbitos suavizados por Média-Móvel')\n",
    "plt.legend()\n",
    "plt.show()"
   ]
  },
  {
   "cell_type": "markdown",
   "metadata": {},
   "source": [
    "### Curva variação de R_0(t)"
   ]
  },
  {
   "cell_type": "code",
   "execution_count": 57,
   "metadata": {},
   "outputs": [
    {
     "data": {
      "text/plain": [
       "[<matplotlib.lines.Line2D at 0x21851f6ecc0>]"
      ]
     },
     "execution_count": 57,
     "metadata": {},
     "output_type": "execute_result"
    },
    {
     "data": {
      "image/png": "[encoded data removed]",
      "text/plain": [
       "<Figure size 720x288 with 1 Axes>"
      ]
     },
     "metadata": {
      "needs_background": "light"
     },
     "output_type": "display_data"
    }
   ],
   "source": [
    "plt.figure(figsize = [10, 4])\n",
    "plt.xlim(30,60)\n",
    "plt.title('R_0')\n",
    "plt.plot(res_SEIRD[0],res_SEIRD[6], label = 'R_0')"
   ]
  }
 ],
 "metadata": {
  "colab": {
   "collapsed_sections": [
    "UUG85HqL2QEt",
    "ZuuEGEUpiHEX"
   ],
   "name": "part_three.ipynb",
   "provenance": []
  },
  "kernelspec": {
   "display_name": "Python 3",
   "language": "python",
   "name": "python3"
  },
  "language_info": {
   "codemirror_mode": {
    "name": "ipython",
    "version": 3
   },
   "file_extension": ".py",
   "mimetype": "text/x-python",
   "name": "python",
   "nbconvert_exporter": "python",
   "pygments_lexer": "ipython3",
   "version": "3.7.3"
  }
 },
 "nbformat": 4,
 "nbformat_minor": 1
}
