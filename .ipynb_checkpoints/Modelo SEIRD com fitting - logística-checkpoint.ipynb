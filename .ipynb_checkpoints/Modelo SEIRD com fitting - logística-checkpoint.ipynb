{
 "cells": [
  {
   "cell_type": "markdown",
   "metadata": {
    "colab_type": "text",
    "id": "JDbZy9ovyHm4"
   },
   "source": [
    "# SEIRD Data Fitting Model from Henri Froesi for Brazilian States Covid19 - Evolution and Prediction"
   ]
  },
  {
   "cell_type": "markdown",
   "metadata": {},
   "source": [
    "## References: \n",
    "\n",
    "### [1] Modelling Beyond the Basic SIR Model - Henri Froesi - Towards Data Science\n",
    "#### https://towardsdatascience.com/infectious-disease-modelling-beyond-the-basic-sir-model-216369c584c4\n",
    "\n",
    "### [2] Infectious Disease Modelling. Fitting Your Model to Corona Virus Data - Henri Froesi-Towards Data Science\n",
    "#### https://towardsdatascience.com/infectious-disease-modelling-fit-your-model-to-coronavirus-data-2568e672dbc7"
   ]
  },
  {
   "cell_type": "markdown",
   "metadata": {},
   "source": [
    "### Adapted by Ivan Carlos P. da Cruz (GitHub @icpcruz)\n",
    "### Revision and contributions by Eduardo Correa Araújo (GitHub @eduardocorrearaujo)\n",
    "### Special thanks to Marcus Carvalho (GitHub @marcuswac) for finding a fundamental glitch!"
   ]
  },
  {
   "cell_type": "markdown",
   "metadata": {},
   "source": [
    "# Model summary ref. [1]"
   ]
  },
  {
   "cell_type": "markdown",
   "metadata": {},
   "source": [
    "<img src=\"SEIRD%20model.png\" style=\"width:600px\" />"
   ]
  },
  {
   "cell_type": "markdown",
   "metadata": {
    "colab_type": "text",
    "id": "zWWq3zgge-R3"
   },
   "source": [
    "# Imports"
   ]
  },
  {
   "cell_type": "code",
   "execution_count": 1,
   "metadata": {
    "_cell_guid": "79c7e3d0-c299-4dcb-8224-4455121ee9b0",
    "_uuid": "d629ff2d2480ee46fbb7e2d37f6b5fab8052498a",
    "colab": {
     "base_uri": "https://localhost:8080/",
     "height": 607
    },
    "colab_type": "code",
    "id": "NHHL1iKyYN5-",
    "outputId": "c3af6e28-02ba-4ebf-d5dd-be29f9a68368"
   },
   "outputs": [],
   "source": [
    "import numpy as np\n",
    "import pandas as pd\n",
    "pd.options.mode.chained_assignment = None  # default='warn'\n",
    "\n",
    "import matplotlib.pyplot as plt\n",
    "import matplotlib.dates as mdates\n",
    "%matplotlib inline \n",
    "\n",
    "from scipy.integrate import odeint\n",
    "\n",
    "# !pip install lmfit - DONE !\n",
    "import lmfit\n",
    "from lmfit import Model # classe lmfit para a criação do modelo de fitting\n",
    "\n",
    "import numdifftools # permite que lmfit calcule a matriz de correlações\n",
    "\n",
    "import datetime\n",
    "\n",
    "import warnings\n",
    "warnings.filterwarnings('ignore')"
   ]
  },
  {
   "cell_type": "markdown",
   "metadata": {},
   "source": [
    "#### para centralizar os gráficos na página"
   ]
  },
  {
   "cell_type": "code",
   "execution_count": 2,
   "metadata": {},
   "outputs": [
    {
     "data": {
      "text/html": [
       "\n",
       "<style>\n",
       ".output_png {\n",
       "    display: table-cell;\n",
       "    text-align: center;\n",
       "    vertical-align: middle;\n",
       "}\n",
       "</style>\n"
      ],
      "text/plain": [
       "<IPython.core.display.HTML object>"
      ]
     },
     "execution_count": 2,
     "metadata": {},
     "output_type": "execute_result"
    }
   ],
   "source": [
    "from IPython.core.display import HTML\n",
    "HTML(\"\"\"\n",
    "<style>\n",
    ".output_png {\n",
    "    display: table-cell;\n",
    "    text-align: center;\n",
    "    vertical-align: middle;\n",
    "}\n",
    "</style>\n",
    "\"\"\")"
   ]
  },
  {
   "cell_type": "markdown",
   "metadata": {},
   "source": [
    "## Importação de dados de óbitos diários por estado brasileiro (NE)"
   ]
  },
  {
   "cell_type": "markdown",
   "metadata": {},
   "source": [
    "### Diretório sincronizado com o GitHub dos dados (arquivos csv):"
   ]
  },
  {
   "cell_type": "code",
   "execution_count": 3,
   "metadata": {},
   "outputs": [],
   "source": [
    "path = \"C:/Users/Ivan/Documents/GitHub/googleData/data/\""
   ]
  },
  {
   "cell_type": "markdown",
   "metadata": {},
   "source": [
    "### Dicionário de nomes dos arquivos de óbitos diários por estado do NE"
   ]
  },
  {
   "cell_type": "code",
   "execution_count": 4,
   "metadata": {},
   "outputs": [],
   "source": [
    "pref = \"ON\"\n",
    "suf  = \"_An.csv\"\n",
    "Data_files_names = {\n",
    "    \"Alagoas\"    : pref+\"AiL\"+suf ,\n",
    "    \"Bahia\"      : pref+\"BiA\"+suf ,\n",
    "    \"Brasil\"     : pref+\"BiR\"+suf ,\n",
    "    \"Ceará\"      : pref+\"CiE\"+suf ,\n",
    "    \"Maranhão\"   : pref+\"MiA\"+suf ,\n",
    "    \"Paraíba\"    : pref+\"PiB\"+suf ,\n",
    "    \"Pernambuco\" : pref+\"PiE\"+suf ,\n",
    "    \"Piauí\"      : pref+\"PiI\"+suf ,\n",
    "    \"RioGrdoN\"   : pref+\"RiN\"+suf ,\n",
    "    \"Sergipe\"    : pref+\"SiE\"+suf\n",
    "}"
   ]
  },
  {
   "cell_type": "markdown",
   "metadata": {},
   "source": [
    "### Leitura dos arquivos (atualizados diariamente)"
   ]
  },
  {
   "cell_type": "code",
   "execution_count": 5,
   "metadata": {
    "scrolled": true
   },
   "outputs": [],
   "source": [
    "data_ON_AL = pd.read_csv(path+Data_files_names[\"Alagoas\"], sep =\",\")\n",
    "data_ON_BA = pd.read_csv(path+Data_files_names[\"Bahia\"], sep =\",\")\n",
    "data_ON_BR = pd.read_csv(path+Data_files_names[\"Brasil\"], sep =\",\")\n",
    "data_ON_CE = pd.read_csv(path+Data_files_names[\"Ceará\"], sep =\",\")\n",
    "data_ON_MA = pd.read_csv(path+Data_files_names[\"Maranhão\"], sep =\",\")\n",
    "data_ON_PB = pd.read_csv(path+Data_files_names[\"Paraíba\"], sep =\",\")\n",
    "data_ON_PE = pd.read_csv(path+Data_files_names[\"Pernambuco\"], sep =\",\")\n",
    "data_ON_PI = pd.read_csv(path+Data_files_names[\"Piauí\"], sep =\",\")\n",
    "data_ON_RN = pd.read_csv(path+Data_files_names[\"RioGrdoN\"], sep =\",\")\n",
    "data_ON_SE = pd.read_csv(path+Data_files_names[\"Sergipe\"], sep =\",\")"
   ]
  },
  {
   "cell_type": "markdown",
   "metadata": {},
   "source": [
    "### \"Parsing\" das datas"
   ]
  },
  {
   "cell_type": "code",
   "execution_count": 6,
   "metadata": {},
   "outputs": [],
   "source": [
    "format_str = \"%Y-%m-%d\"\n",
    "data_ON_AL['Data'] = data_ON_AL['Data'].apply(lambda x:datetime.datetime.strptime(x,format_str))\n",
    "data_ON_BA['Data'] = data_ON_BA['Data'].apply(lambda x:datetime.datetime.strptime(x,format_str))\n",
    "data_ON_BR['Data'] = data_ON_BR['Data'].apply(lambda x:datetime.datetime.strptime(x,format_str))\n",
    "data_ON_CE['Data'] = data_ON_CE['Data'].apply(lambda x:datetime.datetime.strptime(x,format_str))\n",
    "data_ON_MA['Data'] = data_ON_MA['Data'].apply(lambda x:datetime.datetime.strptime(x,format_str))\n",
    "data_ON_PB['Data'] = data_ON_PB['Data'].apply(lambda x:datetime.datetime.strptime(x,format_str))\n",
    "data_ON_PE['Data'] = data_ON_PE['Data'].apply(lambda x:datetime.datetime.strptime(x,format_str))\n",
    "data_ON_PI['Data'] = data_ON_PI['Data'].apply(lambda x:datetime.datetime.strptime(x,format_str))\n",
    "data_ON_RN['Data'] = data_ON_RN['Data'].apply(lambda x:datetime.datetime.strptime(x,format_str))\n",
    "data_ON_SE['Data'] = data_ON_SE['Data'].apply(lambda x:datetime.datetime.strptime(x,format_str))"
   ]
  },
  {
   "cell_type": "code",
   "execution_count": 7,
   "metadata": {},
   "outputs": [
    {
     "name": "stdout",
     "output_type": "stream",
     "text": [
      "<class 'pandas.core.frame.DataFrame'>\n",
      "RangeIndex: 112 entries, 0 to 111\n",
      "Data columns (total 2 columns):\n",
      "Data        112 non-null datetime64[ns]\n",
      "ONBiR_An    112 non-null float64\n",
      "dtypes: datetime64[ns](1), float64(1)\n",
      "memory usage: 1.8 KB\n"
     ]
    }
   ],
   "source": [
    "data_ON_BR.info()"
   ]
  },
  {
   "cell_type": "code",
   "execution_count": 8,
   "metadata": {},
   "outputs": [
    {
     "data": {
      "text/html": [
       "<div>\n",
       "<style scoped>\n",
       "    .dataframe tbody tr th:only-of-type {\n",
       "        vertical-align: middle;\n",
       "    }\n",
       "\n",
       "    .dataframe tbody tr th {\n",
       "        vertical-align: top;\n",
       "    }\n",
       "\n",
       "    .dataframe thead th {\n",
       "        text-align: right;\n",
       "    }\n",
       "</style>\n",
       "<table border=\"1\" class=\"dataframe\">\n",
       "  <thead>\n",
       "    <tr style=\"text-align: right;\">\n",
       "      <th></th>\n",
       "      <th>Data</th>\n",
       "      <th>ONBiR_An</th>\n",
       "    </tr>\n",
       "  </thead>\n",
       "  <tbody>\n",
       "    <tr>\n",
       "      <th>107</th>\n",
       "      <td>2020-06-11</td>\n",
       "      <td>1239.0</td>\n",
       "    </tr>\n",
       "    <tr>\n",
       "      <th>108</th>\n",
       "      <td>2020-06-12</td>\n",
       "      <td>909.0</td>\n",
       "    </tr>\n",
       "    <tr>\n",
       "      <th>109</th>\n",
       "      <td>2020-06-13</td>\n",
       "      <td>892.0</td>\n",
       "    </tr>\n",
       "    <tr>\n",
       "      <th>110</th>\n",
       "      <td>2020-06-14</td>\n",
       "      <td>612.0</td>\n",
       "    </tr>\n",
       "    <tr>\n",
       "      <th>111</th>\n",
       "      <td>2020-06-15</td>\n",
       "      <td>627.0</td>\n",
       "    </tr>\n",
       "  </tbody>\n",
       "</table>\n",
       "</div>"
      ],
      "text/plain": [
       "          Data  ONBiR_An\n",
       "107 2020-06-11    1239.0\n",
       "108 2020-06-12     909.0\n",
       "109 2020-06-13     892.0\n",
       "110 2020-06-14     612.0\n",
       "111 2020-06-15     627.0"
      ]
     },
     "execution_count": 8,
     "metadata": {},
     "output_type": "execute_result"
    }
   ],
   "source": [
    "data_ON_BR.tail()"
   ]
  },
  {
   "cell_type": "code",
   "execution_count": 9,
   "metadata": {},
   "outputs": [
    {
     "data": {
      "text/html": [
       "<div>\n",
       "<style scoped>\n",
       "    .dataframe tbody tr th:only-of-type {\n",
       "        vertical-align: middle;\n",
       "    }\n",
       "\n",
       "    .dataframe tbody tr th {\n",
       "        vertical-align: top;\n",
       "    }\n",
       "\n",
       "    .dataframe thead th {\n",
       "        text-align: right;\n",
       "    }\n",
       "</style>\n",
       "<table border=\"1\" class=\"dataframe\">\n",
       "  <thead>\n",
       "    <tr style=\"text-align: right;\">\n",
       "      <th></th>\n",
       "      <th>ONBiR_An</th>\n",
       "    </tr>\n",
       "  </thead>\n",
       "  <tbody>\n",
       "    <tr>\n",
       "      <th>count</th>\n",
       "      <td>112.000000</td>\n",
       "    </tr>\n",
       "    <tr>\n",
       "      <th>mean</th>\n",
       "      <td>392.491071</td>\n",
       "    </tr>\n",
       "    <tr>\n",
       "      <th>std</th>\n",
       "      <td>422.811610</td>\n",
       "    </tr>\n",
       "    <tr>\n",
       "      <th>min</th>\n",
       "      <td>0.000000</td>\n",
       "    </tr>\n",
       "    <tr>\n",
       "      <th>25%</th>\n",
       "      <td>10.500000</td>\n",
       "    </tr>\n",
       "    <tr>\n",
       "      <th>50%</th>\n",
       "      <td>204.000000</td>\n",
       "    </tr>\n",
       "    <tr>\n",
       "      <th>75%</th>\n",
       "      <td>692.250000</td>\n",
       "    </tr>\n",
       "    <tr>\n",
       "      <th>max</th>\n",
       "      <td>1473.000000</td>\n",
       "    </tr>\n",
       "  </tbody>\n",
       "</table>\n",
       "</div>"
      ],
      "text/plain": [
       "          ONBiR_An\n",
       "count   112.000000\n",
       "mean    392.491071\n",
       "std     422.811610\n",
       "min       0.000000\n",
       "25%      10.500000\n",
       "50%     204.000000\n",
       "75%     692.250000\n",
       "max    1473.000000"
      ]
     },
     "execution_count": 9,
     "metadata": {},
     "output_type": "execute_result"
    }
   ],
   "source": [
    "data_ON_BR.describe()"
   ]
  },
  {
   "cell_type": "markdown",
   "metadata": {},
   "source": [
    "### Definindo as colunas 'Data' como índices"
   ]
  },
  {
   "cell_type": "code",
   "execution_count": 10,
   "metadata": {},
   "outputs": [
    {
     "name": "stdout",
     "output_type": "stream",
     "text": [
      "<class 'pandas.core.frame.DataFrame'>\n",
      "RangeIndex: 112 entries, 0 to 111\n",
      "Data columns (total 2 columns):\n",
      "Data        112 non-null datetime64[ns]\n",
      "ONBiR_An    112 non-null float64\n",
      "dtypes: datetime64[ns](1), float64(1)\n",
      "memory usage: 1.8 KB\n"
     ]
    }
   ],
   "source": [
    "data_ON_AL.set_index('Data')\n",
    "data_ON_BA.set_index('Data')\n",
    "data_ON_BR.set_index('Data')\n",
    "data_ON_CE.set_index('Data')\n",
    "data_ON_MA.set_index('Data')\n",
    "data_ON_PB.set_index('Data')\n",
    "data_ON_PE.set_index('Data')\n",
    "data_ON_PI.set_index('Data')\n",
    "data_ON_RN.set_index('Data')\n",
    "data_ON_SE.set_index('Data')\n",
    "data_ON_BR.info()"
   ]
  },
  {
   "cell_type": "code",
   "execution_count": 11,
   "metadata": {},
   "outputs": [
    {
     "data": {
      "text/html": [
       "<div>\n",
       "<style scoped>\n",
       "    .dataframe tbody tr th:only-of-type {\n",
       "        vertical-align: middle;\n",
       "    }\n",
       "\n",
       "    .dataframe tbody tr th {\n",
       "        vertical-align: top;\n",
       "    }\n",
       "\n",
       "    .dataframe thead th {\n",
       "        text-align: right;\n",
       "    }\n",
       "</style>\n",
       "<table border=\"1\" class=\"dataframe\">\n",
       "  <thead>\n",
       "    <tr style=\"text-align: right;\">\n",
       "      <th></th>\n",
       "      <th>Data</th>\n",
       "      <th>ONBiR_An</th>\n",
       "    </tr>\n",
       "  </thead>\n",
       "  <tbody>\n",
       "    <tr>\n",
       "      <th>107</th>\n",
       "      <td>2020-06-11</td>\n",
       "      <td>1239.0</td>\n",
       "    </tr>\n",
       "    <tr>\n",
       "      <th>108</th>\n",
       "      <td>2020-06-12</td>\n",
       "      <td>909.0</td>\n",
       "    </tr>\n",
       "    <tr>\n",
       "      <th>109</th>\n",
       "      <td>2020-06-13</td>\n",
       "      <td>892.0</td>\n",
       "    </tr>\n",
       "    <tr>\n",
       "      <th>110</th>\n",
       "      <td>2020-06-14</td>\n",
       "      <td>612.0</td>\n",
       "    </tr>\n",
       "    <tr>\n",
       "      <th>111</th>\n",
       "      <td>2020-06-15</td>\n",
       "      <td>627.0</td>\n",
       "    </tr>\n",
       "  </tbody>\n",
       "</table>\n",
       "</div>"
      ],
      "text/plain": [
       "          Data  ONBiR_An\n",
       "107 2020-06-11    1239.0\n",
       "108 2020-06-12     909.0\n",
       "109 2020-06-13     892.0\n",
       "110 2020-06-14     612.0\n",
       "111 2020-06-15     627.0"
      ]
     },
     "execution_count": 11,
     "metadata": {},
     "output_type": "execute_result"
    }
   ],
   "source": [
    "data_ON_BR.tail()"
   ]
  },
  {
   "cell_type": "markdown",
   "metadata": {},
   "source": [
    "## Parâmetros Epidemiológicos Assumidos para a Covid-19 (como universais) p/o SEIRD"
   ]
  },
  {
   "cell_type": "code",
   "execution_count": 12,
   "metadata": {},
   "outputs": [
    {
     "name": "stdout",
     "output_type": "stream",
     "text": [
      "\n",
      " *** PARÂMETROS EPIDEMIOLÓGICOS ADOTADOS NO MODELO SEIRD: \n",
      "\n",
      "    Freq de letalidade   (alpha) = 0.005\n",
      "    Freq de incubação    (delta) = 0.200\n",
      "    Freq de infetividade (gamma) = 0.111\n",
      "    Freq para óbito      (rho)   = 0.059\n"
     ]
    }
   ],
   "source": [
    "#\n",
    "# VALORES MÉDIOS ASSUMIDOS (ref. https://theconversation.com/how-long-are-you-infectious-when-you-have-coronavirus-135295):\n",
    "#\n",
    "num_of_incubation     = 5      # número de dias de incubação da doença (1/delta). \n",
    "num_of_infecting_days = 9      # número de dias que um infectado (ativo) infecta outros (= D = 1/gama)\n",
    "num_to_dead           = 17     # número de dias para evoluir de infectado para óbito (1/rho)\n",
    "subnotif_index        = 12     # número de vezes que os casos reais de infectados é maior que os notificados\n",
    "apparent_letality     = 0.065  # taxa aparente de letalidade (% dos notificados que vão a óbito)\n",
    "#\n",
    "Epi_days              = 200    # duração arbitrada da pandemia\n",
    "#\n",
    "# FREQUÊNCIAS (POR DIA) CORRESPONDENTES\n",
    "#\n",
    "alpha = apparent_letality/subnotif_index\n",
    "delta = 1/num_of_incubation\n",
    "gamma = 1/num_of_infecting_days  \n",
    "rho   = 1/num_to_dead\n",
    "#\n",
    "print('\\n','*** PARÂMETROS EPIDEMIOLÓGICOS ADOTADOS NO MODELO SEIRD:','\\n')\n",
    "print('    Freq de letalidade   (alpha) = {:.3f}'.format(alpha))\n",
    "print('    Freq de incubação    (delta) = {:.3f}'.format(delta))\n",
    "print('    Freq de infetividade (gamma) = {:.3f}'.format(gamma))\n",
    "print('    Freq para óbito      (rho)   = {:.3f}'.format(rho))"
   ]
  },
  {
   "cell_type": "markdown",
   "metadata": {},
   "source": [
    "### Dados da população por estado"
   ]
  },
  {
   "cell_type": "code",
   "execution_count": 13,
   "metadata": {},
   "outputs": [],
   "source": [
    "N_BR ={\"Brasil\": 210147125, \n",
    "             \"Nordeste\": \n",
    "                 {'MA':7075181, \n",
    "                  'PI':3273227, \n",
    "                  'CE':9132078, \n",
    "                  'RN':3506853, \n",
    "                  'PB':4018127, \n",
    "                  'PE':9557071, \n",
    "                  'AL':3337357, \n",
    "                  'SE':2298696, \n",
    "                  'BA':14873064}, \n",
    "             \"Norte\": \n",
    "                 {'RO':1777225, \n",
    "                  'AC':881935, \n",
    "                  'AM':4144597, \n",
    "                  'RR': 605761, \n",
    "                  'PA':8602865, \n",
    "                  'AP':845731, \n",
    "                  'TO':1572866}, \n",
    "             \"Sudeste\": \n",
    "                 {'MG':21168791,\n",
    "                  'ES':4018650, \n",
    "                  'RJ':17264943, \n",
    "                  'SP':45919049}, \n",
    "             \"Sul\": \n",
    "                 {'PR':11433957, \n",
    "                  'SC':7164788, \n",
    "                  'RS':11377239}, \n",
    "             \"Centro-Oeste\": \n",
    "                 {'MS':2778986, \n",
    "                  'MT':3484466, \n",
    "                  'GO':7018354, \n",
    "                  'DF':3015268} }"
   ]
  },
  {
   "cell_type": "markdown",
   "metadata": {
    "colab_type": "text",
    "id": "UCHaMqyEfBxX"
   },
   "source": [
    "# Modelo com R_0 (e \"beta\") dependentes do tempo"
   ]
  },
  {
   "cell_type": "markdown",
   "metadata": {},
   "source": [
    "### Função sistema de EDOs do modelo SEIRD que é recursivamente chamada pelo solver das ODEs"
   ]
  },
  {
   "cell_type": "code",
   "execution_count": 14,
   "metadata": {},
   "outputs": [],
   "source": [
    "def deriv(y, t, N, beta, gamma, delta, alpha, rho):\n",
    "    #\n",
    "    S, E, I, R, D = y\n",
    "    #\n",
    "    dSdt = -beta(t) * S * I / N\n",
    "    dEdt = beta(t) * S * I / N - delta * E\n",
    "    dIdt = delta * E - (1 - alpha) * gamma * I - alpha * rho * I\n",
    "    dRdt = (1 - alpha) * gamma * I\n",
    "    dDdt = alpha * rho * I\n",
    "    #\n",
    "    return dSdt, dEdt, dIdt, dRdt, dDdt"
   ]
  },
  {
   "cell_type": "markdown",
   "metadata": {},
   "source": [
    "### R_0(t) como uma função logística (com 4 parâmetros a serem ajustados pelo algorítimo de fitting/otimização)"
   ]
  },
  {
   "cell_type": "code",
   "execution_count": 15,
   "metadata": {},
   "outputs": [],
   "source": [
    "def logistic_R_0(t, R_0_start, k, x0, R_0_end):\n",
    "    return (R_0_start-R_0_end) / (1 + np.exp(-k*(-t+x0))) + R_0_end"
   ]
  },
  {
   "cell_type": "markdown",
   "metadata": {},
   "source": [
    "#### Os parâmetros que serão ajustados no processo de otimização (fitting), são:"
   ]
  },
  {
   "cell_type": "markdown",
   "metadata": {},
   "source": [
    "* **R_0_start** : qual era o valor da taxa de infetividade (R_0) no início da pandemia\n",
    "* **R_0_end**  : qual será o valor da taxa de infetividade (R_0) ao fim da pandemia\n",
    "* **k**         : parâmetro que fornece a taxa de decaímento de R_0\n",
    "* **x0**        : posição \"mediana\" da curva logística => para lim( k -> infinito) => função degrau, x_0 é a posição do degrau"
   ]
  },
  {
   "cell_type": "markdown",
   "metadata": {},
   "source": [
    "<img src=\"CurvaLogistica.png\" style=\"width:800px\" />"
   ]
  },
  {
   "cell_type": "markdown",
   "metadata": {},
   "source": [
    "#### Valores inicias arbitrados dos parâmetros para o processo de otimização dados como tuplas (esperado, mínimo, máximo)"
   ]
  },
  {
   "cell_type": "code",
   "execution_count": 16,
   "metadata": {},
   "outputs": [],
   "source": [
    "params_init_min_max = {\"R_0_start\": (3.0, 2.0, 6.0),\n",
    "                       \"k\": (0.5, 0.01, 10.0), \n",
    "                       \"x0\": (30, 0, 250), \n",
    "                       \"R_0_end\": (0.9, 0.1, 3.5)}"
   ]
  },
  {
   "cell_type": "markdown",
   "metadata": {
    "colab_type": "text",
    "id": "J_5dKWOEgTzM"
   },
   "source": [
    "# Ajuste das curvas R_0(t) e SEIRD a partir dos dados de mortalidade diária"
   ]
  },
  {
   "cell_type": "markdown",
   "metadata": {},
   "source": [
    "### Definição da função solver do sistema de EDOs do modelo SEIRD que é recursivamente chamada pelo algoritmo de otimização (fitting aos dados) "
   ]
  },
  {
   "cell_type": "code",
   "execution_count": 17,
   "metadata": {},
   "outputs": [],
   "source": [
    "def SolverEDOs(days, N, R_0_start, k, x0, R_0_end):\n",
    "    #\n",
    "    # definição da função beta(t) = R_0(t)*gama\n",
    "    #\n",
    "    def beta(t):\n",
    "        return logistic_R_0(t, R_0_start, k, x0, R_0_end) * gamma\n",
    "    #\n",
    "    # Valores iniciais das variáveid do SEIRD: N-1 (população), 1 exposto, 0 infectado, recuperados ou mortos\n",
    "    #\n",
    "    y0 = N-1.0, 1.0, 0.0, 0.0, 0.0\n",
    "    #\n",
    "    # geração da grid temporal a partir da quantidade de dias informados\n",
    "    #\n",
    "    t = np.arange(days)\n",
    "    #print(t)\n",
    "    #\n",
    "    # Integração do sistema de EDOs - o sistema é passado pela função 'deriv' na chamada do solver\n",
    "    #\n",
    "    ret = odeint(deriv, y0, t, args=(N, beta, gamma, delta, alpha, rho))\n",
    "    #\n",
    "    # Salvando os resultados nas variáveis do sistema\n",
    "    #\n",
    "    S, E, I, R, D = ret.T\n",
    "    #\n",
    "    # Cálculo de R_0(t)\n",
    "    #\n",
    "    R_0_over_time = [beta(i)/gamma for i in range(len(t))]\n",
    "    #\n",
    "    return t, S, E, I, R, D, R_0_over_time"
   ]
  },
  {
   "cell_type": "markdown",
   "metadata": {},
   "source": [
    "### Teste: Total Brasil"
   ]
  },
  {
   "cell_type": "code",
   "execution_count": 61,
   "metadata": {},
   "outputs": [],
   "source": [
    "N       = N_BR['Brasil']                    # <-- população do estado / país\n",
    "y_orig  = data_ON_BR['ONBiR_An'].to_numpy() # <-- dados originais (óbitos diários) de pandas series para numpy array - ndarray\n",
    "y_data  = np.cumsum(y_orig)                 # <-- dados diários convertidos para acumulados \n",
    "x_data  = np.arange(len(y_data))            # <-- do dia 1 ao final da série (Python inicia em 'zero', daí o +1)\n",
    "days    = len(x_data)                       # <-- duração, até \"hoje\", da pandemia, para o fitting dos parâmetros\n",
    "dates   = data_ON_BR['Data'].to_numpy()     # <-- vetor das datas"
   ]
  },
  {
   "cell_type": "markdown",
   "metadata": {},
   "source": [
    "### Definição da função de fitting que chama o solver das EDOs"
   ]
  },
  {
   "cell_type": "code",
   "execution_count": 19,
   "metadata": {
    "colab": {},
    "colab_type": "code",
    "id": "Wr4UIS6q4M8z"
   },
   "outputs": [],
   "source": [
    "def fitter(x, R_0_start, k, x0, R_0_end):\n",
    "    ret = SolverEDOs(days, N, R_0_start, k, x0, R_0_end) # <-- chama a função solver das EDOs (que chama odeint para integrar)\n",
    "    deaths_fitted = ret[5]                               # <-- óbitos: 6o elem. da tupla (t, S, E, I, R, D, R_0)\n",
    "    return deaths_fitted[x]                              # <-- retorna vetor com as fatalidades no tempo "
   ]
  },
  {
   "cell_type": "markdown",
   "metadata": {},
   "source": [
    "### Criando o modelo de fitting com o pacote 'lmfit' "
   ]
  },
  {
   "cell_type": "code",
   "execution_count": 20,
   "metadata": {
    "colab": {},
    "colab_type": "code",
    "id": "NglgxTIeg16G"
   },
   "outputs": [],
   "source": [
    "# Cria o modelo de fitting passando a função fitter como parâmetro para lmfit \n",
    "#\n",
    "mod = lmfit.Model(fitter)\n",
    "#\n",
    "# Criação do vetor de parâmetros para o fitting, incluindo 3 estimativas iniciais (inicial, min, max) p/cada parâmetro\n",
    "#\n",
    "for kwarg, (init, mini, maxi) in params_init_min_max.items(): # <-- usa as estimativas fornecidas acima\n",
    "    mod.set_param_hint(str(kwarg), value=init, min=mini, max=maxi, vary=True)\n",
    "#\n",
    "# Criação do vetor de parâmetros para o otimizador\n",
    "#\n",
    "params = mod.make_params()"
   ]
  },
  {
   "cell_type": "markdown",
   "metadata": {},
   "source": [
    "## Realizando o fitting com os dados de óbitos diários suavizados (por média móvel)"
   ]
  },
  {
   "cell_type": "code",
   "execution_count": 21,
   "metadata": {
    "scrolled": true
   },
   "outputs": [],
   "source": [
    "window_size = 10 #  <-- tamanho da janela móvel para a suavização\n",
    "\n",
    "# First, we need to convert y_data Numpy ndarray to a Pandas Series\n",
    "\n",
    "y_series = pd.Series(y_data)\n",
    "\n",
    "# Tail-rolling average transform\n",
    "\n",
    "y_rolling_S = y_series.rolling(window=window_size).mean().dropna()\n",
    "\n",
    "# Now getting back to a ndarray\n",
    "\n",
    "y_rolling = y_rolling_S.to_numpy()\n",
    "x_rolling = x_data[window_size-1:] # <-- remove os 'n-1' pontos do início da série por conta da média móvel sobre 'n' pontos\n",
    "dates_rolling = dates[window_size-1:]"
   ]
  },
  {
   "cell_type": "code",
   "execution_count": 22,
   "metadata": {},
   "outputs": [],
   "source": [
    "result_roll = mod.fit(y_rolling, params, method=\"least_squares\", x=x_rolling)"
   ]
  },
  {
   "cell_type": "code",
   "execution_count": 23,
   "metadata": {
    "scrolled": true
   },
   "outputs": [
    {
     "data": {
      "image/png": "[encoded data removed]",
      "text/plain": [
       "<Figure size 432x288 with 1 Axes>"
      ]
     },
     "metadata": {
      "needs_background": "light"
     },
     "output_type": "display_data"
    }
   ],
   "source": [
    "result_roll.plot_fit(datafmt=\"-\");"
   ]
  },
  {
   "cell_type": "markdown",
   "metadata": {},
   "source": [
    "### Parâmetros otimizados do modelo com dados diários suavizados"
   ]
  },
  {
   "cell_type": "code",
   "execution_count": 24,
   "metadata": {},
   "outputs": [
    {
     "name": "stdout",
     "output_type": "stream",
     "text": [
      "\n",
      " *** PARÂMETROS OTIMIZADOS DA CURVA LOGÍSTICA DE R_0 PELO FITTING COM OS DADOS SUAVIZADOS DOS ÓBITOS: \n",
      "\n",
      "    R_0_start = 6.000\n",
      "    k         = 10.000\n",
      "    x_0       = 75\n",
      "    R_0_end   = 0.814\n"
     ]
    }
   ],
   "source": [
    "paramsfit = result_roll.best_values\n",
    "#\n",
    "parametros = []\n",
    "parametros.append(paramsfit['R_0_start'])\n",
    "parametros.append(paramsfit['k'])\n",
    "parametros.append(paramsfit['x0'])\n",
    "parametros.append(paramsfit['R_0_end'])\n",
    "#\n",
    "print('\\n','*** PARÂMETROS OTIMIZADOS DA CURVA LOGÍSTICA DE R_0 PELO FITTING COM OS DADOS SUAVIZADOS DOS ÓBITOS:','\\n')\n",
    "print('    R_0_start = {:.3f}'.format(paramsfit['R_0_start']))\n",
    "print('    k         = {:.3f}'.format(paramsfit['k']))\n",
    "print('    x_0       = {:.0f}'.format(paramsfit['x0']))\n",
    "print('    R_0_end   = {:.3f}'.format(paramsfit['R_0_end']))"
   ]
  },
  {
   "cell_type": "code",
   "execution_count": 25,
   "metadata": {},
   "outputs": [
    {
     "data": {
      "text/html": [
       "<h2> Model</h2> Model(fitter) <h2>Fit Statistics</h2><table><tr><td>fitting method</td><td>least_squares</td><td></td></tr><tr><td># function evals</td><td>17</td><td></td></tr><tr><td># data points</td><td>103</td><td></td></tr><tr><td># variables</td><td>4</td><td></td></tr><tr><td>chi-square</td><td> 4.4714e+08</td><td></td></tr><tr><td>reduced chi-square</td><td> 4516538.13</td><td></td></tr><tr><td>Akaike info crit.</td><td> 1582.21566</td><td></td></tr><tr><td>Bayesian info crit.</td><td> 1592.75458</td><td></td></tr></table><h2>Variables</h2><table><tr><th> name </th><th> value </th><th> standard error </th><th> relative error </th><th> initial value </th><th> min </th><th> max </th><th> vary </th></tr><tr><td> R_0_start </td><td>  6.00000000 </td><td>  0.15657010 </td><td> (2.61%) </td><td> 3.0 </td><td>  2.00000000 </td><td>  6.00000000 </td><td> True </td></tr><tr><td> k </td><td>  10.0000000 </td><td>  3244.50847 </td><td> (32445.08%) </td><td> 0.5 </td><td>  0.01000000 </td><td>  10.0000000 </td><td> True </td></tr><tr><td> x0 </td><td>  75.4656515 </td><td>  3.17724295 </td><td> (4.21%) </td><td> 30 </td><td>  0.00000000 </td><td>  250.000000 </td><td> True </td></tr><tr><td> R_0_end </td><td>  0.81363422 </td><td>  0.15410072 </td><td> (18.94%) </td><td> 0.9 </td><td>  0.10000000 </td><td>  3.50000000 </td><td> True </td></tr></table><h2>Correlations (unreported correlations are < 0.100)</h2><table><tr><td>R_0_start</td><td>x0</td><td>-0.9892</td></tr><tr><td>k</td><td>x0</td><td>0.9153</td></tr><tr><td>R_0_start</td><td>k</td><td>-0.8716</td></tr><tr><td>k</td><td>R_0_end</td><td>0.6189</td></tr><tr><td>x0</td><td>R_0_end</td><td>0.3017</td></tr><tr><td>R_0_start</td><td>R_0_end</td><td>-0.2755</td></tr></table>"
      ],
      "text/plain": [
       "<lmfit.model.ModelResult at 0x26fc4d37f28>"
      ]
     },
     "execution_count": 25,
     "metadata": {},
     "output_type": "execute_result"
    }
   ],
   "source": [
    "result_roll"
   ]
  },
  {
   "cell_type": "markdown",
   "metadata": {},
   "source": [
    "## Relatórios de acurácia e intervalo de confiança do fitting dos dados suavizados"
   ]
  },
  {
   "cell_type": "markdown",
   "metadata": {},
   "source": [
    "### Intervalos de confiança"
   ]
  },
  {
   "cell_type": "code",
   "execution_count": 26,
   "metadata": {},
   "outputs": [],
   "source": [
    "#import time\n",
    "#start_time = time.time()\n",
    "#\n",
    "#Conf_Interval = result_roll.ci_report() # <-- leva 6 mins\n",
    "#\n",
    "#elapsed_time = time.time() - start_time\n",
    "#elapsed_time"
   ]
  },
  {
   "cell_type": "code",
   "execution_count": 27,
   "metadata": {},
   "outputs": [],
   "source": [
    "#Conf_Interval"
   ]
  },
  {
   "cell_type": "markdown",
   "metadata": {},
   "source": [
    "### Plotagem dos resíduos"
   ]
  },
  {
   "cell_type": "code",
   "execution_count": 28,
   "metadata": {},
   "outputs": [
    {
     "data": {
      "text/plain": [
       "(<Figure size 432x432 with 2 Axes>, GridSpec(2, 1, height_ratios=[1, 4]))"
      ]
     },
     "execution_count": 28,
     "metadata": {},
     "output_type": "execute_result"
    },
    {
     "data": {
      "image/png": "[encoded data removed]",
      "text/plain": [
       "<Figure size 432x432 with 2 Axes>"
      ]
     },
     "metadata": {
      "needs_background": "light"
     },
     "output_type": "display_data"
    }
   ],
   "source": [
    "result_roll.plot() # _residuals"
   ]
  },
  {
   "cell_type": "markdown",
   "metadata": {},
   "source": [
    "### Avaliação das incertezas - 50% e 90% de intervalos deconfiança"
   ]
  },
  {
   "cell_type": "code",
   "execution_count": 60,
   "metadata": {},
   "outputs": [
    {
     "data": {
      "image/png": "[encoded data removed]",
      "text/plain": [
       "<Figure size 1224x432 with 1 Axes>"
      ]
     },
     "metadata": {
      "needs_background": "light"
     },
     "output_type": "display_data"
    }
   ],
   "source": [
    "result_roll_50 = result_roll.eval_uncertainty(x=x_rolling, sigma = 0.50)\n",
    "\n",
    "result_roll_90 = result_roll.eval_uncertainty(x=x_rolling, sigma = 0.90)\n",
    "\n",
    "plt.figure(figsize = [17, 6])\n",
    "plt.xlim(60,110)\n",
    "plt.title('Faixa de Incertezas para o Modelo Suavizado')\n",
    "plt.plot(x_rolling, y_rolling, label='Curva dos dados suavizados')\n",
    "plt.plot(x_rolling, result_roll.best_fit, label= 'Curva do melhor ajuste')\n",
    "plt.fill_between(x_rolling, result_roll.best_fit-result_roll_90,\n",
    "                 result_roll.best_fit+result_roll_90, color='#A8A8A8',label = 'Faixa de confiança de 90%')\n",
    "plt.fill_between(x_rolling, result_roll.best_fit-result_roll_50,\n",
    "                 result_roll.best_fit+result_roll_50, color='#888888', label = 'Faixa de confiança de 50%')\n",
    "plt.legend(loc=2)\n",
    "plt.show()"
   ]
  },
  {
   "cell_type": "markdown",
   "metadata": {},
   "source": [
    "### Chamada do SOLVER com os parâmetros otimizados da curva logística para R_0(t) para obter as var SEIRD"
   ]
  },
  {
   "cell_type": "code",
   "execution_count": 30,
   "metadata": {},
   "outputs": [],
   "source": [
    "#\n",
    "# Duração arbitrada da epidemia para traçagem dos gráficos\n",
    "#\n",
    "Epi_days = 250 # <-- tempo estimado de duração da pandemia"
   ]
  },
  {
   "cell_type": "code",
   "execution_count": 31,
   "metadata": {},
   "outputs": [],
   "source": [
    "res_SEIRD_roll = SolverEDOs(Epi_days, N,*parametros)"
   ]
  },
  {
   "cell_type": "markdown",
   "metadata": {},
   "source": [
    "# Plotagem das curvas SEIRD para o modelo com dados suavizados"
   ]
  },
  {
   "cell_type": "markdown",
   "metadata": {},
   "source": [
    "### Curvas IED (S e R fora de escala nessa fase da pandemia)"
   ]
  },
  {
   "cell_type": "code",
   "execution_count": 32,
   "metadata": {},
   "outputs": [
    {
     "data": {
      "image/png": "[encoded data removed]",
      "text/plain": [
       "<Figure size 1224x432 with 1 Axes>"
      ]
     },
     "metadata": {
      "needs_background": "light"
     },
     "output_type": "display_data"
    }
   ],
   "source": [
    "plt.figure(figsize = [17, 6])\n",
    "plt.title('Curvas SEIRD: [EID]')\n",
    "plt.xlim(20,250)\n",
    "#plt.plot(res_SEIRD[0],res_SEIRD[1], label = 'Suscetíveis')\n",
    "plt.plot(res_SEIRD_roll[0],res_SEIRD_roll[2], label = 'Infectados')\n",
    "plt.plot(res_SEIRD_roll[0],res_SEIRD_roll[3], label = 'Expostos')\n",
    "#plt.plot(res_SEIRD_roll[0],res_SEIRD_roll[4], label = 'Recuperados')\n",
    "plt.plot(res_SEIRD_roll[0],res_SEIRD_roll[5], label = 'Óbitos')\n",
    "plt.legend()\n",
    "plt.show()"
   ]
  },
  {
   "cell_type": "code",
   "execution_count": 33,
   "metadata": {},
   "outputs": [
    {
     "data": {
      "image/png": "[encoded data removed]",
      "text/plain": [
       "<Figure size 1224x432 with 1 Axes>"
      ]
     },
     "metadata": {
      "needs_background": "light"
     },
     "output_type": "display_data"
    }
   ],
   "source": [
    "plt.figure(figsize = [17, 6])\n",
    "plt.title('Curvas SEIRD: [IR]')\n",
    "plt.xlim(20,250)\n",
    "#plt.plot(res_SEIRD_roll[0],res_SEIRD_roll[1], label = 'Suscetíveis')\n",
    "plt.plot(res_SEIRD_roll[0],res_SEIRD_roll[2], label = 'Infectados')\n",
    "#plt.plot(dados[0],dados[3], label = 'Expostos')\n",
    "plt.plot(res_SEIRD_roll[0],res_SEIRD_roll[4], label = 'Recuperados')\n",
    "plt.legend()\n",
    "plt.show()"
   ]
  },
  {
   "cell_type": "markdown",
   "metadata": {},
   "source": [
    "### Comparação do ajuste das curvas estimadas de óbitos aos dados originais e suavizados (média móvel de 10 dias)"
   ]
  },
  {
   "cell_type": "code",
   "execution_count": 34,
   "metadata": {},
   "outputs": [
    {
     "data": {
      "image/png": "[encoded data removed]",
      "text/plain": [
       "<Figure size 1224x432 with 1 Axes>"
      ]
     },
     "metadata": {
      "needs_background": "light"
     },
     "output_type": "display_data"
    }
   ],
   "source": [
    "plt.figure(figsize = [17, 6])\n",
    "plt.xlim(10,120)\n",
    "#plt. ylim(0,40)\n",
    "plt.bar(x_data, y_data,                       label = 'Dados de obitos')\n",
    "plt.plot(res_SEIRD_roll[0],res_SEIRD_roll[5], label = 'Óbitos estimados suavizados', color='black')\n",
    "plt.bar(x_rolling, y_rolling,                 label = 'Óbitos suavizados por Média-Móvel', color='red')\n",
    "plt.legend()\n",
    "plt.show()"
   ]
  },
  {
   "cell_type": "code",
   "execution_count": 35,
   "metadata": {},
   "outputs": [
    {
     "data": {
      "image/png": "[encoded data removed]",
      "text/plain": [
       "<Figure size 1224x432 with 1 Axes>"
      ]
     },
     "metadata": {
      "needs_background": "light"
     },
     "output_type": "display_data"
    }
   ],
   "source": [
    "plt.figure(figsize = [17, 6])\n",
    "plt.xlim(10,250)\n",
    "#plt. ylim(0,40)\n",
    "plt.bar(x_data, y_data,                       label = 'Dados de obitos')\n",
    "plt.plot(res_SEIRD_roll[0],res_SEIRD_roll[5], label = 'Óbitos estimados suavizados', color='black')\n",
    "plt.bar(x_rolling, y_rolling,                 label = 'Óbitos suavizados por Média-Móvel', color='red')\n",
    "plt.legend()\n",
    "plt.show()"
   ]
  },
  {
   "cell_type": "code",
   "execution_count": 36,
   "metadata": {},
   "outputs": [],
   "source": [
    "from numpy import diff"
   ]
  },
  {
   "cell_type": "code",
   "execution_count": 63,
   "metadata": {},
   "outputs": [
    {
     "data": {
      "image/png": "[encoded data removed]",
      "text/plain": [
       "<Figure size 1224x432 with 1 Axes>"
      ]
     },
     "metadata": {
      "needs_background": "light"
     },
     "output_type": "display_data"
    }
   ],
   "source": [
    "plt.figure(figsize = [17, 6])\n",
    "#plt.xlim(10,125)\n",
    "#plt. ylim(0,2000)\n",
    "plt.plot(np.delete(res_SEIRD_roll[0], 0), np.diff(res_SEIRD_roll[5]),    label = 'Óbitos diários estimados', color='r')\n",
    "plt.bar(x_data, y_orig,                                                  label = 'Dados de obitos (não suavizados)')\n",
    "plt.legend()\n",
    "plt.show()"
   ]
  },
  {
   "cell_type": "markdown",
   "metadata": {},
   "source": [
    "## Forecast para 14 dias (com os dados suavizados)"
   ]
  },
  {
   "cell_type": "code",
   "execution_count": 41,
   "metadata": {},
   "outputs": [],
   "source": [
    "period = 14 #<-- days forecast\n",
    "#\n",
    "last_day_in_data = x_rolling[len(x_rolling) - 1]\n",
    "last_day_forecast  = last_day_in_data + period"
   ]
  },
  {
   "cell_type": "code",
   "execution_count": 42,
   "metadata": {},
   "outputs": [],
   "source": [
    "Day = pd.Series(res_SEIRD_roll[0])\n",
    "S   = pd.Series(res_SEIRD_roll[1])\n",
    "E   = pd.Series(res_SEIRD_roll[2])\n",
    "I   = pd.Series(res_SEIRD_roll[3])\n",
    "R   = pd.Series(res_SEIRD_roll[4])\n",
    "D   = pd.Series(res_SEIRD_roll[5])"
   ]
  },
  {
   "cell_type": "code",
   "execution_count": 43,
   "metadata": {},
   "outputs": [
    {
     "data": {
      "text/plain": [
       "147"
      ]
     },
     "execution_count": 43,
     "metadata": {},
     "output_type": "execute_result"
    }
   ],
   "source": [
    "len(S)-len(dates_rolling)"
   ]
  },
  {
   "cell_type": "code",
   "execution_count": 56,
   "metadata": {},
   "outputs": [
    {
     "data": {
      "text/html": [
       "<div>\n",
       "<style scoped>\n",
       "    .dataframe tbody tr th:only-of-type {\n",
       "        vertical-align: middle;\n",
       "    }\n",
       "\n",
       "    .dataframe tbody tr th {\n",
       "        vertical-align: top;\n",
       "    }\n",
       "\n",
       "    .dataframe thead th {\n",
       "        text-align: right;\n",
       "    }\n",
       "</style>\n",
       "<table border=\"1\" class=\"dataframe\">\n",
       "  <thead>\n",
       "    <tr style=\"text-align: right;\">\n",
       "      <th></th>\n",
       "      <th>Suscetíveis</th>\n",
       "      <th>Expostos</th>\n",
       "      <th>Infectados</th>\n",
       "      <th>Recuperados</th>\n",
       "      <th>Óbitos</th>\n",
       "      <th>Letalidade %</th>\n",
       "    </tr>\n",
       "    <tr>\n",
       "      <th>Dia da Epidemia</th>\n",
       "      <th></th>\n",
       "      <th></th>\n",
       "      <th></th>\n",
       "      <th></th>\n",
       "      <th></th>\n",
       "      <th></th>\n",
       "    </tr>\n",
       "  </thead>\n",
       "  <tbody>\n",
       "    <tr>\n",
       "      <th>112</th>\n",
       "      <td>192,924,096</td>\n",
       "      <td>1,069,690</td>\n",
       "      <td>2,325,612</td>\n",
       "      <td>13,787,972</td>\n",
       "      <td>39,754</td>\n",
       "      <td>1.7</td>\n",
       "    </tr>\n",
       "    <tr>\n",
       "      <th>113</th>\n",
       "      <td>192,732,986</td>\n",
       "      <td>1,048,942</td>\n",
       "      <td>2,282,142</td>\n",
       "      <td>14,042,566</td>\n",
       "      <td>40,488</td>\n",
       "      <td>1.8</td>\n",
       "    </tr>\n",
       "    <tr>\n",
       "      <th>114</th>\n",
       "      <td>192,545,639</td>\n",
       "      <td>1,028,547</td>\n",
       "      <td>2,239,338</td>\n",
       "      <td>14,292,393</td>\n",
       "      <td>41,209</td>\n",
       "      <td>1.8</td>\n",
       "    </tr>\n",
       "    <tr>\n",
       "      <th>115</th>\n",
       "      <td>192,361,988</td>\n",
       "      <td>1,008,499</td>\n",
       "      <td>2,197,197</td>\n",
       "      <td>14,537,526</td>\n",
       "      <td>41,916</td>\n",
       "      <td>1.9</td>\n",
       "    </tr>\n",
       "    <tr>\n",
       "      <th>116</th>\n",
       "      <td>192,181,969</td>\n",
       "      <td>988,794</td>\n",
       "      <td>2,155,715</td>\n",
       "      <td>14,778,038</td>\n",
       "      <td>42,609</td>\n",
       "      <td>2.0</td>\n",
       "    </tr>\n",
       "    <tr>\n",
       "      <th>117</th>\n",
       "      <td>192,005,518</td>\n",
       "      <td>969,429</td>\n",
       "      <td>2,114,887</td>\n",
       "      <td>15,014,003</td>\n",
       "      <td>43,289</td>\n",
       "      <td>2.0</td>\n",
       "    </tr>\n",
       "    <tr>\n",
       "      <th>118</th>\n",
       "      <td>191,832,571</td>\n",
       "      <td>950,398</td>\n",
       "      <td>2,074,708</td>\n",
       "      <td>15,245,491</td>\n",
       "      <td>43,957</td>\n",
       "      <td>2.1</td>\n",
       "    </tr>\n",
       "    <tr>\n",
       "      <th>119</th>\n",
       "      <td>191,663,067</td>\n",
       "      <td>931,699</td>\n",
       "      <td>2,035,173</td>\n",
       "      <td>15,472,575</td>\n",
       "      <td>44,612</td>\n",
       "      <td>2.2</td>\n",
       "    </tr>\n",
       "    <tr>\n",
       "      <th>120</th>\n",
       "      <td>191,496,942</td>\n",
       "      <td>913,326</td>\n",
       "      <td>1,996,278</td>\n",
       "      <td>15,695,326</td>\n",
       "      <td>45,254</td>\n",
       "      <td>2.3</td>\n",
       "    </tr>\n",
       "    <tr>\n",
       "      <th>121</th>\n",
       "      <td>191,334,137</td>\n",
       "      <td>895,276</td>\n",
       "      <td>1,958,015</td>\n",
       "      <td>15,913,813</td>\n",
       "      <td>45,884</td>\n",
       "      <td>2.3</td>\n",
       "    </tr>\n",
       "    <tr>\n",
       "      <th>122</th>\n",
       "      <td>191,174,591</td>\n",
       "      <td>877,545</td>\n",
       "      <td>1,920,381</td>\n",
       "      <td>16,128,106</td>\n",
       "      <td>46,502</td>\n",
       "      <td>2.4</td>\n",
       "    </tr>\n",
       "    <tr>\n",
       "      <th>123</th>\n",
       "      <td>191,018,246</td>\n",
       "      <td>860,128</td>\n",
       "      <td>1,883,368</td>\n",
       "      <td>16,338,275</td>\n",
       "      <td>47,108</td>\n",
       "      <td>2.5</td>\n",
       "    </tr>\n",
       "    <tr>\n",
       "      <th>124</th>\n",
       "      <td>190,865,042</td>\n",
       "      <td>843,023</td>\n",
       "      <td>1,846,971</td>\n",
       "      <td>16,544,388</td>\n",
       "      <td>47,702</td>\n",
       "      <td>2.6</td>\n",
       "    </tr>\n",
       "  </tbody>\n",
       "</table>\n",
       "</div>"
      ],
      "text/plain": [
       "                 Suscetíveis  Expostos  Infectados  Recuperados  Óbitos  \\\n",
       "Dia da Epidemia                                                           \n",
       "112              192,924,096 1,069,690   2,325,612   13,787,972  39,754   \n",
       "113              192,732,986 1,048,942   2,282,142   14,042,566  40,488   \n",
       "114              192,545,639 1,028,547   2,239,338   14,292,393  41,209   \n",
       "115              192,361,988 1,008,499   2,197,197   14,537,526  41,916   \n",
       "116              192,181,969   988,794   2,155,715   14,778,038  42,609   \n",
       "117              192,005,518   969,429   2,114,887   15,014,003  43,289   \n",
       "118              191,832,571   950,398   2,074,708   15,245,491  43,957   \n",
       "119              191,663,067   931,699   2,035,173   15,472,575  44,612   \n",
       "120              191,496,942   913,326   1,996,278   15,695,326  45,254   \n",
       "121              191,334,137   895,276   1,958,015   15,913,813  45,884   \n",
       "122              191,174,591   877,545   1,920,381   16,128,106  46,502   \n",
       "123              191,018,246   860,128   1,883,368   16,338,275  47,108   \n",
       "124              190,865,042   843,023   1,846,971   16,544,388  47,702   \n",
       "\n",
       "                Letalidade %  \n",
       "Dia da Epidemia               \n",
       "112                      1.7  \n",
       "113                      1.8  \n",
       "114                      1.8  \n",
       "115                      1.9  \n",
       "116                      2.0  \n",
       "117                      2.0  \n",
       "118                      2.1  \n",
       "119                      2.2  \n",
       "120                      2.3  \n",
       "121                      2.3  \n",
       "122                      2.4  \n",
       "123                      2.5  \n",
       "124                      2.6  "
      ]
     },
     "execution_count": 56,
     "metadata": {},
     "output_type": "execute_result"
    }
   ],
   "source": [
    "df = pd.DataFrame()\n",
    "df['Dia da Epidemia'] = Day\n",
    "#df['Datas']           = dates_rolling \n",
    "df['Suscetíveis']     = S\n",
    "df['Expostos']        = E\n",
    "df['Infectados']      = I\n",
    "df['Recuperados']     = R\n",
    "df['Óbitos']          = D\n",
    "df['Letalidade %']    = np.divide(D,I)*100\n",
    "#\n",
    "df.set_index(['Dia da Epidemia'])\n",
    "#\n",
    "pd.options.display.float_format = '{:,.0f}'.format\n",
    "df['Letalidade %'] = df['Letalidade %'].map(lambda x: '%3.1f' % x)\n",
    "forecast14d = pd.DataFrame(df).set_index(['Dia da Epidemia'])[last_day_in_data+1 : last_day_forecast].copy(deep=True)\n",
    "forecast14d"
   ]
  },
  {
   "cell_type": "code",
   "execution_count": 45,
   "metadata": {},
   "outputs": [
    {
     "data": {
      "text/html": [
       "<div>\n",
       "<style scoped>\n",
       "    .dataframe tbody tr th:only-of-type {\n",
       "        vertical-align: middle;\n",
       "    }\n",
       "\n",
       "    .dataframe tbody tr th {\n",
       "        vertical-align: top;\n",
       "    }\n",
       "\n",
       "    .dataframe thead th {\n",
       "        text-align: right;\n",
       "    }\n",
       "</style>\n",
       "<table border=\"1\" class=\"dataframe\">\n",
       "  <thead>\n",
       "    <tr style=\"text-align: right;\">\n",
       "      <th></th>\n",
       "      <th>Dia da Epidemia</th>\n",
       "      <th>Suscetíveis</th>\n",
       "      <th>Expostos</th>\n",
       "      <th>Infectados</th>\n",
       "      <th>Recuperados</th>\n",
       "      <th>Óbitos</th>\n",
       "    </tr>\n",
       "  </thead>\n",
       "  <tbody>\n",
       "    <tr>\n",
       "      <th>count</th>\n",
       "      <td>250</td>\n",
       "      <td>250</td>\n",
       "      <td>250</td>\n",
       "      <td>250</td>\n",
       "      <td>250</td>\n",
       "      <td>250</td>\n",
       "    </tr>\n",
       "    <tr>\n",
       "      <th>mean</th>\n",
       "      <td>124</td>\n",
       "      <td>195,227,564</td>\n",
       "      <td>518,169</td>\n",
       "      <td>930,659</td>\n",
       "      <td>13,432,005</td>\n",
       "      <td>38,728</td>\n",
       "    </tr>\n",
       "    <tr>\n",
       "      <th>std</th>\n",
       "      <td>72</td>\n",
       "      <td>10,466,830</td>\n",
       "      <td>680,983</td>\n",
       "      <td>1,079,446</td>\n",
       "      <td>10,481,910</td>\n",
       "      <td>30,222</td>\n",
       "    </tr>\n",
       "    <tr>\n",
       "      <th>min</th>\n",
       "      <td>0</td>\n",
       "      <td>184,179,025</td>\n",
       "      <td>1</td>\n",
       "      <td>0</td>\n",
       "      <td>0</td>\n",
       "      <td>0</td>\n",
       "    </tr>\n",
       "    <tr>\n",
       "      <th>25%</th>\n",
       "      <td>62</td>\n",
       "      <td>185,556,245</td>\n",
       "      <td>65,480</td>\n",
       "      <td>131,931</td>\n",
       "      <td>78,613</td>\n",
       "      <td>227</td>\n",
       "    </tr>\n",
       "    <tr>\n",
       "      <th>50%</th>\n",
       "      <td>124</td>\n",
       "      <td>190,789,982</td>\n",
       "      <td>227,321</td>\n",
       "      <td>446,949</td>\n",
       "      <td>16,645,450</td>\n",
       "      <td>47,993</td>\n",
       "    </tr>\n",
       "    <tr>\n",
       "      <th>75%</th>\n",
       "      <td>187</td>\n",
       "      <td>209,673,419</td>\n",
       "      <td>742,918</td>\n",
       "      <td>1,456,334</td>\n",
       "      <td>23,790,687</td>\n",
       "      <td>68,595</td>\n",
       "    </tr>\n",
       "    <tr>\n",
       "      <th>max</th>\n",
       "      <td>249</td>\n",
       "      <td>210,147,124</td>\n",
       "      <td>3,600,953</td>\n",
       "      <td>3,673,340</td>\n",
       "      <td>25,704,412</td>\n",
       "      <td>74,113</td>\n",
       "    </tr>\n",
       "  </tbody>\n",
       "</table>\n",
       "</div>"
      ],
      "text/plain": [
       "       Dia da Epidemia  Suscetíveis  Expostos  Infectados  Recuperados  Óbitos\n",
       "count              250          250       250         250          250     250\n",
       "mean               124  195,227,564   518,169     930,659   13,432,005  38,728\n",
       "std                 72   10,466,830   680,983   1,079,446   10,481,910  30,222\n",
       "min                  0  184,179,025         1           0            0       0\n",
       "25%                 62  185,556,245    65,480     131,931       78,613     227\n",
       "50%                124  190,789,982   227,321     446,949   16,645,450  47,993\n",
       "75%                187  209,673,419   742,918   1,456,334   23,790,687  68,595\n",
       "max                249  210,147,124 3,600,953   3,673,340   25,704,412  74,113"
      ]
     },
     "execution_count": 45,
     "metadata": {},
     "output_type": "execute_result"
    }
   ],
   "source": [
    "df.describe()"
   ]
  },
  {
   "cell_type": "markdown",
   "metadata": {},
   "source": [
    "### Curva variação de R_0(t)"
   ]
  },
  {
   "cell_type": "code",
   "execution_count": 46,
   "metadata": {},
   "outputs": [
    {
     "data": {
      "text/plain": [
       "[<matplotlib.lines.Line2D at 0x26fc8f98c88>]"
      ]
     },
     "execution_count": 46,
     "metadata": {},
     "output_type": "execute_result"
    },
    {
     "data": {
      "image/png": "[encoded data removed]",
      "text/plain": [
       "<Figure size 720x288 with 1 Axes>"
      ]
     },
     "metadata": {
      "needs_background": "light"
     },
     "output_type": "display_data"
    }
   ],
   "source": [
    "plt.figure(figsize = [10, 4])\n",
    "plt.xlim(30,200)\n",
    "plt.title('R_0')\n",
    "plt.plot(res_SEIRD_roll[0],res_SEIRD_roll[6], label = 'R_0')"
   ]
  },
  {
   "cell_type": "markdown",
   "metadata": {},
   "source": [
    "### Em melhor resolução"
   ]
  },
  {
   "cell_type": "code",
   "execution_count": 47,
   "metadata": {},
   "outputs": [
    {
     "data": {
      "image/png": "[encoded data removed]",
      "text/plain": [
       "<Figure size 1008x432 with 1 Axes>"
      ]
     },
     "metadata": {
      "needs_background": "light"
     },
     "output_type": "display_data"
    }
   ],
   "source": [
    "xt=np.arange(250, step = .1)\n",
    "yt=np.zeros(2500)\n",
    "#\n",
    "R_0_start = paramsfit['R_0_start']\n",
    "k         = paramsfit['k']\n",
    "x0        = paramsfit['x0']\n",
    "R_0_end   = paramsfit['R_0_end']\n",
    "#\n",
    "i = 0\n",
    "for item in xt:\n",
    "    yt[i] = logistic_R_0(xt[i], R_0_start, k, x0, R_0_end)\n",
    "    i += 1\n",
    "\n",
    "plt.figure(figsize = [14, 6])\n",
    "#plt.xlim(40,50)\n",
    "plt.plot(xt, yt, label = 'Função logístico com os parâmetros otimizados pelo algoritimo lmfit', color='r')\n",
    "plt.legend()\n",
    "plt.show()"
   ]
  }
 ],
 "metadata": {
  "colab": {
   "collapsed_sections": [
    "UUG85HqL2QEt",
    "ZuuEGEUpiHEX"
   ],
   "name": "part_three.ipynb",
   "provenance": []
  },
  "kernelspec": {
   "display_name": "Python 3",
   "language": "python",
   "name": "python3"
  },
  "language_info": {
   "codemirror_mode": {
    "name": "ipython",
    "version": 3
   },
   "file_extension": ".py",
   "mimetype": "text/x-python",
   "name": "python",
   "nbconvert_exporter": "python",
   "pygments_lexer": "ipython3",
   "version": "3.7.3"
  }
 },
 "nbformat": 4,
 "nbformat_minor": 1
}
