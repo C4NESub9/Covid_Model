{
 "cells": [
  {
   "cell_type": "markdown",
   "metadata": {
    "colab_type": "text",
    "id": "JDbZy9ovyHm4"
   },
   "source": [
    "# SEIRD Data Fitting Model from Henri Froesi for Brazilian States Covid19 - Evolution and Prediction"
   ]
  },
  {
   "cell_type": "markdown",
   "metadata": {},
   "source": [
    "## References: \n",
    "\n",
    "### [1] Modelling Beyond the Basic SIR Model - Henri Froesi - Towards Data Science\n",
    "#### https://towardsdatascience.com/infectious-disease-modelling-beyond-the-basic-sir-model-216369c584c4\n",
    "\n",
    "### [2] Infectious Disease Modelling. Fitting Your Model to Corona Virus Data - Henri Froesi-Towards Data Science\n",
    "#### https://towardsdatascience.com/infectious-disease-modelling-fit-your-model-to-coronavirus-data-2568e672dbc7"
   ]
  },
  {
   "cell_type": "markdown",
   "metadata": {},
   "source": [
    "### Adapted by Ivan Carlos P. da Cruz (GitHub @icpcruz)\n",
    "### Revision and contributions by Eduardo Correa Araújo"
   ]
  },
  {
   "cell_type": "markdown",
   "metadata": {},
   "source": [
    "# Model summary ref. [1]"
   ]
  },
  {
   "cell_type": "markdown",
   "metadata": {},
   "source": [
    "<img src=\"SEIRD%20model.png\" style=\"width:600px\" />"
   ]
  },
  {
   "cell_type": "markdown",
   "metadata": {
    "colab_type": "text",
    "id": "zWWq3zgge-R3"
   },
   "source": [
    "# Imports"
   ]
  },
  {
   "cell_type": "code",
   "execution_count": 1,
   "metadata": {
    "_cell_guid": "79c7e3d0-c299-4dcb-8224-4455121ee9b0",
    "_uuid": "d629ff2d2480ee46fbb7e2d37f6b5fab8052498a",
    "colab": {
     "base_uri": "https://localhost:8080/",
     "height": 607
    },
    "colab_type": "code",
    "id": "NHHL1iKyYN5-",
    "outputId": "c3af6e28-02ba-4ebf-d5dd-be29f9a68368"
   },
   "outputs": [],
   "source": [
    "import numpy as np\n",
    "import pandas as pd\n",
    "pd.options.mode.chained_assignment = None  # default='warn'\n",
    "\n",
    "import matplotlib.pyplot as plt\n",
    "import matplotlib.dates as mdates\n",
    "%matplotlib inline \n",
    "\n",
    "\n",
    "\n",
    "from scipy.integrate import odeint\n",
    "\n",
    "# !pip install lmfit - DONE !\n",
    "import lmfit\n",
    "from lmfit import Model # classe lmfit para a criação do modelo de fitting\n",
    "\n",
    "#import numdifftools # permite que lmfit calcule a matriz de correlações\n",
    "\n",
    "import datetime\n",
    "\n",
    "import warnings\n",
    "warnings.filterwarnings('ignore')"
   ]
  },
  {
   "cell_type": "markdown",
   "metadata": {},
   "source": [
    "#### Importação da biblioteca 'bokeh' para vizualização dinâmica dos gráficos "
   ]
  },
  {
   "cell_type": "code",
   "execution_count": 2,
   "metadata": {},
   "outputs": [
    {
     "data": {
      "text/html": [
       "\n",
       "    <div class=\"bk-root\">\n",
       "        <a href=\"https://bokeh.pydata.org\" target=\"_blank\" class=\"bk-logo bk-logo-small bk-logo-notebook\"></a>\n",
       "        <span id=\"1002\">Loading BokehJS ...</span>\n",
       "    </div>"
      ]
     },
     "metadata": {},
     "output_type": "display_data"
    },
    {
     "data": {
      "application/javascript": [
       "\n",
       "(function(root) {\n",
       "  function now() {\n",
       "    return new Date();\n",
       "  }\n",
       "\n",
       "  var force = true;\n",
       "\n",
       "  if (typeof (root._bokeh_onload_callbacks) === \"undefined\" || force === true) {\n",
       "    root._bokeh_onload_callbacks = [];\n",
       "    root._bokeh_is_loading = undefined;\n",
       "  }\n",
       "\n",
       "  var JS_MIME_TYPE = 'application/javascript';\n",
       "  var HTML_MIME_TYPE = 'text/html';\n",
       "  var EXEC_MIME_TYPE = 'application/vnd.bokehjs_exec.v0+json';\n",
       "  var CLASS_NAME = 'output_bokeh rendered_html';\n",
       "\n",
       "  /**\n",
       "   * Render data to the DOM node\n",
       "   */\n",
       "  function render(props, node) {\n",
       "    var script = document.createElement(\"script\");\n",
       "    node.appendChild(script);\n",
       "  }\n",
       "\n",
       "  /**\n",
       "   * Handle when an output is cleared or removed\n",
       "   */\n",
       "  function handleClearOutput(event, handle) {\n",
       "    var cell = handle.cell;\n",
       "\n",
       "    var id = cell.output_area._bokeh_element_id;\n",
       "    var server_id = cell.output_area._bokeh_server_id;\n",
       "    // Clean up Bokeh references\n",
       "    if (id != null && id in Bokeh.index) {\n",
       "      Bokeh.index[id].model.document.clear();\n",
       "      delete Bokeh.index[id];\n",
       "    }\n",
       "\n",
       "    if (server_id !== undefined) {\n",
       "      // Clean up Bokeh references\n",
       "      var cmd = \"from bokeh.io.state import curstate; print(curstate().uuid_to_server['\" + server_id + \"'].get_sessions()[0].document.roots[0]._id)\";\n",
       "      cell.notebook.kernel.execute(cmd, {\n",
       "        iopub: {\n",
       "          output: function(msg) {\n",
       "            var id = msg.content.text.trim();\n",
       "            if (id in Bokeh.index) {\n",
       "              Bokeh.index[id].model.document.clear();\n",
       "              delete Bokeh.index[id];\n",
       "            }\n",
       "          }\n",
       "        }\n",
       "      });\n",
       "      // Destroy server and session\n",
       "      var cmd = \"import bokeh.io.notebook as ion; ion.destroy_server('\" + server_id + \"')\";\n",
       "      cell.notebook.kernel.execute(cmd);\n",
       "    }\n",
       "  }\n",
       "\n",
       "  /**\n",
       "   * Handle when a new output is added\n",
       "   */\n",
       "  function handleAddOutput(event, handle) {\n",
       "    var output_area = handle.output_area;\n",
       "    var output = handle.output;\n",
       "\n",
       "    // limit handleAddOutput to display_data with EXEC_MIME_TYPE content only\n",
       "    if ((output.output_type != \"display_data\") || (!output.data.hasOwnProperty(EXEC_MIME_TYPE))) {\n",
       "      return\n",
       "    }\n",
       "\n",
       "    var toinsert = output_area.element.find(\".\" + CLASS_NAME.split(' ')[0]);\n",
       "\n",
       "    if (output.metadata[EXEC_MIME_TYPE][\"id\"] !== undefined) {\n",
       "      toinsert[toinsert.length - 1].firstChild.textContent = output.data[JS_MIME_TYPE];\n",
       "      // store reference to embed id on output_area\n",
       "      output_area._bokeh_element_id = output.metadata[EXEC_MIME_TYPE][\"id\"];\n",
       "    }\n",
       "    if (output.metadata[EXEC_MIME_TYPE][\"server_id\"] !== undefined) {\n",
       "      var bk_div = document.createElement(\"div\");\n",
       "      bk_div.innerHTML = output.data[HTML_MIME_TYPE];\n",
       "      var script_attrs = bk_div.children[0].attributes;\n",
       "      for (var i = 0; i < script_attrs.length; i++) {\n",
       "        toinsert[toinsert.length - 1].firstChild.setAttribute(script_attrs[i].name, script_attrs[i].value);\n",
       "      }\n",
       "      // store reference to server id on output_area\n",
       "      output_area._bokeh_server_id = output.metadata[EXEC_MIME_TYPE][\"server_id\"];\n",
       "    }\n",
       "  }\n",
       "\n",
       "  function register_renderer(events, OutputArea) {\n",
       "\n",
       "    function append_mime(data, metadata, element) {\n",
       "      // create a DOM node to render to\n",
       "      var toinsert = this.create_output_subarea(\n",
       "        metadata,\n",
       "        CLASS_NAME,\n",
       "        EXEC_MIME_TYPE\n",
       "      );\n",
       "      this.keyboard_manager.register_events(toinsert);\n",
       "      // Render to node\n",
       "      var props = {data: data, metadata: metadata[EXEC_MIME_TYPE]};\n",
       "      render(props, toinsert[toinsert.length - 1]);\n",
       "      element.append(toinsert);\n",
       "      return toinsert\n",
       "    }\n",
       "\n",
       "    /* Handle when an output is cleared or removed */\n",
       "    events.on('clear_output.CodeCell', handleClearOutput);\n",
       "    events.on('delete.Cell', handleClearOutput);\n",
       "\n",
       "    /* Handle when a new output is added */\n",
       "    events.on('output_added.OutputArea', handleAddOutput);\n",
       "\n",
       "    /**\n",
       "     * Register the mime type and append_mime function with output_area\n",
       "     */\n",
       "    OutputArea.prototype.register_mime_type(EXEC_MIME_TYPE, append_mime, {\n",
       "      /* Is output safe? */\n",
       "      safe: true,\n",
       "      /* Index of renderer in `output_area.display_order` */\n",
       "      index: 0\n",
       "    });\n",
       "  }\n",
       "\n",
       "  // register the mime type if in Jupyter Notebook environment and previously unregistered\n",
       "  if (root.Jupyter !== undefined) {\n",
       "    var events = require('base/js/events');\n",
       "    var OutputArea = require('notebook/js/outputarea').OutputArea;\n",
       "\n",
       "    if (OutputArea.prototype.mime_types().indexOf(EXEC_MIME_TYPE) == -1) {\n",
       "      register_renderer(events, OutputArea);\n",
       "    }\n",
       "  }\n",
       "\n",
       "  \n",
       "  if (typeof (root._bokeh_timeout) === \"undefined\" || force === true) {\n",
       "    root._bokeh_timeout = Date.now() + 5000;\n",
       "    root._bokeh_failed_load = false;\n",
       "  }\n",
       "\n",
       "  var NB_LOAD_WARNING = {'data': {'text/html':\n",
       "     \"<div style='background-color: #fdd'>\\n\"+\n",
       "     \"<p>\\n\"+\n",
       "     \"BokehJS does not appear to have successfully loaded. If loading BokehJS from CDN, this \\n\"+\n",
       "     \"may be due to a slow or bad network connection. Possible fixes:\\n\"+\n",
       "     \"</p>\\n\"+\n",
       "     \"<ul>\\n\"+\n",
       "     \"<li>re-rerun `output_notebook()` to attempt to load from CDN again, or</li>\\n\"+\n",
       "     \"<li>use INLINE resources instead, as so:</li>\\n\"+\n",
       "     \"</ul>\\n\"+\n",
       "     \"<code>\\n\"+\n",
       "     \"from bokeh.resources import INLINE\\n\"+\n",
       "     \"output_notebook(resources=INLINE)\\n\"+\n",
       "     \"</code>\\n\"+\n",
       "     \"</div>\"}};\n",
       "\n",
       "  function display_loaded() {\n",
       "    var el = document.getElementById(\"1002\");\n",
       "    if (el != null) {\n",
       "      el.textContent = \"BokehJS is loading...\";\n",
       "    }\n",
       "    if (root.Bokeh !== undefined) {\n",
       "      if (el != null) {\n",
       "        el.textContent = \"BokehJS \" + root.Bokeh.version + \" successfully loaded.\";\n",
       "      }\n",
       "    } else if (Date.now() < root._bokeh_timeout) {\n",
       "      setTimeout(display_loaded, 100)\n",
       "    }\n",
       "  }\n",
       "\n",
       "\n",
       "  function run_callbacks() {\n",
       "    try {\n",
       "      root._bokeh_onload_callbacks.forEach(function(callback) { callback() });\n",
       "    }\n",
       "    finally {\n",
       "      delete root._bokeh_onload_callbacks\n",
       "    }\n",
       "    console.info(\"Bokeh: all callbacks have finished\");\n",
       "  }\n",
       "\n",
       "  function load_libs(js_urls, callback) {\n",
       "    root._bokeh_onload_callbacks.push(callback);\n",
       "    if (root._bokeh_is_loading > 0) {\n",
       "      console.log(\"Bokeh: BokehJS is being loaded, scheduling callback at\", now());\n",
       "      return null;\n",
       "    }\n",
       "    if (js_urls == null || js_urls.length === 0) {\n",
       "      run_callbacks();\n",
       "      return null;\n",
       "    }\n",
       "    console.log(\"Bokeh: BokehJS not loaded, scheduling load and callback at\", now());\n",
       "    root._bokeh_is_loading = js_urls.length;\n",
       "    for (var i = 0; i < js_urls.length; i++) {\n",
       "      var url = js_urls[i];\n",
       "      var s = document.createElement('script');\n",
       "      s.src = url;\n",
       "      s.async = false;\n",
       "      s.onreadystatechange = s.onload = function() {\n",
       "        root._bokeh_is_loading--;\n",
       "        if (root._bokeh_is_loading === 0) {\n",
       "          console.log(\"Bokeh: all BokehJS libraries loaded\");\n",
       "          run_callbacks()\n",
       "        }\n",
       "      };\n",
       "      s.onerror = function() {\n",
       "        console.warn(\"failed to load library \" + url);\n",
       "      };\n",
       "      console.log(\"Bokeh: injecting script tag for BokehJS library: \", url);\n",
       "      document.getElementsByTagName(\"head\")[0].appendChild(s);\n",
       "    }\n",
       "  };var element = document.getElementById(\"1002\");\n",
       "  if (element == null) {\n",
       "    console.log(\"Bokeh: ERROR: autoload.js configured with elementid '1002' but no matching script tag was found. \")\n",
       "    return false;\n",
       "  }\n",
       "\n",
       "  var js_urls = [\"https://cdn.pydata.org/bokeh/release/bokeh-1.0.4.min.js\", \"https://cdn.pydata.org/bokeh/release/bokeh-widgets-1.0.4.min.js\", \"https://cdn.pydata.org/bokeh/release/bokeh-tables-1.0.4.min.js\", \"https://cdn.pydata.org/bokeh/release/bokeh-gl-1.0.4.min.js\"];\n",
       "\n",
       "  var inline_js = [\n",
       "    function(Bokeh) {\n",
       "      Bokeh.set_log_level(\"info\");\n",
       "    },\n",
       "    \n",
       "    function(Bokeh) {\n",
       "      \n",
       "    },\n",
       "    function(Bokeh) {\n",
       "      console.log(\"Bokeh: injecting CSS: https://cdn.pydata.org/bokeh/release/bokeh-1.0.4.min.css\");\n",
       "      Bokeh.embed.inject_css(\"https://cdn.pydata.org/bokeh/release/bokeh-1.0.4.min.css\");\n",
       "      console.log(\"Bokeh: injecting CSS: https://cdn.pydata.org/bokeh/release/bokeh-widgets-1.0.4.min.css\");\n",
       "      Bokeh.embed.inject_css(\"https://cdn.pydata.org/bokeh/release/bokeh-widgets-1.0.4.min.css\");\n",
       "      console.log(\"Bokeh: injecting CSS: https://cdn.pydata.org/bokeh/release/bokeh-tables-1.0.4.min.css\");\n",
       "      Bokeh.embed.inject_css(\"https://cdn.pydata.org/bokeh/release/bokeh-tables-1.0.4.min.css\");\n",
       "    }\n",
       "  ];\n",
       "\n",
       "  function run_inline_js() {\n",
       "    \n",
       "    if ((root.Bokeh !== undefined) || (force === true)) {\n",
       "      for (var i = 0; i < inline_js.length; i++) {\n",
       "        inline_js[i].call(root, root.Bokeh);\n",
       "      }if (force === true) {\n",
       "        display_loaded();\n",
       "      }} else if (Date.now() < root._bokeh_timeout) {\n",
       "      setTimeout(run_inline_js, 100);\n",
       "    } else if (!root._bokeh_failed_load) {\n",
       "      console.log(\"Bokeh: BokehJS failed to load within specified timeout.\");\n",
       "      root._bokeh_failed_load = true;\n",
       "    } else if (force !== true) {\n",
       "      var cell = $(document.getElementById(\"1002\")).parents('.cell').data().cell;\n",
       "      cell.output_area.append_execute_result(NB_LOAD_WARNING)\n",
       "    }\n",
       "\n",
       "  }\n",
       "\n",
       "  if (root._bokeh_is_loading === 0) {\n",
       "    console.log(\"Bokeh: BokehJS loaded, going straight to plotting\");\n",
       "    run_inline_js();\n",
       "  } else {\n",
       "    load_libs(js_urls, function() {\n",
       "      console.log(\"Bokeh: BokehJS plotting callback run at\", now());\n",
       "      run_inline_js();\n",
       "    });\n",
       "  }\n",
       "}(window));"
      ],
      "application/vnd.bokehjs_load.v0+json": "\n(function(root) {\n  function now() {\n    return new Date();\n  }\n\n  var force = true;\n\n  if (typeof (root._bokeh_onload_callbacks) === \"undefined\" || force === true) {\n    root._bokeh_onload_callbacks = [];\n    root._bokeh_is_loading = undefined;\n  }\n\n  \n\n  \n  if (typeof (root._bokeh_timeout) === \"undefined\" || force === true) {\n    root._bokeh_timeout = Date.now() + 5000;\n    root._bokeh_failed_load = false;\n  }\n\n  var NB_LOAD_WARNING = {'data': {'text/html':\n     \"<div style='background-color: #fdd'>\\n\"+\n     \"<p>\\n\"+\n     \"BokehJS does not appear to have successfully loaded. If loading BokehJS from CDN, this \\n\"+\n     \"may be due to a slow or bad network connection. Possible fixes:\\n\"+\n     \"</p>\\n\"+\n     \"<ul>\\n\"+\n     \"<li>re-rerun `output_notebook()` to attempt to load from CDN again, or</li>\\n\"+\n     \"<li>use INLINE resources instead, as so:</li>\\n\"+\n     \"</ul>\\n\"+\n     \"<code>\\n\"+\n     \"from bokeh.resources import INLINE\\n\"+\n     \"output_notebook(resources=INLINE)\\n\"+\n     \"</code>\\n\"+\n     \"</div>\"}};\n\n  function display_loaded() {\n    var el = document.getElementById(\"1002\");\n    if (el != null) {\n      el.textContent = \"BokehJS is loading...\";\n    }\n    if (root.Bokeh !== undefined) {\n      if (el != null) {\n        el.textContent = \"BokehJS \" + root.Bokeh.version + \" successfully loaded.\";\n      }\n    } else if (Date.now() < root._bokeh_timeout) {\n      setTimeout(display_loaded, 100)\n    }\n  }\n\n\n  function run_callbacks() {\n    try {\n      root._bokeh_onload_callbacks.forEach(function(callback) { callback() });\n    }\n    finally {\n      delete root._bokeh_onload_callbacks\n    }\n    console.info(\"Bokeh: all callbacks have finished\");\n  }\n\n  function load_libs(js_urls, callback) {\n    root._bokeh_onload_callbacks.push(callback);\n    if (root._bokeh_is_loading > 0) {\n      console.log(\"Bokeh: BokehJS is being loaded, scheduling callback at\", now());\n      return null;\n    }\n    if (js_urls == null || js_urls.length === 0) {\n      run_callbacks();\n      return null;\n    }\n    console.log(\"Bokeh: BokehJS not loaded, scheduling load and callback at\", now());\n    root._bokeh_is_loading = js_urls.length;\n    for (var i = 0; i < js_urls.length; i++) {\n      var url = js_urls[i];\n      var s = document.createElement('script');\n      s.src = url;\n      s.async = false;\n      s.onreadystatechange = s.onload = function() {\n        root._bokeh_is_loading--;\n        if (root._bokeh_is_loading === 0) {\n          console.log(\"Bokeh: all BokehJS libraries loaded\");\n          run_callbacks()\n        }\n      };\n      s.onerror = function() {\n        console.warn(\"failed to load library \" + url);\n      };\n      console.log(\"Bokeh: injecting script tag for BokehJS library: \", url);\n      document.getElementsByTagName(\"head\")[0].appendChild(s);\n    }\n  };var element = document.getElementById(\"1002\");\n  if (element == null) {\n    console.log(\"Bokeh: ERROR: autoload.js configured with elementid '1002' but no matching script tag was found. \")\n    return false;\n  }\n\n  var js_urls = [\"https://cdn.pydata.org/bokeh/release/bokeh-1.0.4.min.js\", \"https://cdn.pydata.org/bokeh/release/bokeh-widgets-1.0.4.min.js\", \"https://cdn.pydata.org/bokeh/release/bokeh-tables-1.0.4.min.js\", \"https://cdn.pydata.org/bokeh/release/bokeh-gl-1.0.4.min.js\"];\n\n  var inline_js = [\n    function(Bokeh) {\n      Bokeh.set_log_level(\"info\");\n    },\n    \n    function(Bokeh) {\n      \n    },\n    function(Bokeh) {\n      console.log(\"Bokeh: injecting CSS: https://cdn.pydata.org/bokeh/release/bokeh-1.0.4.min.css\");\n      Bokeh.embed.inject_css(\"https://cdn.pydata.org/bokeh/release/bokeh-1.0.4.min.css\");\n      console.log(\"Bokeh: injecting CSS: https://cdn.pydata.org/bokeh/release/bokeh-widgets-1.0.4.min.css\");\n      Bokeh.embed.inject_css(\"https://cdn.pydata.org/bokeh/release/bokeh-widgets-1.0.4.min.css\");\n      console.log(\"Bokeh: injecting CSS: https://cdn.pydata.org/bokeh/release/bokeh-tables-1.0.4.min.css\");\n      Bokeh.embed.inject_css(\"https://cdn.pydata.org/bokeh/release/bokeh-tables-1.0.4.min.css\");\n    }\n  ];\n\n  function run_inline_js() {\n    \n    if ((root.Bokeh !== undefined) || (force === true)) {\n      for (var i = 0; i < inline_js.length; i++) {\n        inline_js[i].call(root, root.Bokeh);\n      }if (force === true) {\n        display_loaded();\n      }} else if (Date.now() < root._bokeh_timeout) {\n      setTimeout(run_inline_js, 100);\n    } else if (!root._bokeh_failed_load) {\n      console.log(\"Bokeh: BokehJS failed to load within specified timeout.\");\n      root._bokeh_failed_load = true;\n    } else if (force !== true) {\n      var cell = $(document.getElementById(\"1002\")).parents('.cell').data().cell;\n      cell.output_area.append_execute_result(NB_LOAD_WARNING)\n    }\n\n  }\n\n  if (root._bokeh_is_loading === 0) {\n    console.log(\"Bokeh: BokehJS loaded, going straight to plotting\");\n    run_inline_js();\n  } else {\n    load_libs(js_urls, function() {\n      console.log(\"Bokeh: BokehJS plotting callback run at\", now());\n      run_inline_js();\n    });\n  }\n}(window));"
     },
     "metadata": {},
     "output_type": "display_data"
    }
   ],
   "source": [
    "from ipywidgets import interact\n",
    "\n",
    "from bokeh.io import push_notebook, show, output_notebook, output_file\n",
    "from bokeh.plotting import figure\n",
    "output_notebook()"
   ]
  },
  {
   "cell_type": "markdown",
   "metadata": {},
   "source": [
    "#### para centralizar os gráficos na página"
   ]
  },
  {
   "cell_type": "code",
   "execution_count": 2,
   "metadata": {},
   "outputs": [
    {
     "data": {
      "text/html": [
       "\n",
       "<style>\n",
       ".output_png {\n",
       "    display: table-cell;\n",
       "    text-align: center;\n",
       "    vertical-align: middle;\n",
       "}\n",
       "</style>\n"
      ],
      "text/plain": [
       "<IPython.core.display.HTML object>"
      ]
     },
     "execution_count": 2,
     "metadata": {},
     "output_type": "execute_result"
    }
   ],
   "source": [
    "from IPython.core.display import HTML\n",
    "HTML(\"\"\"\n",
    "<style>\n",
    ".output_png {\n",
    "    display: table-cell;\n",
    "    text-align: center;\n",
    "    vertical-align: middle;\n",
    "}\n",
    "</style>\n",
    "\"\"\")"
   ]
  },
  {
   "cell_type": "markdown",
   "metadata": {},
   "source": [
    "## Importação de dados de óbitos diários por estado brasileiro (NE)"
   ]
  },
  {
   "cell_type": "markdown",
   "metadata": {},
   "source": [
    "### Diretório sincronizado com o GitHub dos dados (arquivos csv):"
   ]
  },
  {
   "cell_type": "code",
   "execution_count": 3,
   "metadata": {},
   "outputs": [],
   "source": [
    "path = \"C:/Users/Ivan/Documents/GitHub/googleData/data/\""
   ]
  },
  {
   "cell_type": "markdown",
   "metadata": {},
   "source": [
    "### Dicionário de nomes dos arquivos de óbitos diários por estado do NE"
   ]
  },
  {
   "cell_type": "code",
   "execution_count": 4,
   "metadata": {},
   "outputs": [],
   "source": [
    "pref = \"ON\"\n",
    "suf  = \"_An.csv\"\n",
    "Data_files_names = {\n",
    "    \"Alagoas\"    : pref+\"AiL\"+suf ,\n",
    "    \"Bahia\"      : pref+\"BiA\"+suf ,\n",
    "    \"Ceará\"      : pref+\"CiE\"+suf ,\n",
    "    \"Maranhão\"   : pref+\"MiA\"+suf ,\n",
    "    \"Paraíba\"    : pref+\"PiB\"+suf ,\n",
    "    \"Pernambuco\" : pref+\"PiE\"+suf ,\n",
    "    \"Piauí\"      : pref+\"PiI\"+suf ,\n",
    "    \"RioGrdoN\"   : pref+\"RiN\"+suf ,\n",
    "    \"Sergipe\"    : pref+\"SiE\"+suf\n",
    "}"
   ]
  },
  {
   "cell_type": "markdown",
   "metadata": {},
   "source": [
    "### Leitura dos arquivos (atualizados diariamente)"
   ]
  },
  {
   "cell_type": "code",
   "execution_count": 5,
   "metadata": {
    "scrolled": true
   },
   "outputs": [],
   "source": [
    "data_ON_AL = pd.read_csv(path+Data_files_names[\"Alagoas\"], sep =\",\")\n",
    "data_ON_BA = pd.read_csv(path+Data_files_names[\"Bahia\"], sep =\",\")\n",
    "data_ON_CE = pd.read_csv(path+Data_files_names[\"Ceará\"], sep =\",\")\n",
    "data_ON_MA = pd.read_csv(path+Data_files_names[\"Maranhão\"], sep =\",\")\n",
    "data_ON_PB = pd.read_csv(path+Data_files_names[\"Paraíba\"], sep =\",\")\n",
    "data_ON_PE = pd.read_csv(path+Data_files_names[\"Pernambuco\"], sep =\",\")\n",
    "data_ON_PI = pd.read_csv(path+Data_files_names[\"Piauí\"], sep =\",\")\n",
    "data_ON_RN = pd.read_csv(path+Data_files_names[\"RioGrdoN\"], sep =\",\")\n",
    "data_ON_SE = pd.read_csv(path+Data_files_names[\"Sergipe\"], sep =\",\")"
   ]
  },
  {
   "cell_type": "markdown",
   "metadata": {},
   "source": [
    "### \"Parsing\" das datas"
   ]
  },
  {
   "cell_type": "code",
   "execution_count": 6,
   "metadata": {},
   "outputs": [],
   "source": [
    "format_str = \"%Y-%m-%d\"\n",
    "data_ON_AL['Data'] = data_ON_AL['Data'].apply(lambda x:datetime.datetime.strptime(x,format_str))\n",
    "data_ON_BA['Data'] = data_ON_BA['Data'].apply(lambda x:datetime.datetime.strptime(x,format_str))\n",
    "data_ON_CE['Data'] = data_ON_CE['Data'].apply(lambda x:datetime.datetime.strptime(x,format_str))\n",
    "data_ON_MA['Data'] = data_ON_MA['Data'].apply(lambda x:datetime.datetime.strptime(x,format_str))\n",
    "data_ON_PB['Data'] = data_ON_PB['Data'].apply(lambda x:datetime.datetime.strptime(x,format_str))\n",
    "data_ON_PE['Data'] = data_ON_PE['Data'].apply(lambda x:datetime.datetime.strptime(x,format_str))\n",
    "data_ON_PI['Data'] = data_ON_PI['Data'].apply(lambda x:datetime.datetime.strptime(x,format_str))\n",
    "data_ON_RN['Data'] = data_ON_RN['Data'].apply(lambda x:datetime.datetime.strptime(x,format_str))\n",
    "data_ON_SE['Data'] = data_ON_SE['Data'].apply(lambda x:datetime.datetime.strptime(x,format_str))"
   ]
  },
  {
   "cell_type": "markdown",
   "metadata": {},
   "source": [
    "### Definindo as colunas 'Data' como índices"
   ]
  },
  {
   "cell_type": "code",
   "execution_count": 10,
   "metadata": {},
   "outputs": [
    {
     "name": "stdout",
     "output_type": "stream",
     "text": [
      "<class 'pandas.core.frame.DataFrame'>\n",
      "RangeIndex: 85 entries, 0 to 84\n",
      "Data columns (total 2 columns):\n",
      "Data        85 non-null datetime64[ns]\n",
      "ONCiE_An    85 non-null float64\n",
      "dtypes: datetime64[ns](1), float64(1)\n",
      "memory usage: 1.4 KB\n"
     ]
    }
   ],
   "source": [
    "data_ON_AL.set_index('Data')\n",
    "data_ON_BA.set_index('Data')\n",
    "data_ON_CE.set_index('Data')\n",
    "data_ON_MA.set_index('Data')\n",
    "data_ON_PB.set_index('Data')\n",
    "data_ON_PE.set_index('Data')\n",
    "data_ON_PI.set_index('Data')\n",
    "data_ON_RN.set_index('Data')\n",
    "data_ON_SE.set_index('Data')"
   ]
  },
  {
   "cell_type": "markdown",
   "metadata": {},
   "source": [
    "## Parâmetros Epidemiológicos Assumidos para a Covid-19 (como universais) p/o SEIRD"
   ]
  },
  {
   "cell_type": "code",
   "execution_count": 11,
   "metadata": {},
   "outputs": [
    {
     "name": "stdout",
     "output_type": "stream",
     "text": [
      "\n",
      " *** PARÂMETROS EPIDEMIOLÓGICOS ADOTADOS NO MODELO SEIRD: \n",
      "\n",
      "    Freq de letalidade   (alpha) = 0.005\n",
      "    Freq de incubação    (delta) = 0.200\n",
      "    Freq de infetividade (gamma) = 0.111\n",
      "    Freq para óbito      (rho)   = 0.059\n"
     ]
    }
   ],
   "source": [
    "#\n",
    "# VALORES MÉDIOS ASSUMIDOS (ref. https://theconversation.com/how-long-are-you-infectious-when-you-have-coronavirus-135295):\n",
    "#\n",
    "num_of_incubation     = 5      # número de dias de incubação da doença (1/delta). \n",
    "num_of_infecting_days = 9      # número de dias que um infectado (ativo) infecta outros (= D = 1/gama)\n",
    "num_to_dead           = 17     # número de dias para evoluir de infectado para óbito (1/rho)\n",
    "subnotif_index        = 12     # número de vezes que os casos reais de infectados é maior que os notificados\n",
    "apparent_letality     = 0.065  # taxa aparente de letalidade (% dos notificados que vão a óbito)\n",
    "#\n",
    "Epi_days              = 250    # quantidade de dias arbitrada para duração da pandemia para traçar os gráficos\n",
    "# FREQUÊNCIAS (POR DIA) CORRESPONDENTES\n",
    "#\n",
    "alpha = apparent_letality/subnotif_index\n",
    "delta = 1/num_of_incubation\n",
    "gamma = 1/num_of_infecting_days  \n",
    "rho   = 1/num_to_dead\n",
    "#\n",
    "#print('\\n','*** PARÂMETROS EPIDEMIOLÓGICOS ADOTADOS NO MODELO SEIRD:','\\n')\n",
    "#print('    Freq de letalidade   (alpha) = {:.3f}'.format(alpha))\n",
    "#print('    Freq de incubação    (delta) = {:.3f}'.format(delta))\n",
    "#print('    Freq de infetividade (gamma) = {:.3f}'.format(gamma))\n",
    "#print('    Freq para óbito      (rho)   = {:.3f}'.format(rho))"
   ]
  },
  {
   "cell_type": "markdown",
   "metadata": {},
   "source": [
    "### Dados da população por estado"
   ]
  },
  {
   "cell_type": "code",
   "execution_count": 12,
   "metadata": {},
   "outputs": [],
   "source": [
    "N_BR ={\"Brasil\": 210147125, \n",
    "             \"Nordeste\": \n",
    "                 {'MA':7075181, \n",
    "                  'PI':3273227, \n",
    "                  'CE':9132078, \n",
    "                  'RN':3506853, \n",
    "                  'PB':4018127, \n",
    "                  'PE':9557071, \n",
    "                  'AL':3337357, \n",
    "                  'SE':2298696, \n",
    "                  'BA':14873064}, \n",
    "             \"Norte\": \n",
    "                 {'RO':1777225, \n",
    "                  'AC':881935, \n",
    "                  'AM':4144597, \n",
    "                  'RR': 605761, \n",
    "                  'PA':8602865, \n",
    "                  'AP':845731, \n",
    "                  'TO':1572866}, \n",
    "             \"Sudeste\": \n",
    "                 {'MG':21168791,\n",
    "                  'ES':4018650, \n",
    "                  'RJ':17264943, \n",
    "                  'SP':45919049}, \n",
    "             \"Sul\": \n",
    "                 {'PR':11433957, \n",
    "                  'SC':7164788, \n",
    "                  'RS':11377239}, \n",
    "             \"Centro-Oeste\": \n",
    "                 {'MS':2778986, \n",
    "                  'MT':3484466, \n",
    "                  'GO':7018354, \n",
    "                  'DF':3015268} }"
   ]
  },
  {
   "cell_type": "markdown",
   "metadata": {
    "colab_type": "text",
    "id": "UCHaMqyEfBxX"
   },
   "source": [
    "# Modelo com R_0 (e \"beta\") dependente do tempo"
   ]
  },
  {
   "cell_type": "markdown",
   "metadata": {},
   "source": [
    "### Definição do tamanho da 'janela' para o cálculo da média móvel para suavização dos dados de entrada"
   ]
  },
  {
   "cell_type": "code",
   "execution_count": null,
   "metadata": {},
   "outputs": [],
   "source": [
    "window_size = 7 #  <-- tamanho da janela móvel para a suavização"
   ]
  },
  {
   "cell_type": "markdown",
   "metadata": {},
   "source": [
    "### Função sistema de EDOs do modelo SEIRD que é recursivamente chamada pelo solver das ODEs"
   ]
  },
  {
   "cell_type": "code",
   "execution_count": 13,
   "metadata": {},
   "outputs": [],
   "source": [
    "def deriv(y, t, N, beta, gamma, delta, alpha, rho):\n",
    "    #\n",
    "    S, E, I, R, D = y\n",
    "    #\n",
    "    dSdt = -beta(t) * S * I / N\n",
    "    dEdt = beta(t) * S * I / N - delta * E\n",
    "    dIdt = delta * E - (1 - alpha) * gamma * I - alpha * rho * I\n",
    "    dRdt = (1 - alpha) * gamma * I\n",
    "    dDdt = alpha * rho * I\n",
    "    #\n",
    "    return dSdt, dEdt, dIdt, dRdt, dDdt"
   ]
  },
  {
   "cell_type": "markdown",
   "metadata": {},
   "source": [
    "### R_0(t) como uma função logística (com 4 parâmetros a serem ajustados pelo algorítimo de fitting/otimização)"
   ]
  },
  {
   "cell_type": "code",
   "execution_count": 14,
   "metadata": {},
   "outputs": [],
   "source": [
    "def logistic_R_0(t, R_0_start, k, x0, R_0_end):\n",
    "    return (R_0_start-R_0_end) / (1 + np.exp(-k*(-t+x0))) + R_0_end"
   ]
  },
  {
   "cell_type": "markdown",
   "metadata": {},
   "source": [
    "### Valores inicias arbitrados dos parâmetros para o processo de otimização dados como tuplas (esperado, mínimo, máximo)"
   ]
  },
  {
   "cell_type": "code",
   "execution_count": 15,
   "metadata": {},
   "outputs": [],
   "source": [
    "params_init_min_max = {\"R_0_start\": (3.0, 2.0, 6.0),\n",
    "                       \"k\": (0.5, 0.01, 10.0), \n",
    "                       \"x0\": (30, 0, 250), \n",
    "                       \"R_0_end\": (0.9, 0.1, 3.5)}"
   ]
  },
  {
   "cell_type": "markdown",
   "metadata": {},
   "source": [
    "### Criando o modelo de fitting com o pacote 'lmfit' "
   ]
  },
  {
   "cell_type": "code",
   "execution_count": 19,
   "metadata": {
    "colab": {},
    "colab_type": "code",
    "id": "NglgxTIeg16G"
   },
   "outputs": [],
   "source": [
    "# Cria o modelo de fitting passando a função fitter como parâmetro para lmfit \n",
    "#\n",
    "mod = lmfit.Model(fitter)\n",
    "#\n",
    "# Criação do vetor de parâmetros para o fitting, incluindo 3 estimativas iniciais (inicial, min, max) p/cada parâmetro\n",
    "#\n",
    "for kwarg, (init, mini, maxi) in params_init_min_max.items(): # <-- usa as estimativas fornecidas acima\n",
    "    mod.set_param_hint(str(kwarg), value=init, min=mini, max=maxi, vary=True)\n",
    "#\n",
    "# Criação do vetor de parâmetros para o otimizador\n",
    "#\n",
    "params = mod.make_params()"
   ]
  },
  {
   "cell_type": "markdown",
   "metadata": {},
   "source": [
    "### Definição da função solver do sistema de EDOs do modelo SEIRD que é recursivamente chamada pelo algoritmo de otimização (fitting aos dados) "
   ]
  },
  {
   "cell_type": "code",
   "execution_count": 16,
   "metadata": {},
   "outputs": [],
   "source": [
    "def SolverEDOs(days, N, R_0_start, k, x0, R_0_end):\n",
    "    #\n",
    "    # definição da função beta(t) = R_0(t)*gama\n",
    "    #\n",
    "    def beta(t):\n",
    "        return logistic_R_0(t, R_0_start, k, x0, R_0_end) * gamma\n",
    "    #\n",
    "    # Valores iniciais das variáveid do SEIRD: N-1 (população), 1 exposto, 0 infectado, recuperados ou mortos\n",
    "    #\n",
    "    y0 = N-1.0, 1.0, 0.0, 0.0, 0.0\n",
    "    #\n",
    "    # geração da grid temporal a partir da quantidade de dias informados\n",
    "    #\n",
    "    t = np.arange(days)\n",
    "    #print(t)\n",
    "    #\n",
    "    # Integração do sistema de EDOs - o sistema é passado pela função 'deriv' na chamada do solver\n",
    "    #\n",
    "    ret = odeint(deriv, y0, t, args=(N, beta, gamma, delta, alpha, rho))\n",
    "    #\n",
    "    # Salvando os resultados nas variáveis do sistema\n",
    "    #\n",
    "    S, E, I, R, D = ret.T\n",
    "    #\n",
    "    # Cálculo de R_0(t)\n",
    "    #\n",
    "    R_0_over_time = [beta(i)/gamma for i in range(len(t))]\n",
    "    #\n",
    "    return t, S, E, I, R, D, R_0_over_time"
   ]
  },
  {
   "cell_type": "markdown",
   "metadata": {},
   "source": [
    "### Definição da função de fitting que chama o solver das EDOs"
   ]
  },
  {
   "cell_type": "code",
   "execution_count": 18,
   "metadata": {
    "colab": {},
    "colab_type": "code",
    "id": "Wr4UIS6q4M8z"
   },
   "outputs": [],
   "source": [
    "def fitter(x, R_0_start, k, x0, R_0_end):\n",
    "    ret = SolverEDOs(days, N, R_0_start, k, x0, R_0_end) # <-- chama a função solver das EDOs (que chama odeint para integrar)\n",
    "    deaths_fitted = ret[5]                               # <-- óbitos: 6o elem. da tupla (t, S, E, I, R, D, R_0)\n",
    "    return deaths_fitted[x]                              # <-- retorna vetor com as fatalidades no tempo "
   ]
  },
  {
   "cell_type": "markdown",
   "metadata": {},
   "source": [
    "### Definição da função SolverSEIRD_R_0 que retorna com as séries temporais das respectivas curvas"
   ]
  },
  {
   "cell_type": "code",
   "execution_count": null,
   "metadata": {},
   "outputs": [],
   "source": [
    "def SolverSEIRD_R_0(N, x_data, y_data, days, window_size = 7, params = params, Epi_days = 250):\n",
    "    ##\n",
    "    ## 1) SUAVIZANDO OS DADOS DE ENTRADA PARA A MÉDIA MÓVEL\n",
    "    ##\n",
    "    #\n",
    "    # First, we need to convert y_data Numpy ndarray to a Pandas Series\n",
    "\n",
    "    y_series = pd.Series(y_data)\n",
    "\n",
    "    # Tail-rolling average transform\n",
    "\n",
    "    y_rolling_S = y_series.rolling(window=window_size).mean().dropna()\n",
    "\n",
    "    # Now getting back to a ndarray\n",
    "\n",
    "    y_rolling = y_rolling_S.to_numpy()\n",
    "    x_rolling = x_data[window_size-1:] # <-- remove os 'n-1' pontos do início da série por conta da média móvel sobre 'n' pontos\n",
    "    \n",
    "    ##\n",
    "    ## 2) REALIZANDO O FITTING COM OS DADOS SUAVIZADOS DOS ÓBITOS DIÁRIOS\n",
    "    ##\n",
    "    result_roll = mod.fit(y_rolling, params, method=\"least_squares\", x=x_rolling)\n",
    "    ##\n",
    "    ## 3) CAPTURA DOS PARÂMETROS OTIMIZADOS PARA R_0(t)\n",
    "    ##\n",
    "    paramsfit = result_roll.best_values\n",
    "    #\n",
    "    params_otim = []\n",
    "    params_otim.append(paramsfit['R_0_start'])\n",
    "    params_otim.append(paramsfit['k'])\n",
    "    params_otim.append(paramsfit['x0'])\n",
    "    params_otim.append(paramsfit['R_0_end'])\n",
    "    ##\n",
    "    ## 4) CHAMADA DO SOLVER COM OS PARAMS OTIMIZADOS DA CURVA LOGÍSTICA PARA R_0(t) PARA OBTER AS VER. SEIRD\n",
    "    ##\n",
    "    res_SEIRD = SolverEDOs(Epi_days, N,*params_otim)\n",
    "    #\n",
    "    return res_SEIRD"
   ]
  },
  {
   "cell_type": "markdown",
   "metadata": {},
   "source": [
    "# Processamento em lote para todos os estados"
   ]
  },
  {
   "cell_type": "markdown",
   "metadata": {},
   "source": [
    "N       = N_BR['Brasil']                    # <-- população do estado / país\n",
    "y_data  = data_ON_BR['ONBiR_An'].to_numpy() # <-- de pandas series para numpy array - ndarray \n",
    "x_data  = np.arange(len(y_data))            # <-- do dia 1 ao final da série (Python inicia em 'zero', daí o +1)\n",
    "days    = len(x_data)                       # <-- duração, até \"hoje\", da pandemia no estado, para o fitting dos parâmetros\n",
    "dates   = data_ON_BR['Data'].to_numpy()     # <-- vetor das datas"
   ]
  },
  {
   "cell_type": "markdown",
   "metadata": {},
   "source": [
    "# Plotagem das curvas SEIRD para o modelo com dados suavizados"
   ]
  },
  {
   "cell_type": "markdown",
   "metadata": {},
   "source": [
    "### Curvas IED (S e R fora de escala nessa fase da pandemia)"
   ]
  },
  {
   "cell_type": "code",
   "execution_count": 35,
   "metadata": {},
   "outputs": [
    {
     "data": {
      "image/png": "[encoded data removed]",
      "text/plain": [
       "<Figure size 1224x432 with 1 Axes>"
      ]
     },
     "metadata": {
      "needs_background": "light"
     },
     "output_type": "display_data"
    }
   ],
   "source": [
    "plt.figure(figsize = [17, 6])\n",
    "plt.title('Curvas SEIRD: [EID]')\n",
    "plt.xlim(20,120)\n",
    "#plt.plot(res_SEIRD[0],res_SEIRD[1], label = 'Suscetíveis')\n",
    "plt.plot(res_SEIRD_roll[0],res_SEIRD_roll[2], label = 'Infectados')\n",
    "plt.plot(res_SEIRD_roll[0],res_SEIRD_roll[3], label = 'Expostos')\n",
    "#plt.plot(res_SEIRD_roll[0],res_SEIRD_roll[4], label = 'Recuperados')\n",
    "plt.plot(res_SEIRD_roll[0],res_SEIRD_roll[5], label = 'Óbitos')\n",
    "plt.legend()\n",
    "plt.show()"
   ]
  },
  {
   "cell_type": "code",
   "execution_count": 36,
   "metadata": {},
   "outputs": [
    {
     "data": {
      "image/png": "[encoded data removed]",
      "text/plain": [
       "<Figure size 1224x432 with 1 Axes>"
      ]
     },
     "metadata": {
      "needs_background": "light"
     },
     "output_type": "display_data"
    }
   ],
   "source": [
    "plt.figure(figsize = [17, 6])\n",
    "plt.title('Curvas SEIRD: [IR]')\n",
    "plt.xlim(20,100)\n",
    "#plt.plot(res_SEIRD_roll[0],res_SEIRD_roll[1], label = 'Suscetíveis')\n",
    "plt.plot(res_SEIRD_roll[0],res_SEIRD_roll[2], label = 'Infectados')\n",
    "#plt.plot(dados[0],dados[3], label = 'Expostos')\n",
    "plt.plot(res_SEIRD_roll[0],res_SEIRD_roll[4], label = 'Recuperados')\n",
    "plt.legend()\n",
    "plt.show()"
   ]
  },
  {
   "cell_type": "markdown",
   "metadata": {},
   "source": [
    "### Comparação do ajuste das curvas estimadas de óbitos aos dados originais e suavizados (média móvel de 10 dias)"
   ]
  },
  {
   "cell_type": "code",
   "execution_count": 37,
   "metadata": {},
   "outputs": [
    {
     "data": {
      "image/png": "[encoded data removed]",
      "text/plain": [
       "<Figure size 1224x432 with 1 Axes>"
      ]
     },
     "metadata": {
      "needs_background": "light"
     },
     "output_type": "display_data"
    }
   ],
   "source": [
    "plt.figure(figsize = [17, 6])\n",
    "plt.xlim(10,90)\n",
    "#plt. ylim(0,40)\n",
    "plt.bar(x_data, y_data,                       label = 'Dados de obitos')\n",
    "plt.plot(res_SEIRD_roll[0],res_SEIRD_roll[5], label = 'Óbitos estimados suavizados', color='black')\n",
    "plt.bar(x_rolling, y_rolling,                 label = 'Óbitos suavizados por Média-Móvel', color='red')\n",
    "plt.legend()\n",
    "plt.show()"
   ]
  },
  {
   "cell_type": "markdown",
   "metadata": {},
   "source": [
    "## Forecast para 14 dias (com os dados suavizados)"
   ]
  },
  {
   "cell_type": "code",
   "execution_count": 38,
   "metadata": {},
   "outputs": [],
   "source": [
    "period = 14 #<-- days forecast\n",
    "#\n",
    "last_day_in_data = x_rolling[len(x_rolling) - 1]\n",
    "last_day_forecast  = last_day_in_data + period"
   ]
  },
  {
   "cell_type": "code",
   "execution_count": 39,
   "metadata": {},
   "outputs": [],
   "source": [
    "Day = pd.Series(res_SEIRD_roll[0])\n",
    "S   = pd.Series(res_SEIRD_roll[1])\n",
    "E   = pd.Series(res_SEIRD_roll[2])\n",
    "I   = pd.Series(res_SEIRD_roll[3])\n",
    "R   = pd.Series(res_SEIRD_roll[4])\n",
    "D   = pd.Series(res_SEIRD_roll[5])"
   ]
  },
  {
   "cell_type": "code",
   "execution_count": 40,
   "metadata": {},
   "outputs": [
    {
     "data": {
      "text/html": [
       "<div>\n",
       "<style scoped>\n",
       "    .dataframe tbody tr th:only-of-type {\n",
       "        vertical-align: middle;\n",
       "    }\n",
       "\n",
       "    .dataframe tbody tr th {\n",
       "        vertical-align: top;\n",
       "    }\n",
       "\n",
       "    .dataframe thead th {\n",
       "        text-align: right;\n",
       "    }\n",
       "</style>\n",
       "<table border=\"1\" class=\"dataframe\">\n",
       "  <thead>\n",
       "    <tr style=\"text-align: right;\">\n",
       "      <th></th>\n",
       "      <th>Dia da Epidemia</th>\n",
       "      <th>Suscetíveis</th>\n",
       "      <th>Expostos</th>\n",
       "      <th>Infectados</th>\n",
       "      <th>Recuperados</th>\n",
       "      <th>Óbitos</th>\n",
       "    </tr>\n",
       "  </thead>\n",
       "  <tbody>\n",
       "    <tr>\n",
       "      <th>80</th>\n",
       "      <td>80</td>\n",
       "      <td>7,063,341</td>\n",
       "      <td>49</td>\n",
       "      <td>462</td>\n",
       "      <td>11,297</td>\n",
       "      <td>33</td>\n",
       "    </tr>\n",
       "    <tr>\n",
       "      <th>81</th>\n",
       "      <td>81</td>\n",
       "      <td>7,063,336</td>\n",
       "      <td>45</td>\n",
       "      <td>422</td>\n",
       "      <td>11,345</td>\n",
       "      <td>33</td>\n",
       "    </tr>\n",
       "    <tr>\n",
       "      <th>82</th>\n",
       "      <td>82</td>\n",
       "      <td>7,063,331</td>\n",
       "      <td>41</td>\n",
       "      <td>386</td>\n",
       "      <td>11,390</td>\n",
       "      <td>33</td>\n",
       "    </tr>\n",
       "    <tr>\n",
       "      <th>83</th>\n",
       "      <td>83</td>\n",
       "      <td>7,063,327</td>\n",
       "      <td>37</td>\n",
       "      <td>353</td>\n",
       "      <td>11,431</td>\n",
       "      <td>33</td>\n",
       "    </tr>\n",
       "    <tr>\n",
       "      <th>84</th>\n",
       "      <td>84</td>\n",
       "      <td>7,063,324</td>\n",
       "      <td>34</td>\n",
       "      <td>323</td>\n",
       "      <td>11,468</td>\n",
       "      <td>33</td>\n",
       "    </tr>\n",
       "    <tr>\n",
       "      <th>85</th>\n",
       "      <td>85</td>\n",
       "      <td>7,063,320</td>\n",
       "      <td>31</td>\n",
       "      <td>295</td>\n",
       "      <td>11,502</td>\n",
       "      <td>33</td>\n",
       "    </tr>\n",
       "    <tr>\n",
       "      <th>86</th>\n",
       "      <td>86</td>\n",
       "      <td>7,063,317</td>\n",
       "      <td>28</td>\n",
       "      <td>269</td>\n",
       "      <td>11,533</td>\n",
       "      <td>33</td>\n",
       "    </tr>\n",
       "    <tr>\n",
       "      <th>87</th>\n",
       "      <td>87</td>\n",
       "      <td>7,063,314</td>\n",
       "      <td>25</td>\n",
       "      <td>246</td>\n",
       "      <td>11,562</td>\n",
       "      <td>33</td>\n",
       "    </tr>\n",
       "    <tr>\n",
       "      <th>88</th>\n",
       "      <td>88</td>\n",
       "      <td>7,063,312</td>\n",
       "      <td>23</td>\n",
       "      <td>225</td>\n",
       "      <td>11,588</td>\n",
       "      <td>33</td>\n",
       "    </tr>\n",
       "    <tr>\n",
       "      <th>89</th>\n",
       "      <td>89</td>\n",
       "      <td>7,063,309</td>\n",
       "      <td>21</td>\n",
       "      <td>206</td>\n",
       "      <td>11,612</td>\n",
       "      <td>33</td>\n",
       "    </tr>\n",
       "    <tr>\n",
       "      <th>90</th>\n",
       "      <td>90</td>\n",
       "      <td>7,063,307</td>\n",
       "      <td>19</td>\n",
       "      <td>188</td>\n",
       "      <td>11,633</td>\n",
       "      <td>34</td>\n",
       "    </tr>\n",
       "    <tr>\n",
       "      <th>91</th>\n",
       "      <td>91</td>\n",
       "      <td>7,063,305</td>\n",
       "      <td>18</td>\n",
       "      <td>172</td>\n",
       "      <td>11,653</td>\n",
       "      <td>34</td>\n",
       "    </tr>\n",
       "    <tr>\n",
       "      <th>92</th>\n",
       "      <td>92</td>\n",
       "      <td>7,063,303</td>\n",
       "      <td>16</td>\n",
       "      <td>157</td>\n",
       "      <td>11,671</td>\n",
       "      <td>34</td>\n",
       "    </tr>\n",
       "    <tr>\n",
       "      <th>93</th>\n",
       "      <td>93</td>\n",
       "      <td>7,063,302</td>\n",
       "      <td>15</td>\n",
       "      <td>143</td>\n",
       "      <td>11,688</td>\n",
       "      <td>34</td>\n",
       "    </tr>\n",
       "  </tbody>\n",
       "</table>\n",
       "</div>"
      ],
      "text/plain": [
       "    Dia da Epidemia  Suscetíveis  Expostos  Infectados  Recuperados  Óbitos\n",
       "80               80    7,063,341        49         462       11,297      33\n",
       "81               81    7,063,336        45         422       11,345      33\n",
       "82               82    7,063,331        41         386       11,390      33\n",
       "83               83    7,063,327        37         353       11,431      33\n",
       "84               84    7,063,324        34         323       11,468      33\n",
       "85               85    7,063,320        31         295       11,502      33\n",
       "86               86    7,063,317        28         269       11,533      33\n",
       "87               87    7,063,314        25         246       11,562      33\n",
       "88               88    7,063,312        23         225       11,588      33\n",
       "89               89    7,063,309        21         206       11,612      33\n",
       "90               90    7,063,307        19         188       11,633      34\n",
       "91               91    7,063,305        18         172       11,653      34\n",
       "92               92    7,063,303        16         157       11,671      34\n",
       "93               93    7,063,302        15         143       11,688      34"
      ]
     },
     "execution_count": 40,
     "metadata": {},
     "output_type": "execute_result"
    }
   ],
   "source": [
    "df = pd.DataFrame()\n",
    "df['Dia da Epidemia'] = Day\n",
    "df['Suscetíveis']     = S\n",
    "df['Expostos']        = E\n",
    "df['Infectados']      = I\n",
    "df['Recuperados']     = R\n",
    "df['Óbitos']          = D\n",
    "df['Óbitos Acum']     = df['Óbitos'].cumsum()\n",
    "#\n",
    "df.set_index(['Dia da Epidemia'])\n",
    "#\n",
    "pd.options.display.float_format = '{:,.0f}'.format\n",
    "forecast14d = pd.DataFrame(df).set_index(['Dia da Epidemia'])[last_day_in_data+1 : last_day_forecast].copy(deep=True)\n",
    "forecast14d"
   ]
  },
  {
   "cell_type": "code",
   "execution_count": 41,
   "metadata": {},
   "outputs": [
    {
     "data": {
      "text/html": [
       "<div>\n",
       "<style scoped>\n",
       "    .dataframe tbody tr th:only-of-type {\n",
       "        vertical-align: middle;\n",
       "    }\n",
       "\n",
       "    .dataframe tbody tr th {\n",
       "        vertical-align: top;\n",
       "    }\n",
       "\n",
       "    .dataframe thead th {\n",
       "        text-align: right;\n",
       "    }\n",
       "</style>\n",
       "<table border=\"1\" class=\"dataframe\">\n",
       "  <thead>\n",
       "    <tr style=\"text-align: right;\">\n",
       "      <th></th>\n",
       "      <th>Dia da Epidemia</th>\n",
       "      <th>Suscetíveis</th>\n",
       "      <th>Expostos</th>\n",
       "      <th>Infectados</th>\n",
       "      <th>Recuperados</th>\n",
       "      <th>Óbitos</th>\n",
       "    </tr>\n",
       "  </thead>\n",
       "  <tbody>\n",
       "    <tr>\n",
       "      <th>count</th>\n",
       "      <td>250</td>\n",
       "      <td>250</td>\n",
       "      <td>250</td>\n",
       "      <td>250</td>\n",
       "      <td>250</td>\n",
       "      <td>250</td>\n",
       "    </tr>\n",
       "    <tr>\n",
       "      <th>mean</th>\n",
       "      <td>124</td>\n",
       "      <td>7,065,276</td>\n",
       "      <td>238</td>\n",
       "      <td>429</td>\n",
       "      <td>9,211</td>\n",
       "      <td>27</td>\n",
       "    </tr>\n",
       "    <tr>\n",
       "      <th>std</th>\n",
       "      <td>72</td>\n",
       "      <td>4,225</td>\n",
       "      <td>762</td>\n",
       "      <td>1,036</td>\n",
       "      <td>4,548</td>\n",
       "      <td>13</td>\n",
       "    </tr>\n",
       "    <tr>\n",
       "      <th>min</th>\n",
       "      <td>0</td>\n",
       "      <td>7,063,284</td>\n",
       "      <td>0</td>\n",
       "      <td>0</td>\n",
       "      <td>0</td>\n",
       "      <td>0</td>\n",
       "    </tr>\n",
       "    <tr>\n",
       "      <th>25%</th>\n",
       "      <td>62</td>\n",
       "      <td>7,063,284</td>\n",
       "      <td>0</td>\n",
       "      <td>0</td>\n",
       "      <td>9,109</td>\n",
       "      <td>26</td>\n",
       "    </tr>\n",
       "    <tr>\n",
       "      <th>50%</th>\n",
       "      <td>124</td>\n",
       "      <td>7,063,285</td>\n",
       "      <td>1</td>\n",
       "      <td>3</td>\n",
       "      <td>11,853</td>\n",
       "      <td>34</td>\n",
       "    </tr>\n",
       "    <tr>\n",
       "      <th>75%</th>\n",
       "      <td>187</td>\n",
       "      <td>7,063,560</td>\n",
       "      <td>36</td>\n",
       "      <td>153</td>\n",
       "      <td>11,863</td>\n",
       "      <td>34</td>\n",
       "    </tr>\n",
       "    <tr>\n",
       "      <th>max</th>\n",
       "      <td>249</td>\n",
       "      <td>7,075,180</td>\n",
       "      <td>5,105</td>\n",
       "      <td>4,691</td>\n",
       "      <td>11,863</td>\n",
       "      <td>34</td>\n",
       "    </tr>\n",
       "  </tbody>\n",
       "</table>\n",
       "</div>"
      ],
      "text/plain": [
       "       Dia da Epidemia  Suscetíveis  Expostos  Infectados  Recuperados  Óbitos\n",
       "count              250          250       250         250          250     250\n",
       "mean               124    7,065,276       238         429        9,211      27\n",
       "std                 72        4,225       762       1,036        4,548      13\n",
       "min                  0    7,063,284         0           0            0       0\n",
       "25%                 62    7,063,284         0           0        9,109      26\n",
       "50%                124    7,063,285         1           3       11,853      34\n",
       "75%                187    7,063,560        36         153       11,863      34\n",
       "max                249    7,075,180     5,105       4,691       11,863      34"
      ]
     },
     "execution_count": 41,
     "metadata": {},
     "output_type": "execute_result"
    }
   ],
   "source": [
    "df.describe()"
   ]
  }
 ],
 "metadata": {
  "colab": {
   "collapsed_sections": [
    "UUG85HqL2QEt",
    "ZuuEGEUpiHEX"
   ],
   "name": "part_three.ipynb",
   "provenance": []
  },
  "kernelspec": {
   "display_name": "Python 3",
   "language": "python",
   "name": "python3"
  },
  "language_info": {
   "codemirror_mode": {
    "name": "ipython",
    "version": 3
   },
   "file_extension": ".py",
   "mimetype": "text/x-python",
   "name": "python",
   "nbconvert_exporter": "python",
   "pygments_lexer": "ipython3",
   "version": "3.7.3"
  }
 },
 "nbformat": 4,
 "nbformat_minor": 1
}
